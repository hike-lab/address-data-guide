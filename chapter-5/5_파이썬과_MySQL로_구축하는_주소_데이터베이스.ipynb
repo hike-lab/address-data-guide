{
 "cells": [
  {
   "cell_type": "markdown",
   "metadata": {},
   "source": [
    "# 5장. 파이썬과 MySQL로 구축하는 주소 데이터베이스 "
   ]
  },
  {
   "cell_type": "markdown",
   "metadata": {},
   "source": [
    "## 5.2 프로젝트 환경 구축하기 \n",
    "\n",
    "### 파이썬 노트북으로 MySQL 연결하기"
   ]
  },
  {
   "cell_type": "code",
   "execution_count": 11,
   "metadata": {},
   "outputs": [
    {
     "name": "stdout",
     "output_type": "stream",
     "text": [
      "Requirement already satisfied: pymysql in /opt/homebrew/Caskroom/miniforge/base/lib/python3.9/site-packages (1.1.0)\n"
     ]
    }
   ],
   "source": [
    "!pip3 install pymysql"
   ]
  },
  {
   "cell_type": "code",
   "execution_count": 1,
   "metadata": {},
   "outputs": [
    {
     "name": "stdout",
     "output_type": "stream",
     "text": [
      "{'Database': 'address'}\n",
      "{'Database': 'information_schema'}\n",
      "{'Database': 'mysql'}\n",
      "{'Database': 'performance_schema'}\n",
      "{'Database': 'sys'}\n"
     ]
    }
   ],
   "source": [
    "import pymysql\n",
    "\n",
    "def init_connection():\n",
    "    connection = pymysql.connect(\n",
    "        host=\"localhost\",\n",
    "        port=3306,\n",
    "        user=\"root\",\n",
    "        password=\"root\",\n",
    "        cursorclass=pymysql.cursors.DictCursor,\n",
    "        charset=\"utf8\",\n",
    "    )\n",
    "    return connection\n",
    "\n",
    "sql = \"SHOW DATABASES;\"\n",
    "conn = init_connection()\n",
    "\n",
    "with conn:\n",
    "    with conn.cursor() as cur:\n",
    "        cur.execute(sql)\n",
    "        for data in cur:\n",
    "            print(data)"
   ]
  },
  {
   "cell_type": "markdown",
   "metadata": {},
   "source": [
    "## 5.3 데이터베이스 생성하기"
   ]
  },
  {
   "cell_type": "markdown",
   "metadata": {},
   "source": [
    "### 데이터베이스 생성하기"
   ]
  },
  {
   "cell_type": "code",
   "execution_count": 13,
   "metadata": {},
   "outputs": [],
   "source": [
    "conn = init_connection()\n",
    "sql = \"CREATE DATABASE address DEFAULT CHARACTER SET utf8;\"\n",
    "\n",
    "with conn:\n",
    "    with conn.cursor() as cur:\n",
    "        cur.execute(sql)\n",
    "        conn.commit()"
   ]
  },
  {
   "cell_type": "code",
   "execution_count": 14,
   "metadata": {},
   "outputs": [
    {
     "name": "stdout",
     "output_type": "stream",
     "text": [
      "{'Database': 'address'}\n",
      "{'Database': 'information_schema'}\n",
      "{'Database': 'mysql'}\n",
      "{'Database': 'performance_schema'}\n",
      "{'Database': 'sys'}\n"
     ]
    }
   ],
   "source": [
    "conn = init_connection()\n",
    "sql = \"SHOW DATABASES;\"\n",
    "\n",
    "with conn:\n",
    "    with conn.cursor() as cur:\n",
    "        cur.execute(sql)\n",
    "        for data in cur:\n",
    "            print(data)"
   ]
  },
  {
   "cell_type": "markdown",
   "metadata": {},
   "source": [
    "## 5.4 테이블 생성하기"
   ]
  },
  {
   "cell_type": "markdown",
   "metadata": {},
   "source": [
    "### 테이블 생성하기"
   ]
  },
  {
   "cell_type": "code",
   "execution_count": 7,
   "metadata": {},
   "outputs": [],
   "source": [
    "def init_db_connection():\n",
    "    connection = pymysql.connect(\n",
    "        host=\"localhost\",\n",
    "        port=3306,\n",
    "        user=\"root\",\n",
    "        password=\"root\",\n",
    "        database=\"address\",\n",
    "        cursorclass=pymysql.cursors.DictCursor,\n",
    "        charset=\"utf8\",\n",
    "        local_infile=True\n",
    "    )\n",
    "    return connection\n",
    "\n",
    "def query_get(sql):\n",
    "    connection = init_db_connection()\n",
    "    with connection:\n",
    "        with connection.cursor() as cursor:\n",
    "            cursor.execute(sql)\n",
    "            return cursor.fetchall()\n",
    "\n",
    "def query_update(sql):\n",
    "    connection = init_db_connection()\n",
    "    with connection:\n",
    "        with connection.cursor() as cursor:\n",
    "            cursor.execute(sql)\n",
    "            connection.commit()\n",
    "            return True"
   ]
  },
  {
   "cell_type": "code",
   "execution_count": 16,
   "metadata": {},
   "outputs": [
    {
     "data": {
      "text/plain": [
       "True"
      ]
     },
     "execution_count": 16,
     "metadata": {},
     "output_type": "execute_result"
    }
   ],
   "source": [
    "sql = '''\n",
    "    CREATE TABLE `rnaddrkor` (\n",
    "        `도로명주소관리번호` varchar(26) NOT NULL,\n",
    "        `법정동코드` varchar(10),\n",
    "        `시도명` varchar(40),\n",
    "        `시군구명` varchar(40),\n",
    "        `읍면동명` varchar(40),\n",
    "        `리명` varchar(40),\n",
    "        `산여부` varchar(1),\n",
    "        `번지` varchar(4),\n",
    "        `호` varchar(4),\n",
    "        `도로명코드` varchar(12) NOT NULL,\n",
    "        `도로명` varchar(80),\n",
    "        `지하여부` varchar(1) NOT NULL,\n",
    "        `건물본번` int(5) NOT NULL,\n",
    "        `건물부번` int(5) NOT NULL,\n",
    "        `행정동코드` varchar(60),\n",
    "        `행정동명` varchar(60),\n",
    "        `기초구역번호(우편번호)` varchar(5),\n",
    "        `이전도로명주소` varchar(400),\n",
    "        `효력발생일` varchar(8),\n",
    "        `공동주택구분` varchar(1),\n",
    "        `이동사유코드` varchar(2),\n",
    "        `건축물대장건물명` varchar(400),\n",
    "        `시군구용건물명` varchar(400),\n",
    "        `비고` varchar(200),\n",
    "        PRIMARY KEY (`도로명주소관리번호`, `도로명코드`, `지하여부`, `건물본번`, `건물부번`)\n",
    "    );\n",
    "'''\n",
    "\n",
    "query_update(sql)"
   ]
  },
  {
   "cell_type": "code",
   "execution_count": 17,
   "metadata": {},
   "outputs": [
    {
     "data": {
      "text/plain": [
       "True"
      ]
     },
     "execution_count": 17,
     "metadata": {},
     "output_type": "execute_result"
    }
   ],
   "source": [
    "sql = '''\n",
    "    CREATE TABLE `jibun_rnaddrkor` (\n",
    "        `도로명주소관리번호` varchar(26) NOT NULL,\n",
    "        `법정동코드` varchar(10) NOT NULL,\n",
    "        `시도명` varchar(40),\n",
    "        `시군구명` varchar(40),\n",
    "        `법정읍면동명` varchar(40),\n",
    "        `법정리명` varchar(40),\n",
    "        `산여부` varchar(1) NOT NULL,\n",
    "        `지번본번(번지)` int(4) NOT NULL,\n",
    "        `지번부번(호)` int(4) NOT NULL,\n",
    "        `도로명코드` varchar(12),\n",
    "        `지하여부` varchar(1),\n",
    "        `건물본번` int(5),\n",
    "        `건물부번` int(5),\n",
    "        `이동사유코드` varchar(2),\n",
    "        PRIMARY KEY (`도로명주소관리번호`, `법정동코드`, `산여부`, `지번본번(번지)`, `지번부번(호)`)\n",
    "    );\n",
    "'''\n",
    "\n",
    "query_update(sql)"
   ]
  },
  {
   "cell_type": "code",
   "execution_count": 18,
   "metadata": {},
   "outputs": [
    {
     "data": {
      "text/plain": [
       "[{'Tables_in_address': 'jibun_rnaddrkor'}, {'Tables_in_address': 'rnaddrkor'}]"
      ]
     },
     "execution_count": 18,
     "metadata": {},
     "output_type": "execute_result"
    }
   ],
   "source": [
    "query_get(\"SHOW TABLES;\")"
   ]
  },
  {
   "cell_type": "code",
   "execution_count": 19,
   "metadata": {},
   "outputs": [
    {
     "data": {
      "text/plain": [
       "[{'Field': '도로명주소관리번호',\n",
       "  'Type': 'varchar(26)',\n",
       "  'Null': 'NO',\n",
       "  'Key': 'PRI',\n",
       "  'Default': None,\n",
       "  'Extra': ''},\n",
       " {'Field': '법정동코드',\n",
       "  'Type': 'varchar(10)',\n",
       "  'Null': 'YES',\n",
       "  'Key': '',\n",
       "  'Default': None,\n",
       "  'Extra': ''},\n",
       " {'Field': '시도명',\n",
       "  'Type': 'varchar(40)',\n",
       "  'Null': 'YES',\n",
       "  'Key': '',\n",
       "  'Default': None,\n",
       "  'Extra': ''},\n",
       " {'Field': '시군구명',\n",
       "  'Type': 'varchar(40)',\n",
       "  'Null': 'YES',\n",
       "  'Key': '',\n",
       "  'Default': None,\n",
       "  'Extra': ''},\n",
       " {'Field': '읍면동명',\n",
       "  'Type': 'varchar(40)',\n",
       "  'Null': 'YES',\n",
       "  'Key': '',\n",
       "  'Default': None,\n",
       "  'Extra': ''},\n",
       " {'Field': '리명',\n",
       "  'Type': 'varchar(40)',\n",
       "  'Null': 'YES',\n",
       "  'Key': '',\n",
       "  'Default': None,\n",
       "  'Extra': ''},\n",
       " {'Field': '산여부',\n",
       "  'Type': 'varchar(1)',\n",
       "  'Null': 'YES',\n",
       "  'Key': '',\n",
       "  'Default': None,\n",
       "  'Extra': ''},\n",
       " {'Field': '번지',\n",
       "  'Type': 'varchar(4)',\n",
       "  'Null': 'YES',\n",
       "  'Key': '',\n",
       "  'Default': None,\n",
       "  'Extra': ''},\n",
       " {'Field': '호',\n",
       "  'Type': 'varchar(4)',\n",
       "  'Null': 'YES',\n",
       "  'Key': '',\n",
       "  'Default': None,\n",
       "  'Extra': ''},\n",
       " {'Field': '도로명코드',\n",
       "  'Type': 'varchar(12)',\n",
       "  'Null': 'NO',\n",
       "  'Key': 'PRI',\n",
       "  'Default': None,\n",
       "  'Extra': ''},\n",
       " {'Field': '도로명',\n",
       "  'Type': 'varchar(80)',\n",
       "  'Null': 'YES',\n",
       "  'Key': '',\n",
       "  'Default': None,\n",
       "  'Extra': ''},\n",
       " {'Field': '지하여부',\n",
       "  'Type': 'varchar(1)',\n",
       "  'Null': 'NO',\n",
       "  'Key': 'PRI',\n",
       "  'Default': None,\n",
       "  'Extra': ''},\n",
       " {'Field': '건물본번',\n",
       "  'Type': 'int',\n",
       "  'Null': 'NO',\n",
       "  'Key': 'PRI',\n",
       "  'Default': None,\n",
       "  'Extra': ''},\n",
       " {'Field': '건물부번',\n",
       "  'Type': 'int',\n",
       "  'Null': 'NO',\n",
       "  'Key': 'PRI',\n",
       "  'Default': None,\n",
       "  'Extra': ''},\n",
       " {'Field': '행정동코드',\n",
       "  'Type': 'varchar(60)',\n",
       "  'Null': 'YES',\n",
       "  'Key': '',\n",
       "  'Default': None,\n",
       "  'Extra': ''},\n",
       " {'Field': '행정동명',\n",
       "  'Type': 'varchar(60)',\n",
       "  'Null': 'YES',\n",
       "  'Key': '',\n",
       "  'Default': None,\n",
       "  'Extra': ''},\n",
       " {'Field': '기초구역번호(우편번호)',\n",
       "  'Type': 'varchar(5)',\n",
       "  'Null': 'YES',\n",
       "  'Key': '',\n",
       "  'Default': None,\n",
       "  'Extra': ''},\n",
       " {'Field': '이전도로명주소',\n",
       "  'Type': 'varchar(400)',\n",
       "  'Null': 'YES',\n",
       "  'Key': '',\n",
       "  'Default': None,\n",
       "  'Extra': ''},\n",
       " {'Field': '효력발생일',\n",
       "  'Type': 'varchar(8)',\n",
       "  'Null': 'YES',\n",
       "  'Key': '',\n",
       "  'Default': None,\n",
       "  'Extra': ''},\n",
       " {'Field': '공동주택구분',\n",
       "  'Type': 'varchar(1)',\n",
       "  'Null': 'YES',\n",
       "  'Key': '',\n",
       "  'Default': None,\n",
       "  'Extra': ''},\n",
       " {'Field': '이동사유코드',\n",
       "  'Type': 'varchar(2)',\n",
       "  'Null': 'YES',\n",
       "  'Key': '',\n",
       "  'Default': None,\n",
       "  'Extra': ''},\n",
       " {'Field': '건축물대장건물명',\n",
       "  'Type': 'varchar(400)',\n",
       "  'Null': 'YES',\n",
       "  'Key': '',\n",
       "  'Default': None,\n",
       "  'Extra': ''},\n",
       " {'Field': '시군구용건물명',\n",
       "  'Type': 'varchar(400)',\n",
       "  'Null': 'YES',\n",
       "  'Key': '',\n",
       "  'Default': None,\n",
       "  'Extra': ''},\n",
       " {'Field': '비고',\n",
       "  'Type': 'varchar(200)',\n",
       "  'Null': 'YES',\n",
       "  'Key': '',\n",
       "  'Default': None,\n",
       "  'Extra': ''}]"
      ]
     },
     "execution_count": 19,
     "metadata": {},
     "output_type": "execute_result"
    }
   ],
   "source": [
    "query_get(\"DESC rnaddrkor;\")"
   ]
  },
  {
   "cell_type": "markdown",
   "metadata": {},
   "source": [
    "## 5.5 데이터 삽입하기"
   ]
  },
  {
   "cell_type": "markdown",
   "metadata": {},
   "source": [
    "### local infile 허용하기"
   ]
  },
  {
   "cell_type": "code",
   "execution_count": 2,
   "metadata": {},
   "outputs": [],
   "source": [
    "def init_db_connection():\n",
    "    connection = pymysql.connect(\n",
    "        host=\"localhost\",\n",
    "        port=3306,\n",
    "        user=\"root\",\n",
    "        password=\"root\",\n",
    "        database=\"address\",\n",
    "        cursorclass=pymysql.cursors.DictCursor,\n",
    "        charset=\"utf8\",\n",
    "        local_infile=True # 클라이언스 상에서 조건 추가\n",
    "    )\n",
    "    return connection"
   ]
  },
  {
   "cell_type": "markdown",
   "metadata": {},
   "source": [
    "### 데이터 경로 확인하기"
   ]
  },
  {
   "cell_type": "code",
   "execution_count": 21,
   "metadata": {},
   "outputs": [
    {
     "name": "stdout",
     "output_type": "stream",
     "text": [
      "data/rnaddrkor/rnaddrkor_sejong.txt\n",
      "data/rnaddrkor/rnaddrkor_jeonnam.txt\n",
      "data/rnaddrkor/rnaddrkor_seoul.txt\n",
      "data/rnaddrkor/rnaddrkor_ulsan.txt\n",
      "data/rnaddrkor/rnaddrkor_gyeongnam.txt\n",
      "data/rnaddrkor/rnaddrkor_incheon.txt\n",
      "data/rnaddrkor/rnaddrkor_chungnam.txt\n",
      "data/rnaddrkor/rnaddrkor_daejeon.txt\n",
      "data/rnaddrkor/rnaddrkor_daegu.txt\n",
      "data/rnaddrkor/rnaddrkor_chungbuk.txt\n",
      "data/rnaddrkor/rnaddrkor_gangwon.txt\n",
      "data/rnaddrkor/rnaddrkor_gyunggi.txt\n",
      "data/rnaddrkor/rnaddrkor_gwangju.txt\n",
      "data/rnaddrkor/rnaddrkor_jeju.txt\n",
      "data/rnaddrkor/rnaddrkor_busan.txt\n",
      "data/rnaddrkor/rnaddrkor_gyeongbuk.txt\n",
      "data/rnaddrkor/rnaddrkor_jeonbuk.txt\n"
     ]
    }
   ],
   "source": [
    "import glob\n",
    "\n",
    "file_list = glob.glob(\"data/rnaddrkor/rnaddrkor_*.txt\")\n",
    "\n",
    "for file in file_list:\n",
    "    print(file)"
   ]
  },
  {
   "cell_type": "markdown",
   "metadata": {},
   "source": [
    "### 데이터 업로드하기\n",
    "\n",
    "#### 도로명주소 업로드하기"
   ]
  },
  {
   "cell_type": "code",
   "execution_count": 22,
   "metadata": {},
   "outputs": [
    {
     "name": "stderr",
     "output_type": "stream",
     "text": [
      "Processing files:   0%|          | 0/17 [00:00<?, ?it/s]"
     ]
    },
    {
     "name": "stdout",
     "output_type": "stream",
     "text": [
      "Processing file: /Users/harampark/Desktop/labs/3.study/address-data-guide/code/chapter-6/data/rnaddrkor/rnaddrkor_sejong.txt, Number of lines: 27510\n"
     ]
    },
    {
     "name": "stderr",
     "output_type": "stream",
     "text": [
      "Processing files:   6%|▌         | 1/17 [00:00<00:10,  1.48it/s]"
     ]
    },
    {
     "name": "stdout",
     "output_type": "stream",
     "text": [
      "Processing file: /Users/harampark/Desktop/labs/3.study/address-data-guide/code/chapter-6/data/rnaddrkor/rnaddrkor_jeonnam.txt, Number of lines: 598298\n"
     ]
    },
    {
     "name": "stderr",
     "output_type": "stream",
     "text": [
      "Processing files:  12%|█▏        | 2/17 [00:10<01:32,  6.17s/it]"
     ]
    },
    {
     "name": "stdout",
     "output_type": "stream",
     "text": [
      "Processing file: /Users/harampark/Desktop/labs/3.study/address-data-guide/code/chapter-6/data/rnaddrkor/rnaddrkor_seoul.txt, Number of lines: 530721\n"
     ]
    },
    {
     "name": "stderr",
     "output_type": "stream",
     "text": [
      "Processing files:  18%|█▊        | 3/17 [00:17<01:32,  6.60s/it]"
     ]
    },
    {
     "name": "stdout",
     "output_type": "stream",
     "text": [
      "Processing file: /Users/harampark/Desktop/labs/3.study/address-data-guide/code/chapter-6/data/rnaddrkor/rnaddrkor_ulsan.txt, Number of lines: 104458\n"
     ]
    },
    {
     "name": "stderr",
     "output_type": "stream",
     "text": [
      "Processing files:  24%|██▎       | 4/17 [00:19<00:58,  4.51s/it]"
     ]
    },
    {
     "name": "stdout",
     "output_type": "stream",
     "text": [
      "Processing file: /Users/harampark/Desktop/labs/3.study/address-data-guide/code/chapter-6/data/rnaddrkor/rnaddrkor_gyeongnam.txt, Number of lines: 653480\n"
     ]
    },
    {
     "name": "stderr",
     "output_type": "stream",
     "text": [
      "Processing files:  29%|██▉       | 5/17 [00:29<01:18,  6.56s/it]"
     ]
    },
    {
     "name": "stdout",
     "output_type": "stream",
     "text": [
      "Processing file: /Users/harampark/Desktop/labs/3.study/address-data-guide/code/chapter-6/data/rnaddrkor/rnaddrkor_incheon.txt, Number of lines: 186039\n"
     ]
    },
    {
     "name": "stderr",
     "output_type": "stream",
     "text": [
      "Processing files:  35%|███▌      | 6/17 [00:31<00:56,  5.12s/it]"
     ]
    },
    {
     "name": "stdout",
     "output_type": "stream",
     "text": [
      "Processing file: /Users/harampark/Desktop/labs/3.study/address-data-guide/code/chapter-6/data/rnaddrkor/rnaddrkor_chungnam.txt, Number of lines: 491608\n"
     ]
    },
    {
     "name": "stderr",
     "output_type": "stream",
     "text": [
      "Processing files:  41%|████      | 7/17 [00:38<00:58,  5.83s/it]"
     ]
    },
    {
     "name": "stdout",
     "output_type": "stream",
     "text": [
      "Processing file: /Users/harampark/Desktop/labs/3.study/address-data-guide/code/chapter-6/data/rnaddrkor/rnaddrkor_daejeon.txt, Number of lines: 114026\n"
     ]
    },
    {
     "name": "stderr",
     "output_type": "stream",
     "text": [
      "Processing files:  47%|████▋     | 8/17 [00:40<00:41,  4.56s/it]"
     ]
    },
    {
     "name": "stdout",
     "output_type": "stream",
     "text": [
      "Processing file: /Users/harampark/Desktop/labs/3.study/address-data-guide/code/chapter-6/data/rnaddrkor/rnaddrkor_daegu.txt, Number of lines: 229727\n"
     ]
    },
    {
     "name": "stderr",
     "output_type": "stream",
     "text": [
      "Processing files:  53%|█████▎    | 9/17 [00:44<00:34,  4.35s/it]"
     ]
    },
    {
     "name": "stdout",
     "output_type": "stream",
     "text": [
      "Processing file: /Users/harampark/Desktop/labs/3.study/address-data-guide/code/chapter-6/data/rnaddrkor/rnaddrkor_chungbuk.txt, Number of lines: 335225\n"
     ]
    },
    {
     "name": "stderr",
     "output_type": "stream",
     "text": [
      "Processing files:  59%|█████▉    | 10/17 [00:49<00:31,  4.51s/it]"
     ]
    },
    {
     "name": "stdout",
     "output_type": "stream",
     "text": [
      "Processing file: /Users/harampark/Desktop/labs/3.study/address-data-guide/code/chapter-6/data/rnaddrkor/rnaddrkor_gangwon.txt, Number of lines: 364686\n"
     ]
    },
    {
     "name": "stderr",
     "output_type": "stream",
     "text": [
      "Processing files:  65%|██████▍   | 11/17 [00:55<00:29,  4.90s/it]"
     ]
    },
    {
     "name": "stdout",
     "output_type": "stream",
     "text": [
      "Processing file: /Users/harampark/Desktop/labs/3.study/address-data-guide/code/chapter-6/data/rnaddrkor/rnaddrkor_gyunggi.txt, Number of lines: 1020563\n"
     ]
    },
    {
     "name": "stderr",
     "output_type": "stream",
     "text": [
      "Processing files:  71%|███████   | 12/17 [01:10<00:40,  8.19s/it]"
     ]
    },
    {
     "name": "stdout",
     "output_type": "stream",
     "text": [
      "Processing file: /Users/harampark/Desktop/labs/3.study/address-data-guide/code/chapter-6/data/rnaddrkor/rnaddrkor_gwangju.txt, Number of lines: 120474\n"
     ]
    },
    {
     "name": "stderr",
     "output_type": "stream",
     "text": [
      "Processing files:  76%|███████▋  | 13/17 [01:12<00:24,  6.23s/it]"
     ]
    },
    {
     "name": "stdout",
     "output_type": "stream",
     "text": [
      "Processing file: /Users/harampark/Desktop/labs/3.study/address-data-guide/code/chapter-6/data/rnaddrkor/rnaddrkor_jeju.txt, Number of lines: 155426\n"
     ]
    },
    {
     "name": "stderr",
     "output_type": "stream",
     "text": [
      "Processing files:  82%|████████▏ | 14/17 [01:14<00:15,  5.03s/it]"
     ]
    },
    {
     "name": "stdout",
     "output_type": "stream",
     "text": [
      "Processing file: /Users/harampark/Desktop/labs/3.study/address-data-guide/code/chapter-6/data/rnaddrkor/rnaddrkor_busan.txt, Number of lines: 301822\n"
     ]
    },
    {
     "name": "stderr",
     "output_type": "stream",
     "text": [
      "Processing files:  88%|████████▊ | 15/17 [01:18<00:09,  4.62s/it]"
     ]
    },
    {
     "name": "stdout",
     "output_type": "stream",
     "text": [
      "Processing file: /Users/harampark/Desktop/labs/3.study/address-data-guide/code/chapter-6/data/rnaddrkor/rnaddrkor_gyeongbuk.txt, Number of lines: 713862\n"
     ]
    },
    {
     "name": "stderr",
     "output_type": "stream",
     "text": [
      "Processing files:  94%|█████████▍| 16/17 [01:31<00:07,  7.21s/it]"
     ]
    },
    {
     "name": "stdout",
     "output_type": "stream",
     "text": [
      "Processing file: /Users/harampark/Desktop/labs/3.study/address-data-guide/code/chapter-6/data/rnaddrkor/rnaddrkor_jeonbuk.txt, Number of lines: 437063\n"
     ]
    },
    {
     "name": "stderr",
     "output_type": "stream",
     "text": [
      "Processing files: 100%|██████████| 17/17 [01:38<00:00,  5.77s/it]"
     ]
    },
    {
     "name": "stdout",
     "output_type": "stream",
     "text": [
      "Total number of lines: 6384988\n"
     ]
    },
    {
     "name": "stderr",
     "output_type": "stream",
     "text": [
      "\n"
     ]
    }
   ],
   "source": [
    "import os\n",
    "from tqdm import tqdm\n",
    "\n",
    "total_line_count = 0  # 총 행수를 저장할 변수\n",
    "\n",
    "for file in tqdm(file_list, desc='Processing files'):\n",
    "    file_path = os.path.abspath(file)\n",
    "\n",
    "    # cp949로 파일 읽고 행 불러오기\n",
    "    with open(file_path, 'r', encoding='cp949', errors='ignore') as f:\n",
    "        lines = f.readlines()\n",
    "    \n",
    "    # 행 수 계산\n",
    "    line_count = len(lines)\n",
    "    \n",
    "    # 총 행 수에 더하기\n",
    "    total_line_count += line_count\n",
    "\n",
    "    # cp949로 읽은 파일을 utf8로 임시파일에 저장\n",
    "    temp_file_path = \"temp_file.txt\"\n",
    "    with open(temp_file_path, 'w', encoding='utf8') as f:\n",
    "        f.writelines(lines)\n",
    "\n",
    "    sql = f'''\n",
    "        LOAD DATA LOCAL INFILE \"{temp_file_path}\" INTO TABLE rnaddrkor\n",
    "        FIELDS TERMINATED BY \"|\";\n",
    "    '''\n",
    "    print(f\"Processing file: {file_path}, Number of lines: {line_count}\")\n",
    "    query_update(sql)\n",
    "\n",
    "    # 임시파일 삭제\n",
    "    os.remove(temp_file_path)\n",
    "\n",
    "print(f\"Total number of lines: {total_line_count}\")"
   ]
  },
  {
   "cell_type": "code",
   "execution_count": 23,
   "metadata": {},
   "outputs": [
    {
     "data": {
      "text/plain": [
       "[{'도로명주소관리번호': '11110101310001200009400000',\n",
       "  '법정동코드': '1111010100',\n",
       "  '시도명': '서울특별시',\n",
       "  '시군구명': '종로구',\n",
       "  '읍면동명': '청운동',\n",
       "  '리명': '',\n",
       "  '산여부': '0',\n",
       "  '번지': '144',\n",
       "  '호': '3',\n",
       "  '도로명코드': '111103100012',\n",
       "  '도로명': '자하문로',\n",
       "  '지하여부': '0',\n",
       "  '건물본번': 94,\n",
       "  '건물부번': 0,\n",
       "  '행정동코드': '1111051500',\n",
       "  '행정동명': '청운효자동',\n",
       "  '기초구역번호(우편번호)': '03047',\n",
       "  '이전도로명주소': '',\n",
       "  '효력발생일': '20110729',\n",
       "  '공동주택구분': '0',\n",
       "  '이동사유코드': '',\n",
       "  '건축물대장건물명': '',\n",
       "  '시군구용건물명': '',\n",
       "  '비고': ''},\n",
       " {'도로명주소관리번호': '11110101310001200009600000',\n",
       "  '법정동코드': '1111010100',\n",
       "  '시도명': '서울특별시',\n",
       "  '시군구명': '종로구',\n",
       "  '읍면동명': '청운동',\n",
       "  '리명': '',\n",
       "  '산여부': '0',\n",
       "  '번지': '108',\n",
       "  '호': '14',\n",
       "  '도로명코드': '111103100012',\n",
       "  '도로명': '자하문로',\n",
       "  '지하여부': '0',\n",
       "  '건물본번': 96,\n",
       "  '건물부번': 0,\n",
       "  '행정동코드': '1111051500',\n",
       "  '행정동명': '청운효자동',\n",
       "  '기초구역번호(우편번호)': '03047',\n",
       "  '이전도로명주소': '',\n",
       "  '효력발생일': '20110729',\n",
       "  '공동주택구분': '1',\n",
       "  '이동사유코드': '',\n",
       "  '건축물대장건물명': '',\n",
       "  '시군구용건물명': '평안빌',\n",
       "  '비고': ''},\n",
       " {'도로명주소관리번호': '11110101310001200009800000',\n",
       "  '법정동코드': '1111010100',\n",
       "  '시도명': '서울특별시',\n",
       "  '시군구명': '종로구',\n",
       "  '읍면동명': '청운동',\n",
       "  '리명': '',\n",
       "  '산여부': '0',\n",
       "  '번지': '108',\n",
       "  '호': '13',\n",
       "  '도로명코드': '111103100012',\n",
       "  '도로명': '자하문로',\n",
       "  '지하여부': '0',\n",
       "  '건물본번': 98,\n",
       "  '건물부번': 0,\n",
       "  '행정동코드': '1111051500',\n",
       "  '행정동명': '청운효자동',\n",
       "  '기초구역번호(우편번호)': '03047',\n",
       "  '이전도로명주소': '',\n",
       "  '효력발생일': '20110729',\n",
       "  '공동주택구분': '1',\n",
       "  '이동사유코드': '',\n",
       "  '건축물대장건물명': '',\n",
       "  '시군구용건물명': '청운빌라',\n",
       "  '비고': ''},\n",
       " {'도로명주소관리번호': '11110101310001200009900003',\n",
       "  '법정동코드': '1111010100',\n",
       "  '시도명': '서울특별시',\n",
       "  '시군구명': '종로구',\n",
       "  '읍면동명': '청운동',\n",
       "  '리명': '',\n",
       "  '산여부': '0',\n",
       "  '번지': '134',\n",
       "  '호': '2',\n",
       "  '도로명코드': '111103100012',\n",
       "  '도로명': '자하문로',\n",
       "  '지하여부': '0',\n",
       "  '건물본번': 99,\n",
       "  '건물부번': 3,\n",
       "  '행정동코드': '1111051500',\n",
       "  '행정동명': '청운효자동',\n",
       "  '기초구역번호(우편번호)': '03032',\n",
       "  '이전도로명주소': '',\n",
       "  '효력발생일': '20110729',\n",
       "  '공동주택구분': '1',\n",
       "  '이동사유코드': '',\n",
       "  '건축물대장건물명': '풍림팍사이드빌라',\n",
       "  '시군구용건물명': '풍림팍사이드빌라',\n",
       "  '비고': ''},\n",
       " {'도로명주소관리번호': '11110101310001200009900004',\n",
       "  '법정동코드': '1111010100',\n",
       "  '시도명': '서울특별시',\n",
       "  '시군구명': '종로구',\n",
       "  '읍면동명': '청운동',\n",
       "  '리명': '',\n",
       "  '산여부': '0',\n",
       "  '번지': '130',\n",
       "  '호': '2',\n",
       "  '도로명코드': '111103100012',\n",
       "  '도로명': '자하문로',\n",
       "  '지하여부': '0',\n",
       "  '건물본번': 99,\n",
       "  '건물부번': 4,\n",
       "  '행정동코드': '1111051500',\n",
       "  '행정동명': '청운효자동',\n",
       "  '기초구역번호(우편번호)': '03032',\n",
       "  '이전도로명주소': '',\n",
       "  '효력발생일': '20110729',\n",
       "  '공동주택구분': '0',\n",
       "  '이동사유코드': '',\n",
       "  '건축물대장건물명': '',\n",
       "  '시군구용건물명': '경복빌라',\n",
       "  '비고': ''}]"
      ]
     },
     "execution_count": 23,
     "metadata": {},
     "output_type": "execute_result"
    }
   ],
   "source": [
    "sql = \"SELECT * FROM rnaddrkor LIMIT 5;\"\n",
    "query_get(sql)"
   ]
  },
  {
   "cell_type": "code",
   "execution_count": 24,
   "metadata": {},
   "outputs": [
    {
     "data": {
      "text/plain": [
       "[{'COUNT(*)': 6384988}]"
      ]
     },
     "execution_count": 24,
     "metadata": {},
     "output_type": "execute_result"
    }
   ],
   "source": [
    "sql = \"SELECT COUNT(*) FROM rnaddrkor;\"\n",
    "query_get(sql)"
   ]
  },
  {
   "cell_type": "markdown",
   "metadata": {},
   "source": [
    "#### 지번주소 업로드하기"
   ]
  },
  {
   "cell_type": "code",
   "execution_count": 25,
   "metadata": {},
   "outputs": [
    {
     "name": "stdout",
     "output_type": "stream",
     "text": [
      "data/rnaddrkor/jibun_rnaddrkor_daegu.txt\n",
      "data/rnaddrkor/jibun_rnaddrkor_jeju.txt\n",
      "data/rnaddrkor/jibun_rnaddrkor_chungbuk.txt\n",
      "data/rnaddrkor/jibun_rnaddrkor_gyunggi.txt\n",
      "data/rnaddrkor/jibun_rnaddrkor_gwangju.txt\n",
      "data/rnaddrkor/jibun_rnaddrkor_gangwon.txt\n",
      "data/rnaddrkor/jibun_rnaddrkor_gyeongbuk.txt\n",
      "data/rnaddrkor/jibun_rnaddrkor_jeonbuk.txt\n",
      "data/rnaddrkor/jibun_rnaddrkor_ulsan.txt\n",
      "data/rnaddrkor/jibun_rnaddrkor_seoul.txt\n",
      "data/rnaddrkor/jibun_rnaddrkor_gyeongnam.txt\n",
      "data/rnaddrkor/jibun_rnaddrkor_jeonnam.txt\n",
      "data/rnaddrkor/jibun_rnaddrkor_busan.txt\n",
      "data/rnaddrkor/jibun_rnaddrkor_incheon.txt\n",
      "data/rnaddrkor/jibun_rnaddrkor_chungnam.txt\n",
      "data/rnaddrkor/jibun_rnaddrkor_sejong.txt\n",
      "data/rnaddrkor/jibun_rnaddrkor_daejeon.txt\n"
     ]
    }
   ],
   "source": [
    "import glob\n",
    "\n",
    "file_list = glob.glob(\"data/rnaddrkor/jibun_*.txt\")\n",
    "\n",
    "for file in file_list:\n",
    "    print(file)"
   ]
  },
  {
   "cell_type": "code",
   "execution_count": 26,
   "metadata": {},
   "outputs": [
    {
     "name": "stderr",
     "output_type": "stream",
     "text": [
      "Processing files:   0%|          | 0/17 [00:00<?, ?it/s]"
     ]
    },
    {
     "name": "stdout",
     "output_type": "stream",
     "text": [
      "Processing file: /Users/harampark/Desktop/labs/3.study/address-data-guide/code/chapter-6/data/rnaddrkor/jibun_rnaddrkor_daegu.txt, Number of lines: 28049\n"
     ]
    },
    {
     "name": "stderr",
     "output_type": "stream",
     "text": [
      "Processing files:  12%|█▏        | 2/17 [00:00<00:05,  2.79it/s]"
     ]
    },
    {
     "name": "stdout",
     "output_type": "stream",
     "text": [
      "Processing file: /Users/harampark/Desktop/labs/3.study/address-data-guide/code/chapter-6/data/rnaddrkor/jibun_rnaddrkor_jeju.txt, Number of lines: 19240\n",
      "Processing file: /Users/harampark/Desktop/labs/3.study/address-data-guide/code/chapter-6/data/rnaddrkor/jibun_rnaddrkor_chungbuk.txt, Number of lines: 84792\n"
     ]
    },
    {
     "name": "stderr",
     "output_type": "stream",
     "text": [
      "Processing files:  18%|█▊        | 3/17 [00:01<00:08,  1.69it/s]"
     ]
    },
    {
     "name": "stdout",
     "output_type": "stream",
     "text": [
      "Processing file: /Users/harampark/Desktop/labs/3.study/address-data-guide/code/chapter-6/data/rnaddrkor/jibun_rnaddrkor_gyunggi.txt, Number of lines: 285178\n"
     ]
    },
    {
     "name": "stderr",
     "output_type": "stream",
     "text": [
      "Processing files:  29%|██▉       | 5/17 [00:04<00:12,  1.08s/it]"
     ]
    },
    {
     "name": "stdout",
     "output_type": "stream",
     "text": [
      "Processing file: /Users/harampark/Desktop/labs/3.study/address-data-guide/code/chapter-6/data/rnaddrkor/jibun_rnaddrkor_gwangju.txt, Number of lines: 17851\n",
      "Processing file: /Users/harampark/Desktop/labs/3.study/address-data-guide/code/chapter-6/data/rnaddrkor/jibun_rnaddrkor_gangwon.txt, Number of lines: 178859\n"
     ]
    },
    {
     "name": "stderr",
     "output_type": "stream",
     "text": [
      "Processing files:  35%|███▌      | 6/17 [00:06<00:15,  1.37s/it]"
     ]
    },
    {
     "name": "stdout",
     "output_type": "stream",
     "text": [
      "Processing file: /Users/harampark/Desktop/labs/3.study/address-data-guide/code/chapter-6/data/rnaddrkor/jibun_rnaddrkor_gyeongbuk.txt, Number of lines: 143788\n"
     ]
    },
    {
     "name": "stderr",
     "output_type": "stream",
     "text": [
      "Processing files:  41%|████      | 7/17 [00:08<00:14,  1.40s/it]"
     ]
    },
    {
     "name": "stdout",
     "output_type": "stream",
     "text": [
      "Processing file: /Users/harampark/Desktop/labs/3.study/address-data-guide/code/chapter-6/data/rnaddrkor/jibun_rnaddrkor_jeonbuk.txt, Number of lines: 114937\n"
     ]
    },
    {
     "name": "stderr",
     "output_type": "stream",
     "text": [
      "Processing files:  53%|█████▎    | 9/17 [00:09<00:07,  1.00it/s]"
     ]
    },
    {
     "name": "stdout",
     "output_type": "stream",
     "text": [
      "Processing file: /Users/harampark/Desktop/labs/3.study/address-data-guide/code/chapter-6/data/rnaddrkor/jibun_rnaddrkor_ulsan.txt, Number of lines: 18629\n",
      "Processing file: /Users/harampark/Desktop/labs/3.study/address-data-guide/code/chapter-6/data/rnaddrkor/jibun_rnaddrkor_seoul.txt, Number of lines: 86986\n"
     ]
    },
    {
     "name": "stderr",
     "output_type": "stream",
     "text": [
      "Processing files:  59%|█████▉    | 10/17 [00:10<00:07,  1.02s/it]"
     ]
    },
    {
     "name": "stdout",
     "output_type": "stream",
     "text": [
      "Processing file: /Users/harampark/Desktop/labs/3.study/address-data-guide/code/chapter-6/data/rnaddrkor/jibun_rnaddrkor_gyeongnam.txt, Number of lines: 300283\n"
     ]
    },
    {
     "name": "stderr",
     "output_type": "stream",
     "text": [
      "Processing files:  65%|██████▍   | 11/17 [00:14<00:10,  1.74s/it]"
     ]
    },
    {
     "name": "stdout",
     "output_type": "stream",
     "text": [
      "Processing file: /Users/harampark/Desktop/labs/3.study/address-data-guide/code/chapter-6/data/rnaddrkor/jibun_rnaddrkor_jeonnam.txt, Number of lines: 308309\n"
     ]
    },
    {
     "name": "stderr",
     "output_type": "stream",
     "text": [
      "Processing files:  71%|███████   | 12/17 [00:17<00:11,  2.31s/it]"
     ]
    },
    {
     "name": "stdout",
     "output_type": "stream",
     "text": [
      "Processing file: /Users/harampark/Desktop/labs/3.study/address-data-guide/code/chapter-6/data/rnaddrkor/jibun_rnaddrkor_busan.txt, Number of lines: 42193\n"
     ]
    },
    {
     "name": "stderr",
     "output_type": "stream",
     "text": [
      "Processing files:  76%|███████▋  | 13/17 [00:18<00:07,  1.76s/it]"
     ]
    },
    {
     "name": "stdout",
     "output_type": "stream",
     "text": [
      "Processing file: /Users/harampark/Desktop/labs/3.study/address-data-guide/code/chapter-6/data/rnaddrkor/jibun_rnaddrkor_incheon.txt, Number of lines: 31745\n"
     ]
    },
    {
     "name": "stderr",
     "output_type": "stream",
     "text": [
      "Processing files:  82%|████████▏ | 14/17 [00:18<00:04,  1.38s/it]"
     ]
    },
    {
     "name": "stdout",
     "output_type": "stream",
     "text": [
      "Processing file: /Users/harampark/Desktop/labs/3.study/address-data-guide/code/chapter-6/data/rnaddrkor/jibun_rnaddrkor_chungnam.txt, Number of lines: 186499\n"
     ]
    },
    {
     "name": "stderr",
     "output_type": "stream",
     "text": [
      "Processing files:  88%|████████▊ | 15/17 [00:21<00:03,  1.62s/it]"
     ]
    },
    {
     "name": "stdout",
     "output_type": "stream",
     "text": [
      "Processing file: /Users/harampark/Desktop/labs/3.study/address-data-guide/code/chapter-6/data/rnaddrkor/jibun_rnaddrkor_sejong.txt, Number of lines: 5327\n",
      "Processing file: /Users/harampark/Desktop/labs/3.study/address-data-guide/code/chapter-6/data/rnaddrkor/jibun_rnaddrkor_daejeon.txt, Number of lines: 11926\n"
     ]
    },
    {
     "name": "stderr",
     "output_type": "stream",
     "text": [
      "Processing files: 100%|██████████| 17/17 [00:21<00:00,  1.25s/it]"
     ]
    },
    {
     "name": "stdout",
     "output_type": "stream",
     "text": [
      "Total number of lines: 1864591\n"
     ]
    },
    {
     "name": "stderr",
     "output_type": "stream",
     "text": [
      "\n"
     ]
    }
   ],
   "source": [
    "import os\n",
    "from tqdm import tqdm\n",
    "\n",
    "total_line_count = 0  # 총 행수를 저장할 변수\n",
    "\n",
    "for file in tqdm(file_list, desc='Processing files'):\n",
    "    file_path = os.path.abspath(file)\n",
    "\n",
    "    # cp949로 파일 읽고 행 불러오기\n",
    "    with open(file_path, 'r', encoding='cp949', errors='ignore') as f:\n",
    "        lines = f.readlines()\n",
    "    \n",
    "    # 행 수 계산\n",
    "    line_count = len(lines)\n",
    "    \n",
    "    # 총 행 수에 더하기\n",
    "    total_line_count += line_count\n",
    "\n",
    "    # cp949로 읽은 파일을 utf8로 임시파일에 저장\n",
    "    temp_file_path = \"temp_file.txt\"\n",
    "    with open(temp_file_path, 'w', encoding='utf8') as f:\n",
    "        f.writelines(lines)\n",
    "\n",
    "    sql = f'''\n",
    "        LOAD DATA LOCAL INFILE \"{temp_file_path}\" INTO TABLE jibun_rnaddrkor\n",
    "        FIELDS TERMINATED BY \"|\";\n",
    "    '''\n",
    "    print(f\"Processing file: {file_path}, Number of lines: {line_count}\")\n",
    "    query_update(sql)\n",
    "\n",
    "    # 임시파일 삭제\n",
    "    os.remove(temp_file_path)\n",
    "\n",
    "print(f\"Total number of lines: {total_line_count}\")"
   ]
  },
  {
   "cell_type": "code",
   "execution_count": 27,
   "metadata": {},
   "outputs": [
    {
     "data": {
      "text/plain": [
       "[{'도로명주소관리번호': '11110101310001200009900004',\n",
       "  '법정동코드': '1111010100',\n",
       "  '시도명': '서울특별시',\n",
       "  '시군구명': '종로구',\n",
       "  '법정읍면동명': '청운동',\n",
       "  '법정리명': '',\n",
       "  '산여부': '0',\n",
       "  '지번본번(번지)': 130,\n",
       "  '지번부번(호)': 3,\n",
       "  '도로명코드': '111103100012',\n",
       "  '지하여부': '0',\n",
       "  '건물본번': 99,\n",
       "  '건물부번': 4,\n",
       "  '이동사유코드': ''},\n",
       " {'도로명주소관리번호': '11110101310001200010100000',\n",
       "  '법정동코드': '1111010100',\n",
       "  '시도명': '서울특별시',\n",
       "  '시군구명': '종로구',\n",
       "  '법정읍면동명': '청운동',\n",
       "  '법정리명': '',\n",
       "  '산여부': '0',\n",
       "  '지번본번(번지)': 129,\n",
       "  '지번부번(호)': 2,\n",
       "  '도로명코드': '111103100012',\n",
       "  '지하여부': '0',\n",
       "  '건물본번': 101,\n",
       "  '건물부번': 0,\n",
       "  '이동사유코드': ''},\n",
       " {'도로명주소관리번호': '11110101310001200010100000',\n",
       "  '법정동코드': '1111010100',\n",
       "  '시도명': '서울특별시',\n",
       "  '시군구명': '종로구',\n",
       "  '법정읍면동명': '청운동',\n",
       "  '법정리명': '',\n",
       "  '산여부': '0',\n",
       "  '지번본번(번지)': 129,\n",
       "  '지번부번(호)': 3,\n",
       "  '도로명코드': '111103100012',\n",
       "  '지하여부': '0',\n",
       "  '건물본번': 101,\n",
       "  '건물부번': 0,\n",
       "  '이동사유코드': ''},\n",
       " {'도로명주소관리번호': '11110101310001200010100000',\n",
       "  '법정동코드': '1111010100',\n",
       "  '시도명': '서울특별시',\n",
       "  '시군구명': '종로구',\n",
       "  '법정읍면동명': '청운동',\n",
       "  '법정리명': '',\n",
       "  '산여부': '0',\n",
       "  '지번본번(번지)': 131,\n",
       "  '지번부번(호)': 1,\n",
       "  '도로명코드': '111103100012',\n",
       "  '지하여부': '0',\n",
       "  '건물본번': 101,\n",
       "  '건물부번': 0,\n",
       "  '이동사유코드': ''},\n",
       " {'도로명주소관리번호': '11110101310001200010300000',\n",
       "  '법정동코드': '1111010100',\n",
       "  '시도명': '서울특별시',\n",
       "  '시군구명': '종로구',\n",
       "  '법정읍면동명': '청운동',\n",
       "  '법정리명': '',\n",
       "  '산여부': '0',\n",
       "  '지번본번(번지)': 129,\n",
       "  '지번부번(호)': 1,\n",
       "  '도로명코드': '111103100012',\n",
       "  '지하여부': '0',\n",
       "  '건물본번': 103,\n",
       "  '건물부번': 0,\n",
       "  '이동사유코드': ''}]"
      ]
     },
     "execution_count": 27,
     "metadata": {},
     "output_type": "execute_result"
    }
   ],
   "source": [
    "sql = \"SELECT * FROM jibun_rnaddrkor LIMIT 5;\"\n",
    "query_get(sql)"
   ]
  },
  {
   "cell_type": "code",
   "execution_count": 28,
   "metadata": {},
   "outputs": [
    {
     "data": {
      "text/plain": [
       "[{'COUNT(*)': 1864591}]"
      ]
     },
     "execution_count": 28,
     "metadata": {},
     "output_type": "execute_result"
    }
   ],
   "source": [
    "sql = \"SELECT COUNT(*) FROM jibun_rnaddrkor;\"\n",
    "query_get(sql)"
   ]
  },
  {
   "cell_type": "markdown",
   "metadata": {},
   "source": [
    "## 5.6 SQL로 데이터 분석하기"
   ]
  },
  {
   "cell_type": "markdown",
   "metadata": {},
   "source": [
    "### 시도별 도로명주소의 개수 분석하기"
   ]
  },
  {
   "cell_type": "code",
   "execution_count": 29,
   "metadata": {},
   "outputs": [
    {
     "data": {
      "text/plain": [
       "True"
      ]
     },
     "execution_count": 29,
     "metadata": {},
     "output_type": "execute_result"
    }
   ],
   "source": [
    "sql = '''\n",
    "CREATE TABLE full_rna_addr AS\n",
    "SELECT DISTINCT A.`기초구역번호(우편번호)` AS 새우편번호,\n",
    "    CONCAT(A.시도명, ' ',\n",
    "        CASE WHEN A.시군구명 = '' THEN '' ELSE CONCAT(A.시군구명, ' ') END,\n",
    "        CASE WHEN A.읍면동명 = '' THEN '' ELSE\n",
    "            CASE WHEN A.리명 = '' THEN '' ELSE CONCAT(A.읍면동명, ' ') END\n",
    "        END,\n",
    "        A.도로명, ' ',\n",
    "        CASE WHEN A.지하여부 = 0 THEN ''\n",
    "            WHEN A.지하여부 = 1 THEN '지하 '\n",
    "            WHEN A.지하여부 = 2 THEN '공중 '\n",
    "            ELSE ''\n",
    "        END,\n",
    "        A.건물본번,\n",
    "        CASE WHEN A.건물부번 = 0 THEN '' ELSE CONCAT('-', A.건물부번) END,\n",
    "        CASE\n",
    "            WHEN A.공동주택구분 = '0' THEN\n",
    "                CASE\n",
    "                    WHEN A.읍면동명 = '' THEN ''\n",
    "                    ELSE\n",
    "                        CASE WHEN A.리명 = '' THEN CONCAT(' (', A.읍면동명, ')') ELSE '' END\n",
    "                END\n",
    "            WHEN A.공동주택구분 = '1' THEN\n",
    "                CASE\n",
    "                    WHEN A.읍면동명 = '' THEN\n",
    "                        CASE\n",
    "                            WHEN A.시군구용건물명 = '' THEN ''\n",
    "                            ELSE CONCAT(' (', A.시군구용건물명, ')')\n",
    "                        END\n",
    "                    ELSE CONCAT(' (',\n",
    "                        CASE\n",
    "                            WHEN A.리명 = '' THEN CONCAT(A.읍면동명, ', ')\n",
    "                            ELSE ''\n",
    "                        END,\n",
    "                        CASE\n",
    "                            WHEN A.시군구용건물명 = '' THEN ''\n",
    "                            ELSE A.시군구용건물명\n",
    "                        END,\n",
    "                        ')')\n",
    "                END\n",
    "            ELSE ''\n",
    "        END\n",
    "    ) AS 도로명주소1,\n",
    "    CONCAT(A.시도명, ' ',\n",
    "        CASE WHEN A.시군구명 = '' THEN '' ELSE CONCAT(A.시군구명, ' ') END,\n",
    "        CASE WHEN A.읍면동명 = '' THEN '' ELSE\n",
    "            CASE WHEN A.리명 = '' THEN '' ELSE CONCAT(A.읍면동명, ' ') END\n",
    "        END,\n",
    "        A.도로명, ' ',\n",
    "        CASE WHEN A.지하여부 = 0 THEN ''\n",
    "            WHEN A.지하여부 = 1 THEN '지하 '\n",
    "            WHEN A.지하여부 = 2 THEN '공중 '\n",
    "            ELSE ''\n",
    "        END,\n",
    "        A.건물본번,\n",
    "        CASE WHEN A.건물부번 = 0 THEN '' ELSE CONCAT('-', A.건물부번) END\n",
    "    ) AS 도로명주소2,\n",
    "    A.도로명주소관리번호 AS 도로명주소관리번호,\n",
    "    A.시도명 AS 시도명\n",
    "FROM rnaddrkor A;\n",
    "'''\n",
    "\n",
    "query_update(sql)"
   ]
  },
  {
   "cell_type": "code",
   "execution_count": 30,
   "metadata": {},
   "outputs": [
    {
     "data": {
      "text/plain": [
       "[{'새우편번호': '03047',\n",
       "  '도로명주소1': '서울특별시 종로구 자하문로 94 (청운동)',\n",
       "  '도로명주소2': '서울특별시 종로구 자하문로 94',\n",
       "  '도로명주소관리번호': '11110101310001200009400000',\n",
       "  '시도명': '서울특별시'},\n",
       " {'새우편번호': '03047',\n",
       "  '도로명주소1': '서울특별시 종로구 자하문로 96 (청운동, 평안빌)',\n",
       "  '도로명주소2': '서울특별시 종로구 자하문로 96',\n",
       "  '도로명주소관리번호': '11110101310001200009600000',\n",
       "  '시도명': '서울특별시'},\n",
       " {'새우편번호': '03047',\n",
       "  '도로명주소1': '서울특별시 종로구 자하문로 98 (청운동, 청운빌라)',\n",
       "  '도로명주소2': '서울특별시 종로구 자하문로 98',\n",
       "  '도로명주소관리번호': '11110101310001200009800000',\n",
       "  '시도명': '서울특별시'},\n",
       " {'새우편번호': '03032',\n",
       "  '도로명주소1': '서울특별시 종로구 자하문로 99-3 (청운동, 풍림팍사이드빌라)',\n",
       "  '도로명주소2': '서울특별시 종로구 자하문로 99-3',\n",
       "  '도로명주소관리번호': '11110101310001200009900003',\n",
       "  '시도명': '서울특별시'},\n",
       " {'새우편번호': '03032',\n",
       "  '도로명주소1': '서울특별시 종로구 자하문로 99-4 (청운동)',\n",
       "  '도로명주소2': '서울특별시 종로구 자하문로 99-4',\n",
       "  '도로명주소관리번호': '11110101310001200009900004',\n",
       "  '시도명': '서울특별시'},\n",
       " {'새우편번호': '03047',\n",
       "  '도로명주소1': '서울특별시 종로구 자하문로 100 (청운동)',\n",
       "  '도로명주소2': '서울특별시 종로구 자하문로 100',\n",
       "  '도로명주소관리번호': '11110101310001200010000000',\n",
       "  '시도명': '서울특별시'},\n",
       " {'새우편번호': '03047',\n",
       "  '도로명주소1': '서울특별시 종로구 자하문로 100-1 (청운동)',\n",
       "  '도로명주소2': '서울특별시 종로구 자하문로 100-1',\n",
       "  '도로명주소관리번호': '11110101310001200010000001',\n",
       "  '시도명': '서울특별시'},\n",
       " {'새우편번호': '03032',\n",
       "  '도로명주소1': '서울특별시 종로구 자하문로 101 (청운동)',\n",
       "  '도로명주소2': '서울특별시 종로구 자하문로 101',\n",
       "  '도로명주소관리번호': '11110101310001200010100000',\n",
       "  '시도명': '서울특별시'},\n",
       " {'새우편번호': '03032',\n",
       "  '도로명주소1': '서울특별시 종로구 자하문로 103 (청운동)',\n",
       "  '도로명주소2': '서울특별시 종로구 자하문로 103',\n",
       "  '도로명주소관리번호': '11110101310001200010300000',\n",
       "  '시도명': '서울특별시'},\n",
       " {'새우편번호': '03047',\n",
       "  '도로명주소1': '서울특별시 종로구 자하문로 104 (청운동)',\n",
       "  '도로명주소2': '서울특별시 종로구 자하문로 104',\n",
       "  '도로명주소관리번호': '11110101310001200010400000',\n",
       "  '시도명': '서울특별시'}]"
      ]
     },
     "execution_count": 30,
     "metadata": {},
     "output_type": "execute_result"
    }
   ],
   "source": [
    "sql = \"SELECT * FROM full_rna_addr LIMIT 10;\"\n",
    "query_get(sql)"
   ]
  },
  {
   "cell_type": "code",
   "execution_count": 31,
   "metadata": {},
   "outputs": [
    {
     "data": {
      "text/plain": [
       "[{'시도명': '경기도', 'count': 1020563},\n",
       " {'시도명': '경상북도', 'count': 713862},\n",
       " {'시도명': '경상남도', 'count': 653480},\n",
       " {'시도명': '전라남도', 'count': 598298},\n",
       " {'시도명': '서울특별시', 'count': 530721},\n",
       " {'시도명': '충청남도', 'count': 491608},\n",
       " {'시도명': '전북특별자치도', 'count': 437063},\n",
       " {'시도명': '강원특별자치도', 'count': 364686},\n",
       " {'시도명': '충청북도', 'count': 335225},\n",
       " {'시도명': '부산광역시', 'count': 301822},\n",
       " {'시도명': '대구광역시', 'count': 229727},\n",
       " {'시도명': '인천광역시', 'count': 186039},\n",
       " {'시도명': '제주특별자치도', 'count': 155426},\n",
       " {'시도명': '광주광역시', 'count': 120474},\n",
       " {'시도명': '대전광역시', 'count': 114026},\n",
       " {'시도명': '울산광역시', 'count': 104458},\n",
       " {'시도명': '세종특별자치시', 'count': 27510}]"
      ]
     },
     "execution_count": 31,
     "metadata": {},
     "output_type": "execute_result"
    }
   ],
   "source": [
    "sql = \"SELECT `시도명`, COUNT(`도로명주소관리번호`) AS count FROM full_rna_addr GROUP BY `시도명` ORDER BY count DESC;\"\n",
    "query_get(sql)"
   ]
  },
  {
   "cell_type": "code",
   "execution_count": 4,
   "metadata": {},
   "outputs": [
    {
     "data": {
      "text/html": [
       "<div>\n",
       "<style scoped>\n",
       "    .dataframe tbody tr th:only-of-type {\n",
       "        vertical-align: middle;\n",
       "    }\n",
       "\n",
       "    .dataframe tbody tr th {\n",
       "        vertical-align: top;\n",
       "    }\n",
       "\n",
       "    .dataframe thead th {\n",
       "        text-align: right;\n",
       "    }\n",
       "</style>\n",
       "<table border=\"1\" class=\"dataframe\">\n",
       "  <thead>\n",
       "    <tr style=\"text-align: right;\">\n",
       "      <th></th>\n",
       "      <th>시도명</th>\n",
       "      <th>count</th>\n",
       "    </tr>\n",
       "  </thead>\n",
       "  <tbody>\n",
       "    <tr>\n",
       "      <th>0</th>\n",
       "      <td>경기도</td>\n",
       "      <td>1020563</td>\n",
       "    </tr>\n",
       "    <tr>\n",
       "      <th>1</th>\n",
       "      <td>경상북도</td>\n",
       "      <td>713862</td>\n",
       "    </tr>\n",
       "    <tr>\n",
       "      <th>2</th>\n",
       "      <td>경상남도</td>\n",
       "      <td>653480</td>\n",
       "    </tr>\n",
       "    <tr>\n",
       "      <th>3</th>\n",
       "      <td>전라남도</td>\n",
       "      <td>598298</td>\n",
       "    </tr>\n",
       "    <tr>\n",
       "      <th>4</th>\n",
       "      <td>서울특별시</td>\n",
       "      <td>530721</td>\n",
       "    </tr>\n",
       "    <tr>\n",
       "      <th>5</th>\n",
       "      <td>충청남도</td>\n",
       "      <td>491608</td>\n",
       "    </tr>\n",
       "    <tr>\n",
       "      <th>6</th>\n",
       "      <td>전북특별자치도</td>\n",
       "      <td>437063</td>\n",
       "    </tr>\n",
       "    <tr>\n",
       "      <th>7</th>\n",
       "      <td>강원특별자치도</td>\n",
       "      <td>364686</td>\n",
       "    </tr>\n",
       "    <tr>\n",
       "      <th>8</th>\n",
       "      <td>충청북도</td>\n",
       "      <td>335225</td>\n",
       "    </tr>\n",
       "    <tr>\n",
       "      <th>9</th>\n",
       "      <td>부산광역시</td>\n",
       "      <td>301822</td>\n",
       "    </tr>\n",
       "    <tr>\n",
       "      <th>10</th>\n",
       "      <td>대구광역시</td>\n",
       "      <td>229727</td>\n",
       "    </tr>\n",
       "    <tr>\n",
       "      <th>11</th>\n",
       "      <td>인천광역시</td>\n",
       "      <td>186039</td>\n",
       "    </tr>\n",
       "    <tr>\n",
       "      <th>12</th>\n",
       "      <td>제주특별자치도</td>\n",
       "      <td>155426</td>\n",
       "    </tr>\n",
       "    <tr>\n",
       "      <th>13</th>\n",
       "      <td>광주광역시</td>\n",
       "      <td>120474</td>\n",
       "    </tr>\n",
       "    <tr>\n",
       "      <th>14</th>\n",
       "      <td>대전광역시</td>\n",
       "      <td>114026</td>\n",
       "    </tr>\n",
       "    <tr>\n",
       "      <th>15</th>\n",
       "      <td>울산광역시</td>\n",
       "      <td>104458</td>\n",
       "    </tr>\n",
       "    <tr>\n",
       "      <th>16</th>\n",
       "      <td>세종특별자치시</td>\n",
       "      <td>27510</td>\n",
       "    </tr>\n",
       "  </tbody>\n",
       "</table>\n",
       "</div>"
      ],
      "text/plain": [
       "        시도명    count\n",
       "0       경기도  1020563\n",
       "1      경상북도   713862\n",
       "2      경상남도   653480\n",
       "3      전라남도   598298\n",
       "4     서울특별시   530721\n",
       "5      충청남도   491608\n",
       "6   전북특별자치도   437063\n",
       "7   강원특별자치도   364686\n",
       "8      충청북도   335225\n",
       "9     부산광역시   301822\n",
       "10    대구광역시   229727\n",
       "11    인천광역시   186039\n",
       "12  제주특별자치도   155426\n",
       "13    광주광역시   120474\n",
       "14    대전광역시   114026\n",
       "15    울산광역시   104458\n",
       "16  세종특별자치시    27510"
      ]
     },
     "execution_count": 4,
     "metadata": {},
     "output_type": "execute_result"
    }
   ],
   "source": [
    "import pandas as pd\n",
    "import pymysql\n",
    "\n",
    "sql = \"SELECT `시도명`, COUNT(`도로명주소관리번호`) AS count FROM full_rna_addr GROUP BY `시도명` ORDER BY count DESC;\"\n",
    "\n",
    "conn = init_db_connection()\n",
    "df = pd.read_sql(sql, con=conn)\n",
    "df"
   ]
  },
  {
   "cell_type": "code",
   "execution_count": 33,
   "metadata": {},
   "outputs": [
    {
     "name": "stdout",
     "output_type": "stream",
     "text": [
      "Requirement already satisfied: plotly in /opt/homebrew/Caskroom/miniforge/base/lib/python3.9/site-packages (5.19.0)\n",
      "Requirement already satisfied: packaging in /opt/homebrew/Caskroom/miniforge/base/lib/python3.9/site-packages (from plotly) (21.3)\n",
      "Requirement already satisfied: tenacity>=6.2.0 in /opt/homebrew/Caskroom/miniforge/base/lib/python3.9/site-packages (from plotly) (8.2.3)\n",
      "Requirement already satisfied: pyparsing!=3.0.5,>=2.0.2 in /opt/homebrew/Caskroom/miniforge/base/lib/python3.9/site-packages (from packaging->plotly) (3.0.6)\n",
      "Requirement already satisfied: nbformat in /opt/homebrew/Caskroom/miniforge/base/lib/python3.9/site-packages (5.9.2)\n",
      "Requirement already satisfied: jupyter-core in /opt/homebrew/Caskroom/miniforge/base/lib/python3.9/site-packages (from nbformat) (5.7.1)\n",
      "Requirement already satisfied: fastjsonschema in /opt/homebrew/Caskroom/miniforge/base/lib/python3.9/site-packages (from nbformat) (2.19.1)\n",
      "Requirement already satisfied: jsonschema>=2.6 in /opt/homebrew/Caskroom/miniforge/base/lib/python3.9/site-packages (from nbformat) (4.21.1)\n",
      "Requirement already satisfied: traitlets>=5.1 in /opt/homebrew/Caskroom/miniforge/base/lib/python3.9/site-packages (from nbformat) (5.14.1)\n",
      "Requirement already satisfied: referencing>=0.28.4 in /opt/homebrew/Caskroom/miniforge/base/lib/python3.9/site-packages (from jsonschema>=2.6->nbformat) (0.33.0)\n",
      "Requirement already satisfied: attrs>=22.2.0 in /opt/homebrew/Caskroom/miniforge/base/lib/python3.9/site-packages (from jsonschema>=2.6->nbformat) (23.2.0)\n",
      "Requirement already satisfied: rpds-py>=0.7.1 in /opt/homebrew/Caskroom/miniforge/base/lib/python3.9/site-packages (from jsonschema>=2.6->nbformat) (0.18.0)\n",
      "Requirement already satisfied: jsonschema-specifications>=2023.03.6 in /opt/homebrew/Caskroom/miniforge/base/lib/python3.9/site-packages (from jsonschema>=2.6->nbformat) (2023.12.1)\n",
      "Requirement already satisfied: platformdirs>=2.5 in /opt/homebrew/Caskroom/miniforge/base/lib/python3.9/site-packages (from jupyter-core->nbformat) (4.2.0)\n"
     ]
    }
   ],
   "source": [
    "!pip3 install plotly\n",
    "!pip3 install nbformat --upgrade"
   ]
  },
  {
   "cell_type": "code",
   "execution_count": 5,
   "metadata": {},
   "outputs": [
    {
     "data": {
      "application/vnd.plotly.v1+json": {
       "config": {
        "plotlyServerURL": "https://plot.ly"
       },
       "data": [
        {
         "name": "도로명주소관리번호 개수",
         "type": "bar",
         "x": [
          "경기도",
          "경상북도",
          "경상남도",
          "전라남도",
          "서울특별시",
          "충청남도",
          "전북특별자치도",
          "강원특별자치도",
          "충청북도",
          "부산광역시",
          "대구광역시",
          "인천광역시",
          "제주특별자치도",
          "광주광역시",
          "대전광역시",
          "울산광역시",
          "세종특별자치시"
         ],
         "y": [
          1020563,
          713862,
          653480,
          598298,
          530721,
          491608,
          437063,
          364686,
          335225,
          301822,
          229727,
          186039,
          155426,
          120474,
          114026,
          104458,
          27510
         ]
        }
       ],
       "layout": {
        "paper_bgcolor": "#F9FAFB",
        "template": {
         "data": {
          "bar": [
           {
            "error_x": {
             "color": "#2a3f5f"
            },
            "error_y": {
             "color": "#2a3f5f"
            },
            "marker": {
             "line": {
              "color": "#E5ECF6",
              "width": 0.5
             },
             "pattern": {
              "fillmode": "overlay",
              "size": 10,
              "solidity": 0.2
             }
            },
            "type": "bar"
           }
          ],
          "barpolar": [
           {
            "marker": {
             "line": {
              "color": "#E5ECF6",
              "width": 0.5
             },
             "pattern": {
              "fillmode": "overlay",
              "size": 10,
              "solidity": 0.2
             }
            },
            "type": "barpolar"
           }
          ],
          "carpet": [
           {
            "aaxis": {
             "endlinecolor": "#2a3f5f",
             "gridcolor": "white",
             "linecolor": "white",
             "minorgridcolor": "white",
             "startlinecolor": "#2a3f5f"
            },
            "baxis": {
             "endlinecolor": "#2a3f5f",
             "gridcolor": "white",
             "linecolor": "white",
             "minorgridcolor": "white",
             "startlinecolor": "#2a3f5f"
            },
            "type": "carpet"
           }
          ],
          "choropleth": [
           {
            "colorbar": {
             "outlinewidth": 0,
             "ticks": ""
            },
            "type": "choropleth"
           }
          ],
          "contour": [
           {
            "colorbar": {
             "outlinewidth": 0,
             "ticks": ""
            },
            "colorscale": [
             [
              0,
              "#0d0887"
             ],
             [
              0.1111111111111111,
              "#46039f"
             ],
             [
              0.2222222222222222,
              "#7201a8"
             ],
             [
              0.3333333333333333,
              "#9c179e"
             ],
             [
              0.4444444444444444,
              "#bd3786"
             ],
             [
              0.5555555555555556,
              "#d8576b"
             ],
             [
              0.6666666666666666,
              "#ed7953"
             ],
             [
              0.7777777777777778,
              "#fb9f3a"
             ],
             [
              0.8888888888888888,
              "#fdca26"
             ],
             [
              1,
              "#f0f921"
             ]
            ],
            "type": "contour"
           }
          ],
          "contourcarpet": [
           {
            "colorbar": {
             "outlinewidth": 0,
             "ticks": ""
            },
            "type": "contourcarpet"
           }
          ],
          "heatmap": [
           {
            "colorbar": {
             "outlinewidth": 0,
             "ticks": ""
            },
            "colorscale": [
             [
              0,
              "#0d0887"
             ],
             [
              0.1111111111111111,
              "#46039f"
             ],
             [
              0.2222222222222222,
              "#7201a8"
             ],
             [
              0.3333333333333333,
              "#9c179e"
             ],
             [
              0.4444444444444444,
              "#bd3786"
             ],
             [
              0.5555555555555556,
              "#d8576b"
             ],
             [
              0.6666666666666666,
              "#ed7953"
             ],
             [
              0.7777777777777778,
              "#fb9f3a"
             ],
             [
              0.8888888888888888,
              "#fdca26"
             ],
             [
              1,
              "#f0f921"
             ]
            ],
            "type": "heatmap"
           }
          ],
          "heatmapgl": [
           {
            "colorbar": {
             "outlinewidth": 0,
             "ticks": ""
            },
            "colorscale": [
             [
              0,
              "#0d0887"
             ],
             [
              0.1111111111111111,
              "#46039f"
             ],
             [
              0.2222222222222222,
              "#7201a8"
             ],
             [
              0.3333333333333333,
              "#9c179e"
             ],
             [
              0.4444444444444444,
              "#bd3786"
             ],
             [
              0.5555555555555556,
              "#d8576b"
             ],
             [
              0.6666666666666666,
              "#ed7953"
             ],
             [
              0.7777777777777778,
              "#fb9f3a"
             ],
             [
              0.8888888888888888,
              "#fdca26"
             ],
             [
              1,
              "#f0f921"
             ]
            ],
            "type": "heatmapgl"
           }
          ],
          "histogram": [
           {
            "marker": {
             "pattern": {
              "fillmode": "overlay",
              "size": 10,
              "solidity": 0.2
             }
            },
            "type": "histogram"
           }
          ],
          "histogram2d": [
           {
            "colorbar": {
             "outlinewidth": 0,
             "ticks": ""
            },
            "colorscale": [
             [
              0,
              "#0d0887"
             ],
             [
              0.1111111111111111,
              "#46039f"
             ],
             [
              0.2222222222222222,
              "#7201a8"
             ],
             [
              0.3333333333333333,
              "#9c179e"
             ],
             [
              0.4444444444444444,
              "#bd3786"
             ],
             [
              0.5555555555555556,
              "#d8576b"
             ],
             [
              0.6666666666666666,
              "#ed7953"
             ],
             [
              0.7777777777777778,
              "#fb9f3a"
             ],
             [
              0.8888888888888888,
              "#fdca26"
             ],
             [
              1,
              "#f0f921"
             ]
            ],
            "type": "histogram2d"
           }
          ],
          "histogram2dcontour": [
           {
            "colorbar": {
             "outlinewidth": 0,
             "ticks": ""
            },
            "colorscale": [
             [
              0,
              "#0d0887"
             ],
             [
              0.1111111111111111,
              "#46039f"
             ],
             [
              0.2222222222222222,
              "#7201a8"
             ],
             [
              0.3333333333333333,
              "#9c179e"
             ],
             [
              0.4444444444444444,
              "#bd3786"
             ],
             [
              0.5555555555555556,
              "#d8576b"
             ],
             [
              0.6666666666666666,
              "#ed7953"
             ],
             [
              0.7777777777777778,
              "#fb9f3a"
             ],
             [
              0.8888888888888888,
              "#fdca26"
             ],
             [
              1,
              "#f0f921"
             ]
            ],
            "type": "histogram2dcontour"
           }
          ],
          "mesh3d": [
           {
            "colorbar": {
             "outlinewidth": 0,
             "ticks": ""
            },
            "type": "mesh3d"
           }
          ],
          "parcoords": [
           {
            "line": {
             "colorbar": {
              "outlinewidth": 0,
              "ticks": ""
             }
            },
            "type": "parcoords"
           }
          ],
          "pie": [
           {
            "automargin": true,
            "type": "pie"
           }
          ],
          "scatter": [
           {
            "fillpattern": {
             "fillmode": "overlay",
             "size": 10,
             "solidity": 0.2
            },
            "type": "scatter"
           }
          ],
          "scatter3d": [
           {
            "line": {
             "colorbar": {
              "outlinewidth": 0,
              "ticks": ""
             }
            },
            "marker": {
             "colorbar": {
              "outlinewidth": 0,
              "ticks": ""
             }
            },
            "type": "scatter3d"
           }
          ],
          "scattercarpet": [
           {
            "marker": {
             "colorbar": {
              "outlinewidth": 0,
              "ticks": ""
             }
            },
            "type": "scattercarpet"
           }
          ],
          "scattergeo": [
           {
            "marker": {
             "colorbar": {
              "outlinewidth": 0,
              "ticks": ""
             }
            },
            "type": "scattergeo"
           }
          ],
          "scattergl": [
           {
            "marker": {
             "colorbar": {
              "outlinewidth": 0,
              "ticks": ""
             }
            },
            "type": "scattergl"
           }
          ],
          "scattermapbox": [
           {
            "marker": {
             "colorbar": {
              "outlinewidth": 0,
              "ticks": ""
             }
            },
            "type": "scattermapbox"
           }
          ],
          "scatterpolar": [
           {
            "marker": {
             "colorbar": {
              "outlinewidth": 0,
              "ticks": ""
             }
            },
            "type": "scatterpolar"
           }
          ],
          "scatterpolargl": [
           {
            "marker": {
             "colorbar": {
              "outlinewidth": 0,
              "ticks": ""
             }
            },
            "type": "scatterpolargl"
           }
          ],
          "scatterternary": [
           {
            "marker": {
             "colorbar": {
              "outlinewidth": 0,
              "ticks": ""
             }
            },
            "type": "scatterternary"
           }
          ],
          "surface": [
           {
            "colorbar": {
             "outlinewidth": 0,
             "ticks": ""
            },
            "colorscale": [
             [
              0,
              "#0d0887"
             ],
             [
              0.1111111111111111,
              "#46039f"
             ],
             [
              0.2222222222222222,
              "#7201a8"
             ],
             [
              0.3333333333333333,
              "#9c179e"
             ],
             [
              0.4444444444444444,
              "#bd3786"
             ],
             [
              0.5555555555555556,
              "#d8576b"
             ],
             [
              0.6666666666666666,
              "#ed7953"
             ],
             [
              0.7777777777777778,
              "#fb9f3a"
             ],
             [
              0.8888888888888888,
              "#fdca26"
             ],
             [
              1,
              "#f0f921"
             ]
            ],
            "type": "surface"
           }
          ],
          "table": [
           {
            "cells": {
             "fill": {
              "color": "#EBF0F8"
             },
             "line": {
              "color": "white"
             }
            },
            "header": {
             "fill": {
              "color": "#C8D4E3"
             },
             "line": {
              "color": "white"
             }
            },
            "type": "table"
           }
          ]
         },
         "layout": {
          "annotationdefaults": {
           "arrowcolor": "#2a3f5f",
           "arrowhead": 0,
           "arrowwidth": 1
          },
          "autotypenumbers": "strict",
          "coloraxis": {
           "colorbar": {
            "outlinewidth": 0,
            "ticks": ""
           }
          },
          "colorscale": {
           "diverging": [
            [
             0,
             "#8e0152"
            ],
            [
             0.1,
             "#c51b7d"
            ],
            [
             0.2,
             "#de77ae"
            ],
            [
             0.3,
             "#f1b6da"
            ],
            [
             0.4,
             "#fde0ef"
            ],
            [
             0.5,
             "#f7f7f7"
            ],
            [
             0.6,
             "#e6f5d0"
            ],
            [
             0.7,
             "#b8e186"
            ],
            [
             0.8,
             "#7fbc41"
            ],
            [
             0.9,
             "#4d9221"
            ],
            [
             1,
             "#276419"
            ]
           ],
           "sequential": [
            [
             0,
             "#0d0887"
            ],
            [
             0.1111111111111111,
             "#46039f"
            ],
            [
             0.2222222222222222,
             "#7201a8"
            ],
            [
             0.3333333333333333,
             "#9c179e"
            ],
            [
             0.4444444444444444,
             "#bd3786"
            ],
            [
             0.5555555555555556,
             "#d8576b"
            ],
            [
             0.6666666666666666,
             "#ed7953"
            ],
            [
             0.7777777777777778,
             "#fb9f3a"
            ],
            [
             0.8888888888888888,
             "#fdca26"
            ],
            [
             1,
             "#f0f921"
            ]
           ],
           "sequentialminus": [
            [
             0,
             "#0d0887"
            ],
            [
             0.1111111111111111,
             "#46039f"
            ],
            [
             0.2222222222222222,
             "#7201a8"
            ],
            [
             0.3333333333333333,
             "#9c179e"
            ],
            [
             0.4444444444444444,
             "#bd3786"
            ],
            [
             0.5555555555555556,
             "#d8576b"
            ],
            [
             0.6666666666666666,
             "#ed7953"
            ],
            [
             0.7777777777777778,
             "#fb9f3a"
            ],
            [
             0.8888888888888888,
             "#fdca26"
            ],
            [
             1,
             "#f0f921"
            ]
           ]
          },
          "colorway": [
           "#636efa",
           "#EF553B",
           "#00cc96",
           "#ab63fa",
           "#FFA15A",
           "#19d3f3",
           "#FF6692",
           "#B6E880",
           "#FF97FF",
           "#FECB52"
          ],
          "font": {
           "color": "#2a3f5f"
          },
          "geo": {
           "bgcolor": "white",
           "lakecolor": "white",
           "landcolor": "#E5ECF6",
           "showlakes": true,
           "showland": true,
           "subunitcolor": "white"
          },
          "hoverlabel": {
           "align": "left"
          },
          "hovermode": "closest",
          "mapbox": {
           "style": "light"
          },
          "paper_bgcolor": "white",
          "plot_bgcolor": "#E5ECF6",
          "polar": {
           "angularaxis": {
            "gridcolor": "white",
            "linecolor": "white",
            "ticks": ""
           },
           "bgcolor": "#E5ECF6",
           "radialaxis": {
            "gridcolor": "white",
            "linecolor": "white",
            "ticks": ""
           }
          },
          "scene": {
           "xaxis": {
            "backgroundcolor": "#E5ECF6",
            "gridcolor": "white",
            "gridwidth": 2,
            "linecolor": "white",
            "showbackground": true,
            "ticks": "",
            "zerolinecolor": "white"
           },
           "yaxis": {
            "backgroundcolor": "#E5ECF6",
            "gridcolor": "white",
            "gridwidth": 2,
            "linecolor": "white",
            "showbackground": true,
            "ticks": "",
            "zerolinecolor": "white"
           },
           "zaxis": {
            "backgroundcolor": "#E5ECF6",
            "gridcolor": "white",
            "gridwidth": 2,
            "linecolor": "white",
            "showbackground": true,
            "ticks": "",
            "zerolinecolor": "white"
           }
          },
          "shapedefaults": {
           "line": {
            "color": "#2a3f5f"
           }
          },
          "ternary": {
           "aaxis": {
            "gridcolor": "white",
            "linecolor": "white",
            "ticks": ""
           },
           "baxis": {
            "gridcolor": "white",
            "linecolor": "white",
            "ticks": ""
           },
           "bgcolor": "#E5ECF6",
           "caxis": {
            "gridcolor": "white",
            "linecolor": "white",
            "ticks": ""
           }
          },
          "title": {
           "x": 0.05
          },
          "xaxis": {
           "automargin": true,
           "gridcolor": "white",
           "linecolor": "white",
           "ticks": "",
           "title": {
            "standoff": 15
           },
           "zerolinecolor": "white",
           "zerolinewidth": 2
          },
          "yaxis": {
           "automargin": true,
           "gridcolor": "white",
           "linecolor": "white",
           "ticks": "",
           "title": {
            "standoff": 15
           },
           "zerolinecolor": "white",
           "zerolinewidth": 2
          }
         }
        },
        "title": {
         "text": "시도별 도로명주소의 개수"
        }
       }
      }
     },
     "metadata": {},
     "output_type": "display_data"
    }
   ],
   "source": [
    "import plotly.graph_objects as go\n",
    "import pandas as pd\n",
    "\n",
    "# 바그래프 생성\n",
    "bar = go.Bar(x=df['시도명'], y=df['count'], name='도로명주소관리번호 개수')\n",
    "\n",
    "# 레이아웃 설정\n",
    "layout = go.Layout(title='시도별 도로명주소의 개수', paper_bgcolor='#F9FAFB')\n",
    "\n",
    "# Figure 생성과 출력\n",
    "fig = go.Figure(data=bar, layout=layout)\n",
    "fig.show()\n",
    "\n",
    "# HTML 파일로 저장\n",
    "fig.write_html('address-count-per-sido.html')"
   ]
  },
  {
   "cell_type": "markdown",
   "metadata": {},
   "source": [
    "### 관련지번"
   ]
  },
  {
   "cell_type": "markdown",
   "metadata": {},
   "source": [
    "#### 관련지번 테이블에서 PNU 생성하기"
   ]
  },
  {
   "cell_type": "code",
   "execution_count": 30,
   "metadata": {},
   "outputs": [],
   "source": [
    "def multi_query_update(sql):\n",
    "    connection = init_db_connection()\n",
    "    with connection:\n",
    "        with connection.cursor() as cursor:\n",
    "            sql_list = [query.strip() for query in sql.strip().split('\\n')]\n",
    "            for query in sql_list:\n",
    "                cursor.execute(query)\n",
    "                print(f\"Query executed: {query}\")\n",
    "            connection.commit()\n",
    "            return True"
   ]
  },
  {
   "cell_type": "code",
   "execution_count": 31,
   "metadata": {},
   "outputs": [
    {
     "name": "stdout",
     "output_type": "stream",
     "text": [
      "Query executed: alter table jibun_rnaddrkor add PNU varchar(19);\n",
      "Query executed: update jibun_rnaddrkor set PNU = concat(`법정동코드`, `산여부`, LPAD(`지번본번(번지)`, 4, '0'), LPAD(`지번부번(호)`, 4, '0'));\n"
     ]
    },
    {
     "data": {
      "text/plain": [
       "True"
      ]
     },
     "execution_count": 31,
     "metadata": {},
     "output_type": "execute_result"
    }
   ],
   "source": [
    "sql = '''\n",
    "ALTER TABLE jibun_rnaddrkor ADD PNU VARCHAR(19); \n",
    "UPDATE jibun_rnaddrkor SET PNU = CONCAT(`법정동코드`, `산여부`, LPAD(`지번본번(번지)`, 4, '0'), LPAD(`지번부번(호)`, 4, '0'));\n",
    "'''\n",
    "multi_query_update(sql)"
   ]
  },
  {
   "cell_type": "code",
   "execution_count": 33,
   "metadata": {},
   "outputs": [
    {
     "data": {
      "text/plain": [
       "[{'PNU': '1111010100001300003'},\n",
       " {'PNU': '1111010100001290002'},\n",
       " {'PNU': '1111010100001290003'},\n",
       " {'PNU': '1111010100001310001'},\n",
       " {'PNU': '1111010100001290001'}]"
      ]
     },
     "execution_count": 33,
     "metadata": {},
     "output_type": "execute_result"
    }
   ],
   "source": [
    "sql = \"SELECT PNU FROM jibun_rnaddrkor LIMIT 5;\"\n",
    "query_get(sql)"
   ]
  },
  {
   "cell_type": "markdown",
   "metadata": {},
   "source": [
    "#### 도로명주소 테이블과 관련지번 테이블 연결하기"
   ]
  },
  {
   "cell_type": "code",
   "execution_count": 35,
   "metadata": {},
   "outputs": [
    {
     "data": {
      "text/plain": [
       "[{'도로명주소관리번호': '11110101310001200009400000',\n",
       "  '도로명주소1': '서울특별시 종로구 자하문로 94 (청운동)',\n",
       "  '도로명주소2': '서울특별시 종로구 자하문로 94',\n",
       "  'PNU': None},\n",
       " {'도로명주소관리번호': '11110101310001200009600000',\n",
       "  '도로명주소1': '서울특별시 종로구 자하문로 96 (청운동, 평안빌)',\n",
       "  '도로명주소2': '서울특별시 종로구 자하문로 96',\n",
       "  'PNU': None},\n",
       " {'도로명주소관리번호': '11110101310001200009800000',\n",
       "  '도로명주소1': '서울특별시 종로구 자하문로 98 (청운동, 청운빌라)',\n",
       "  '도로명주소2': '서울특별시 종로구 자하문로 98',\n",
       "  'PNU': None},\n",
       " {'도로명주소관리번호': '11110101310001200009900003',\n",
       "  '도로명주소1': '서울특별시 종로구 자하문로 99-3 (청운동, 풍림팍사이드빌라)',\n",
       "  '도로명주소2': '서울특별시 종로구 자하문로 99-3',\n",
       "  'PNU': None},\n",
       " {'도로명주소관리번호': '11110101310001200009900004',\n",
       "  '도로명주소1': '서울특별시 종로구 자하문로 99-4 (청운동)',\n",
       "  '도로명주소2': '서울특별시 종로구 자하문로 99-4',\n",
       "  'PNU': '1111010100001300003'},\n",
       " {'도로명주소관리번호': '11110101310001200010000000',\n",
       "  '도로명주소1': '서울특별시 종로구 자하문로 100 (청운동)',\n",
       "  '도로명주소2': '서울특별시 종로구 자하문로 100',\n",
       "  'PNU': None},\n",
       " {'도로명주소관리번호': '11110101310001200010000001',\n",
       "  '도로명주소1': '서울특별시 종로구 자하문로 100-1 (청운동)',\n",
       "  '도로명주소2': '서울특별시 종로구 자하문로 100-1',\n",
       "  'PNU': None},\n",
       " {'도로명주소관리번호': '11110101310001200010100000',\n",
       "  '도로명주소1': '서울특별시 종로구 자하문로 101 (청운동)',\n",
       "  '도로명주소2': '서울특별시 종로구 자하문로 101',\n",
       "  'PNU': '1111010100001290002'},\n",
       " {'도로명주소관리번호': '11110101310001200010100000',\n",
       "  '도로명주소1': '서울특별시 종로구 자하문로 101 (청운동)',\n",
       "  '도로명주소2': '서울특별시 종로구 자하문로 101',\n",
       "  'PNU': '1111010100001290003'},\n",
       " {'도로명주소관리번호': '11110101310001200010100000',\n",
       "  '도로명주소1': '서울특별시 종로구 자하문로 101 (청운동)',\n",
       "  '도로명주소2': '서울특별시 종로구 자하문로 101',\n",
       "  'PNU': '1111010100001310001'}]"
      ]
     },
     "execution_count": 35,
     "metadata": {},
     "output_type": "execute_result"
    }
   ],
   "source": [
    "sql = '''\n",
    "SELECT A.`도로명주소관리번호`, A.`도로명주소1`, A.`도로명주소2`, B.PNU \n",
    "FROM full_rna_addr A \n",
    "LEFT JOIN jibun_rnaddrkor B \n",
    "ON A.`도로명주소관리번호` = B.`도로명주소관리번호` \n",
    "LIMIT 10;\n",
    "'''\n",
    "query_get(sql)"
   ]
  },
  {
   "cell_type": "code",
   "execution_count": 98,
   "metadata": {},
   "outputs": [
    {
     "data": {
      "text/html": [
       "<div>\n",
       "<style scoped>\n",
       "    .dataframe tbody tr th:only-of-type {\n",
       "        vertical-align: middle;\n",
       "    }\n",
       "\n",
       "    .dataframe tbody tr th {\n",
       "        vertical-align: top;\n",
       "    }\n",
       "\n",
       "    .dataframe thead th {\n",
       "        text-align: right;\n",
       "    }\n",
       "</style>\n",
       "<table border=\"1\" class=\"dataframe\">\n",
       "  <thead>\n",
       "    <tr style=\"text-align: right;\">\n",
       "      <th></th>\n",
       "      <th>도로명주소관리번호</th>\n",
       "      <th>PNU_COUNT</th>\n",
       "    </tr>\n",
       "  </thead>\n",
       "  <tbody>\n",
       "    <tr>\n",
       "      <th>0</th>\n",
       "      <td>27170109300701600003300000</td>\n",
       "      <td>637</td>\n",
       "    </tr>\n",
       "    <tr>\n",
       "      <th>1</th>\n",
       "      <td>27170103422922100003000000</td>\n",
       "      <td>481</td>\n",
       "    </tr>\n",
       "    <tr>\n",
       "      <th>2</th>\n",
       "      <td>11140153310002100024600000</td>\n",
       "      <td>448</td>\n",
       "    </tr>\n",
       "    <tr>\n",
       "      <th>3</th>\n",
       "      <td>52710330301600100150000000</td>\n",
       "      <td>417</td>\n",
       "    </tr>\n",
       "    <tr>\n",
       "      <th>4</th>\n",
       "      <td>27170103314301200044600000</td>\n",
       "      <td>417</td>\n",
       "    </tr>\n",
       "    <tr>\n",
       "      <th>5</th>\n",
       "      <td>30200133316706000022000001</td>\n",
       "      <td>410</td>\n",
       "    </tr>\n",
       "    <tr>\n",
       "      <th>6</th>\n",
       "      <td>52710330301600200018100000</td>\n",
       "      <td>409</td>\n",
       "    </tr>\n",
       "    <tr>\n",
       "      <th>7</th>\n",
       "      <td>27170103314300400023000000</td>\n",
       "      <td>408</td>\n",
       "    </tr>\n",
       "    <tr>\n",
       "      <th>8</th>\n",
       "      <td>48840390334304500154500000</td>\n",
       "      <td>384</td>\n",
       "    </tr>\n",
       "    <tr>\n",
       "      <th>9</th>\n",
       "      <td>48250119333505100050200000</td>\n",
       "      <td>379</td>\n",
       "    </tr>\n",
       "  </tbody>\n",
       "</table>\n",
       "</div>"
      ],
      "text/plain": [
       "                    도로명주소관리번호  PNU_COUNT\n",
       "0  27170109300701600003300000        637\n",
       "1  27170103422922100003000000        481\n",
       "2  11140153310002100024600000        448\n",
       "3  52710330301600100150000000        417\n",
       "4  27170103314301200044600000        417\n",
       "5  30200133316706000022000001        410\n",
       "6  52710330301600200018100000        409\n",
       "7  27170103314300400023000000        408\n",
       "8  48840390334304500154500000        384\n",
       "9  48250119333505100050200000        379"
      ]
     },
     "execution_count": 98,
     "metadata": {},
     "output_type": "execute_result"
    }
   ],
   "source": [
    "import pandas as pd\n",
    "import pymysql\n",
    "\n",
    "sql = '''\n",
    "SELECT A.`도로명주소관리번호`, COUNT(DISTINCT B.PNU) AS PNU_COUNT\n",
    "FROM full_rna_addr A\n",
    "LEFT JOIN jibun_rnaddrkor B ON A.`도로명주소관리번호` = B.`도로명주소관리번호`\n",
    "GROUP BY A.`도로명주소관리번호`\n",
    "ORDER BY PNU_COUNT DESC\n",
    "LIMIT 10;\n",
    "'''\n",
    "\n",
    "conn = init_db_connection()\n",
    "df1 = pd.read_sql(sql, con=conn)\n",
    "df1"
   ]
  },
  {
   "cell_type": "code",
   "execution_count": 99,
   "metadata": {},
   "outputs": [
    {
     "data": {
      "text/html": [
       "<div>\n",
       "<style scoped>\n",
       "    .dataframe tbody tr th:only-of-type {\n",
       "        vertical-align: middle;\n",
       "    }\n",
       "\n",
       "    .dataframe tbody tr th {\n",
       "        vertical-align: top;\n",
       "    }\n",
       "\n",
       "    .dataframe thead th {\n",
       "        text-align: right;\n",
       "    }\n",
       "</style>\n",
       "<table border=\"1\" class=\"dataframe\">\n",
       "  <thead>\n",
       "    <tr style=\"text-align: right;\">\n",
       "      <th></th>\n",
       "      <th>새우편번호</th>\n",
       "      <th>도로명주소1</th>\n",
       "      <th>도로명주소2</th>\n",
       "      <th>도로명주소관리번호</th>\n",
       "      <th>시도명</th>\n",
       "    </tr>\n",
       "  </thead>\n",
       "  <tbody>\n",
       "    <tr>\n",
       "      <th>0</th>\n",
       "      <td>04563</td>\n",
       "      <td>서울특별시 중구 청계천로 246 (방산동)</td>\n",
       "      <td>서울특별시 중구 청계천로 246</td>\n",
       "      <td>11140153310002100024600000</td>\n",
       "      <td>서울특별시</td>\n",
       "    </tr>\n",
       "    <tr>\n",
       "      <th>1</th>\n",
       "      <td>41774</td>\n",
       "      <td>대구광역시 서구 문화로 230 (평리동, 서대구역반도유보라센텀)</td>\n",
       "      <td>대구광역시 서구 문화로 230</td>\n",
       "      <td>27170103314300400023000000</td>\n",
       "      <td>대구광역시</td>\n",
       "    </tr>\n",
       "    <tr>\n",
       "      <th>2</th>\n",
       "      <td>41763</td>\n",
       "      <td>대구광역시 서구 당산로 446 (평리동, 서대구영무예다음)</td>\n",
       "      <td>대구광역시 서구 당산로 446</td>\n",
       "      <td>27170103314301200044600000</td>\n",
       "      <td>대구광역시</td>\n",
       "    </tr>\n",
       "    <tr>\n",
       "      <th>3</th>\n",
       "      <td>41767</td>\n",
       "      <td>대구광역시 서구 서대구로29길 30 (평리동, 서대구역화성파크드림)</td>\n",
       "      <td>대구광역시 서구 서대구로29길 30</td>\n",
       "      <td>27170103422922100003000000</td>\n",
       "      <td>대구광역시</td>\n",
       "    </tr>\n",
       "    <tr>\n",
       "      <th>4</th>\n",
       "      <td>41716</td>\n",
       "      <td>대구광역시 서구 고성로 33 (원대동3가, 서대구센트럴자이)</td>\n",
       "      <td>대구광역시 서구 고성로 33</td>\n",
       "      <td>27170109300701600003300000</td>\n",
       "      <td>대구광역시</td>\n",
       "    </tr>\n",
       "    <tr>\n",
       "      <th>5</th>\n",
       "      <td>34059</td>\n",
       "      <td>대전광역시 유성구 자운로 220-1 (추목동)</td>\n",
       "      <td>대전광역시 유성구 자운로 220-1</td>\n",
       "      <td>30200133316706000022000001</td>\n",
       "      <td>대전광역시</td>\n",
       "    </tr>\n",
       "    <tr>\n",
       "      <th>6</th>\n",
       "      <td>50811</td>\n",
       "      <td>경상남도 김해시 인제로 502 (삼방동)</td>\n",
       "      <td>경상남도 김해시 인제로 502</td>\n",
       "      <td>48250119333505100050200000</td>\n",
       "      <td>경상남도</td>\n",
       "    </tr>\n",
       "    <tr>\n",
       "      <th>7</th>\n",
       "      <td>52455</td>\n",
       "      <td>경상남도 남해군 창선면 흥선로 1545</td>\n",
       "      <td>경상남도 남해군 창선면 흥선로 1545</td>\n",
       "      <td>48840390334304500154500000</td>\n",
       "      <td>경상남도</td>\n",
       "    </tr>\n",
       "    <tr>\n",
       "      <th>8</th>\n",
       "      <td>55365</td>\n",
       "      <td>전북특별자치도 완주군 이서면 콩쥐팥쥐로 1500</td>\n",
       "      <td>전북특별자치도 완주군 이서면 콩쥐팥쥐로 1500</td>\n",
       "      <td>52710330301600100150000000</td>\n",
       "      <td>전북특별자치도</td>\n",
       "    </tr>\n",
       "    <tr>\n",
       "      <th>9</th>\n",
       "      <td>55365</td>\n",
       "      <td>전북특별자치도 완주군 이서면 혁신로 181</td>\n",
       "      <td>전북특별자치도 완주군 이서면 혁신로 181</td>\n",
       "      <td>52710330301600200018100000</td>\n",
       "      <td>전북특별자치도</td>\n",
       "    </tr>\n",
       "  </tbody>\n",
       "</table>\n",
       "</div>"
      ],
      "text/plain": [
       "   새우편번호                                 도로명주소1                      도로명주소2  \\\n",
       "0  04563                서울특별시 중구 청계천로 246 (방산동)           서울특별시 중구 청계천로 246   \n",
       "1  41774    대구광역시 서구 문화로 230 (평리동, 서대구역반도유보라센텀)            대구광역시 서구 문화로 230   \n",
       "2  41763       대구광역시 서구 당산로 446 (평리동, 서대구영무예다음)            대구광역시 서구 당산로 446   \n",
       "3  41767  대구광역시 서구 서대구로29길 30 (평리동, 서대구역화성파크드림)         대구광역시 서구 서대구로29길 30   \n",
       "4  41716      대구광역시 서구 고성로 33 (원대동3가, 서대구센트럴자이)             대구광역시 서구 고성로 33   \n",
       "5  34059              대전광역시 유성구 자운로 220-1 (추목동)         대전광역시 유성구 자운로 220-1   \n",
       "6  50811                 경상남도 김해시 인제로 502 (삼방동)            경상남도 김해시 인제로 502   \n",
       "7  52455                  경상남도 남해군 창선면 흥선로 1545       경상남도 남해군 창선면 흥선로 1545   \n",
       "8  55365             전북특별자치도 완주군 이서면 콩쥐팥쥐로 1500  전북특별자치도 완주군 이서면 콩쥐팥쥐로 1500   \n",
       "9  55365                전북특별자치도 완주군 이서면 혁신로 181     전북특별자치도 완주군 이서면 혁신로 181   \n",
       "\n",
       "                    도로명주소관리번호      시도명  \n",
       "0  11140153310002100024600000    서울특별시  \n",
       "1  27170103314300400023000000    대구광역시  \n",
       "2  27170103314301200044600000    대구광역시  \n",
       "3  27170103422922100003000000    대구광역시  \n",
       "4  27170109300701600003300000    대구광역시  \n",
       "5  30200133316706000022000001    대전광역시  \n",
       "6  48250119333505100050200000     경상남도  \n",
       "7  48840390334304500154500000     경상남도  \n",
       "8  52710330301600100150000000  전북특별자치도  \n",
       "9  52710330301600200018100000  전북특별자치도  "
      ]
     },
     "execution_count": 99,
     "metadata": {},
     "output_type": "execute_result"
    }
   ],
   "source": [
    "rna_addr_list = df1['도로명주소관리번호'].tolist()\n",
    "\n",
    "sql = f'''\n",
    "SELECT * FROM full_rna_addr WHERE `도로명주소관리번호` IN {str(rna_addr_list).replace('[','(').replace(']',')')}\n",
    "'''\n",
    "\n",
    "conn = init_db_connection()\n",
    "df2 = pd.read_sql(sql, con=conn)\n",
    "df2"
   ]
  },
  {
   "cell_type": "code",
   "execution_count": 101,
   "metadata": {},
   "outputs": [
    {
     "data": {
      "text/html": [
       "<div>\n",
       "<style scoped>\n",
       "    .dataframe tbody tr th:only-of-type {\n",
       "        vertical-align: middle;\n",
       "    }\n",
       "\n",
       "    .dataframe tbody tr th {\n",
       "        vertical-align: top;\n",
       "    }\n",
       "\n",
       "    .dataframe thead th {\n",
       "        text-align: right;\n",
       "    }\n",
       "</style>\n",
       "<table border=\"1\" class=\"dataframe\">\n",
       "  <thead>\n",
       "    <tr style=\"text-align: right;\">\n",
       "      <th></th>\n",
       "      <th>도로명주소관리번호</th>\n",
       "      <th>PNU_COUNT</th>\n",
       "      <th>새우편번호</th>\n",
       "      <th>도로명주소1</th>\n",
       "      <th>도로명주소2</th>\n",
       "      <th>시도명</th>\n",
       "    </tr>\n",
       "  </thead>\n",
       "  <tbody>\n",
       "    <tr>\n",
       "      <th>0</th>\n",
       "      <td>27170109300701600003300000</td>\n",
       "      <td>637</td>\n",
       "      <td>41716</td>\n",
       "      <td>대구광역시 서구 고성로 33 (원대동3가, 서대구센트럴자이)</td>\n",
       "      <td>대구광역시 서구 고성로 33</td>\n",
       "      <td>대구광역시</td>\n",
       "    </tr>\n",
       "    <tr>\n",
       "      <th>1</th>\n",
       "      <td>27170103422922100003000000</td>\n",
       "      <td>481</td>\n",
       "      <td>41767</td>\n",
       "      <td>대구광역시 서구 서대구로29길 30 (평리동, 서대구역화성파크드림)</td>\n",
       "      <td>대구광역시 서구 서대구로29길 30</td>\n",
       "      <td>대구광역시</td>\n",
       "    </tr>\n",
       "    <tr>\n",
       "      <th>2</th>\n",
       "      <td>11140153310002100024600000</td>\n",
       "      <td>448</td>\n",
       "      <td>04563</td>\n",
       "      <td>서울특별시 중구 청계천로 246 (방산동)</td>\n",
       "      <td>서울특별시 중구 청계천로 246</td>\n",
       "      <td>서울특별시</td>\n",
       "    </tr>\n",
       "    <tr>\n",
       "      <th>3</th>\n",
       "      <td>52710330301600100150000000</td>\n",
       "      <td>417</td>\n",
       "      <td>55365</td>\n",
       "      <td>전북특별자치도 완주군 이서면 콩쥐팥쥐로 1500</td>\n",
       "      <td>전북특별자치도 완주군 이서면 콩쥐팥쥐로 1500</td>\n",
       "      <td>전북특별자치도</td>\n",
       "    </tr>\n",
       "    <tr>\n",
       "      <th>4</th>\n",
       "      <td>27170103314301200044600000</td>\n",
       "      <td>417</td>\n",
       "      <td>41763</td>\n",
       "      <td>대구광역시 서구 당산로 446 (평리동, 서대구영무예다음)</td>\n",
       "      <td>대구광역시 서구 당산로 446</td>\n",
       "      <td>대구광역시</td>\n",
       "    </tr>\n",
       "    <tr>\n",
       "      <th>5</th>\n",
       "      <td>30200133316706000022000001</td>\n",
       "      <td>410</td>\n",
       "      <td>34059</td>\n",
       "      <td>대전광역시 유성구 자운로 220-1 (추목동)</td>\n",
       "      <td>대전광역시 유성구 자운로 220-1</td>\n",
       "      <td>대전광역시</td>\n",
       "    </tr>\n",
       "    <tr>\n",
       "      <th>6</th>\n",
       "      <td>52710330301600200018100000</td>\n",
       "      <td>409</td>\n",
       "      <td>55365</td>\n",
       "      <td>전북특별자치도 완주군 이서면 혁신로 181</td>\n",
       "      <td>전북특별자치도 완주군 이서면 혁신로 181</td>\n",
       "      <td>전북특별자치도</td>\n",
       "    </tr>\n",
       "    <tr>\n",
       "      <th>7</th>\n",
       "      <td>27170103314300400023000000</td>\n",
       "      <td>408</td>\n",
       "      <td>41774</td>\n",
       "      <td>대구광역시 서구 문화로 230 (평리동, 서대구역반도유보라센텀)</td>\n",
       "      <td>대구광역시 서구 문화로 230</td>\n",
       "      <td>대구광역시</td>\n",
       "    </tr>\n",
       "    <tr>\n",
       "      <th>8</th>\n",
       "      <td>48840390334304500154500000</td>\n",
       "      <td>384</td>\n",
       "      <td>52455</td>\n",
       "      <td>경상남도 남해군 창선면 흥선로 1545</td>\n",
       "      <td>경상남도 남해군 창선면 흥선로 1545</td>\n",
       "      <td>경상남도</td>\n",
       "    </tr>\n",
       "    <tr>\n",
       "      <th>9</th>\n",
       "      <td>48250119333505100050200000</td>\n",
       "      <td>379</td>\n",
       "      <td>50811</td>\n",
       "      <td>경상남도 김해시 인제로 502 (삼방동)</td>\n",
       "      <td>경상남도 김해시 인제로 502</td>\n",
       "      <td>경상남도</td>\n",
       "    </tr>\n",
       "  </tbody>\n",
       "</table>\n",
       "</div>"
      ],
      "text/plain": [
       "                    도로명주소관리번호  PNU_COUNT  새우편번호  \\\n",
       "0  27170109300701600003300000        637  41716   \n",
       "1  27170103422922100003000000        481  41767   \n",
       "2  11140153310002100024600000        448  04563   \n",
       "3  52710330301600100150000000        417  55365   \n",
       "4  27170103314301200044600000        417  41763   \n",
       "5  30200133316706000022000001        410  34059   \n",
       "6  52710330301600200018100000        409  55365   \n",
       "7  27170103314300400023000000        408  41774   \n",
       "8  48840390334304500154500000        384  52455   \n",
       "9  48250119333505100050200000        379  50811   \n",
       "\n",
       "                                  도로명주소1                      도로명주소2      시도명  \n",
       "0      대구광역시 서구 고성로 33 (원대동3가, 서대구센트럴자이)             대구광역시 서구 고성로 33    대구광역시  \n",
       "1  대구광역시 서구 서대구로29길 30 (평리동, 서대구역화성파크드림)         대구광역시 서구 서대구로29길 30    대구광역시  \n",
       "2                서울특별시 중구 청계천로 246 (방산동)           서울특별시 중구 청계천로 246    서울특별시  \n",
       "3             전북특별자치도 완주군 이서면 콩쥐팥쥐로 1500  전북특별자치도 완주군 이서면 콩쥐팥쥐로 1500  전북특별자치도  \n",
       "4       대구광역시 서구 당산로 446 (평리동, 서대구영무예다음)            대구광역시 서구 당산로 446    대구광역시  \n",
       "5              대전광역시 유성구 자운로 220-1 (추목동)         대전광역시 유성구 자운로 220-1    대전광역시  \n",
       "6                전북특별자치도 완주군 이서면 혁신로 181     전북특별자치도 완주군 이서면 혁신로 181  전북특별자치도  \n",
       "7    대구광역시 서구 문화로 230 (평리동, 서대구역반도유보라센텀)            대구광역시 서구 문화로 230    대구광역시  \n",
       "8                  경상남도 남해군 창선면 흥선로 1545       경상남도 남해군 창선면 흥선로 1545     경상남도  \n",
       "9                 경상남도 김해시 인제로 502 (삼방동)            경상남도 김해시 인제로 502     경상남도  "
      ]
     },
     "execution_count": 101,
     "metadata": {},
     "output_type": "execute_result"
    }
   ],
   "source": [
    "merged = df1.merge(df2, on='도로명주소관리번호').sort_values('PNU_COUNT', ascending=False)\n",
    "merged"
   ]
  }
 ],
 "metadata": {
  "kernelspec": {
   "display_name": "Python 3",
   "language": "python",
   "name": "python3"
  },
  "language_info": {
   "codemirror_mode": {
    "name": "ipython",
    "version": 3
   },
   "file_extension": ".py",
   "mimetype": "text/x-python",
   "name": "python",
   "nbconvert_exporter": "python",
   "pygments_lexer": "ipython3",
   "version": "3.9.7"
  }
 },
 "nbformat": 4,
 "nbformat_minor": 2
}
