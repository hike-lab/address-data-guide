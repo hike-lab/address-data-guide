{
  "cells": [
    {
      "cell_type": "markdown",
      "metadata": {
        "id": "we2acPG7f0Fq"
      },
      "source": [
        "# 6.1. 네이버 지오코딩 API 활용하기\n",
        "\n",
        "---\n",
        "- 최종 수정일 : 2024-03-19"
      ]
    },
    {
      "cell_type": "markdown",
      "metadata": {
        "id": "zQ1VxiBof0F1"
      },
      "source": [
        "\n",
        "\n",
        "-  문서에서 안내한대로 .env 파일과 .gitignore 파일을 업로드 하여 실행해주세요!"
      ]
    },
    {
      "cell_type": "markdown",
      "metadata": {
        "id": "NnrYuFOmf0F3"
      },
      "source": [
        "## 1. 필요 라이브러리 설정"
      ]
    },
    {
      "cell_type": "code",
      "execution_count": 1,
      "metadata": {
        "colab": {
          "base_uri": "https://localhost:8080/"
        },
        "id": "Gvl_nzjSf0F4",
        "outputId": "6047005a-d240-49ae-a215-f78ca27cb056"
      },
      "outputs": [
        {
          "output_type": "stream",
          "name": "stdout",
          "text": [
            "Collecting python-dotenv\n",
            "  Downloading python_dotenv-1.0.1-py3-none-any.whl (19 kB)\n",
            "Installing collected packages: python-dotenv\n",
            "Successfully installed python-dotenv-1.0.1\n"
          ]
        }
      ],
      "source": [
        "!pip install python-dotenv # dotenv 사용을 위한 라이브러리"
      ]
    },
    {
      "cell_type": "code",
      "execution_count": null,
      "metadata": {
        "id": "fLA2x9Dmf0F7"
      },
      "outputs": [],
      "source": [
        "# dotenv 사용을 위한 라이브러리\n",
        "from dotenv import load_dotenv\n",
        "import os\n",
        "\n",
        "# API 활용을 위한 라이브러리\n",
        "import requests as re\n",
        "import json\n",
        "\n",
        "# 환경변수 로드\n",
        "load_dotenv(\".env\")\n",
        "API_ID = os.getenv(\"CLIENT_ID\")\n",
        "API_SECRET = os.getenv(\"CLIENT_SECRET\")"
      ]
    },
    {
      "cell_type": "markdown",
      "metadata": {
        "id": "RmSEhYokf0F9"
      },
      "source": [
        "## 2. 지오코딩 테스트해보기"
      ]
    },
    {
      "cell_type": "markdown",
      "metadata": {
        "id": "hXrMqYRUf0F-"
      },
      "source": [
        "#### (1) 요청 URL 작성"
      ]
    },
    {
      "cell_type": "code",
      "execution_count": null,
      "metadata": {
        "id": "GH9jIV7zf0F-"
      },
      "outputs": [],
      "source": [
        "headers = {\"X-NCP-APIGW-API-KEY-ID\":API_ID, \"X-NCP-APIGW-API-KEY\":API_SECRET} # 요청 헤더값 작성 - API 키 정보를 입력합니다\n",
        "params = {\"query\": \"서울특별시 동작구  흑석동 221-0번지 중앙대학교\"} # 검색할 주소를 작성합니다\n",
        "\n",
        "url =\"https://naveropenapi.apigw.ntruss.com/map-geocode/v2/geocode\" # API를 요청할 서버 주소입니다.\n",
        "\n",
        "data = re.get(url, headers=headers, params=params) # API 서버에 요청을 보냅니다."
      ]
    },
    {
      "cell_type": "markdown",
      "metadata": {
        "id": "utWNdnGKf0F_"
      },
      "source": [
        "#### (2) 데이터 확인하기"
      ]
    },
    {
      "cell_type": "code",
      "execution_count": null,
      "metadata": {
        "id": "SmQc2l4vf0GA"
      },
      "outputs": [],
      "source": [
        "data.text # 응답 결과를 문자열 형식으로 출력합니다."
      ]
    },
    {
      "cell_type": "code",
      "execution_count": null,
      "metadata": {
        "id": "rqcCXqjnf0GB"
      },
      "outputs": [],
      "source": [
        "json_ob = json.loads(data.text)\n",
        "json_ob # 응답 결과를 딕셔너리 형식으로 바꿔줍니다."
      ]
    },
    {
      "cell_type": "markdown",
      "metadata": {
        "id": "H9PfEhjdf0GB"
      },
      "source": [
        "#### (3) 도로명주소 값만 추출하기"
      ]
    },
    {
      "cell_type": "code",
      "execution_count": null,
      "metadata": {
        "id": "Zt1vKgbkf0GB"
      },
      "outputs": [],
      "source": [
        "json_ob[\"addresses\"][0][\"roadAddress\"]"
      ]
    },
    {
      "cell_type": "markdown",
      "metadata": {
        "id": "kQvnGCtUf0GC"
      },
      "source": [
        "## 3. 역지오코딩 테스트해보기"
      ]
    },
    {
      "cell_type": "markdown",
      "metadata": {
        "id": "q4Cebnulf0GC"
      },
      "source": [
        "#### (1) 요청 URL 작성"
      ]
    },
    {
      "cell_type": "code",
      "execution_count": null,
      "metadata": {
        "id": "ZK2La_Qgf0GD"
      },
      "outputs": [],
      "source": [
        "headers = {\"X-NCP-APIGW-API-KEY-ID\":API_ID, \"X-NCP-APIGW-API-KEY\":API_SECRET}\n",
        "params = {\"coords\":\"127.123456,36.123456\",\"output\":\"json\"} # 검색할 좌표를 작성합니다. 경도, 위도 순서로 작성해주세요.\n",
        "\n",
        "url =\"https://naveropenapi.apigw.ntruss.com/map-reversegeocode/v2/gc\" #  지오코딩과 다른 URL에서 요청합니다.\n",
        "\n",
        "data = re.get(url, headers=headers, params=params)"
      ]
    },
    {
      "cell_type": "markdown",
      "metadata": {
        "id": "IKX9c6MEf0GD"
      },
      "source": [
        "#### (2) 응답 값에서 지번주소구성요소, 도로명주소구성요소 추출하기"
      ]
    },
    {
      "cell_type": "code",
      "execution_count": null,
      "metadata": {
        "id": "8pZ1vktrf0GD"
      },
      "outputs": [],
      "source": [
        "json_ob = json.loads(data.text) # 응답값 형식 변환\n",
        "\n",
        "# 도로명주소 구성요소 딕셔너리\n",
        "roadaddr = json_ob[\"results\"][0]\n",
        "\n",
        "# 지번주소 구성요소 딕셔너리\n",
        "addr = json_ob[\"results\"][1]"
      ]
    },
    {
      "cell_type": "code",
      "execution_count": null,
      "metadata": {
        "id": "7IHSHyRQf0GD"
      },
      "outputs": [],
      "source": [
        "# 도로명주소 구성요소\n",
        "roadaddr"
      ]
    },
    {
      "cell_type": "code",
      "execution_count": null,
      "metadata": {
        "id": "lXyCbQfof0GE"
      },
      "outputs": [],
      "source": [
        "# 지번주소 구성요소\n",
        "addr"
      ]
    }
  ],
  "metadata": {
    "language_info": {
      "name": "python"
    },
    "colab": {
      "provenance": []
    },
    "kernelspec": {
      "name": "python3",
      "display_name": "Python 3"
    }
  },
  "nbformat": 4,
  "nbformat_minor": 0
}