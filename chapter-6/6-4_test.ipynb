{
 "cells": [
  {
   "cell_type": "markdown",
   "metadata": {},
   "source": [
    "## 6. 외부 데이터를 연계한 주소 검색 API 만들기\n",
    "### 6-3. API데이터에 내고장알리미 데이터 연계하기\n"
   ]
  },
  {
   "cell_type": "code",
   "execution_count": null,
   "metadata": {},
   "outputs": [],
   "source": [
    "import requests\n",
    "import pandas as pd\n",
    "\n",
    "# API 호출하기\n",
    "keyword = '정부세종청사' #검색 키워드\n",
    "url = \"https://business.juso.go.kr/addrlink/addrLinkApi.do\"\n",
    "params = {\n",
    "    \"confmKey\":\"발급받은 API 승인KEY\",\n",
    "    \"currentPage\":\"1\",\n",
    "    \"countPerPage\":\"10\",\n",
    "    \"keyword\": keyword,\n",
    "    \"resultType\":\"json\"\n",
    "}\n",
    "api_result = requests.get(url, params=params)\n",
    "admCd = api_result.json()['results']['juso'][0]['admCd']\n",
    "search_code = int(admCd[:5]+'00000')"
   ]
  },
  {
   "cell_type": "code",
   "execution_count": null,
   "metadata": {},
   "outputs": [],
   "source": [
    "# 내고장알리미 데이터에서 시군구코드 일치하는 데이터 반환\n",
    "mygojang = pd.read_csv('mygojang-crawling-data-2024-02-26.csv')\n",
    "result = mygojang.loc[mygojang['DIST_CODE']==search_code].T.iloc[:,0]\n",
    "result"
   ]
  }
 ],
 "metadata": {
  "language_info": {
   "name": "python"
  }
 },
 "nbformat": 4,
 "nbformat_minor": 2
}
