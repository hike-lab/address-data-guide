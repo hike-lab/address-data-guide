{
  "cells": [
    {
      "cell_type": "markdown",
      "metadata": {
        "id": "ChuBpO1Of3Z4"
      },
      "source": [
        "# 7.4 도로명주소 유효성 평가 및 정제\n",
        "---\n",
        "- 최종 수정일 : 2024-03\n",
        "- **7.1.에서 생성한 .env 파일도 로드해주세요**\n",
        "- 정제가 완료된 파일들은 refine 폴더에 있습니다."
      ]
    },
    {
      "cell_type": "code",
      "execution_count": 1,
      "metadata": {
        "colab": {
          "base_uri": "https://localhost:8080/"
        },
        "id": "s5oGTzCqkwTB",
        "outputId": "6f196b52-dccc-41e3-d7b6-30e57bcf5837"
      },
      "outputs": [
        {
          "name": "stdout",
          "output_type": "stream",
          "text": [
            "Collecting python-dotenv\n",
            "  Downloading python_dotenv-1.0.1-py3-none-any.whl (19 kB)\n",
            "Installing collected packages: python-dotenv\n",
            "Successfully installed python-dotenv-1.0.1\n",
            "Requirement already satisfied: plotly in /usr/local/lib/python3.10/dist-packages (5.15.0)\n",
            "Requirement already satisfied: tenacity>=6.2.0 in /usr/local/lib/python3.10/dist-packages (from plotly) (8.2.3)\n",
            "Requirement already satisfied: packaging in /usr/local/lib/python3.10/dist-packages (from plotly) (24.0)\n"
          ]
        }
      ],
      "source": [
        "!pip install python-dotenv\n",
        "!pip install plotly"
      ]
    },
    {
      "cell_type": "code",
      "execution_count": 2,
      "metadata": {
        "id": "3tvnYIPQf3Z-"
      },
      "outputs": [],
      "source": [
        "import pandas as pd\n",
        "import numpy as np\n",
        "\n",
        "import warnings\n",
        "# 경고 메시지 숨기기\n",
        "warnings.filterwarnings(action='ignore')\n",
        "\n",
        "import re\n",
        "import requests\n",
        "\n",
        "import plotly.graph_objects as go\n",
        "from plotly.subplots import make_subplots\n",
        "\n",
        "from dotenv import load_dotenv\n",
        "import os\n",
        "from tqdm import tqdm\n",
        "load_dotenv(\".env\")\n",
        "\n",
        "API_ID = os.getenv(\"CLIENT_ID\")\n",
        "API_SECRET = os.getenv(\"CLIENT_SECRET\")\n",
        "\n",
        "import json"
      ]
    },
    {
      "cell_type": "markdown",
      "metadata": {
        "id": "BLRKWZ1Jf3aE"
      },
      "source": [
        "## 0. 필요 데이터, 함수 준비\n",
        "\n",
        "- 본 문서에서 필요한 데이터\n",
        "    - 깃헙 : https://github.com/hike-lab/address-data-guide/tree/main/chapter-7/data\n",
        "    - 구글 드라이브 : "
      ]
    },
    {
      "cell_type": "code",
      "execution_count": 3,
      "metadata": {
        "id": "tU2e3gP6f3aF"
      },
      "outputs": [],
      "source": [
        "df = pd.read_csv(\"sample.csv\", encoding='cp949')\n",
        "# 결측치의 데이터 타입을 None으로 변경\n",
        "df = df.replace(np.nan, '-').replace(\"-\",None)\n",
        "\n",
        "sido_map = json.load(open(\"sido_mapping_table.json\", \"r\"))\n",
        "sido_map = sido_map[\"data\"]"
      ]
    },
    {
      "cell_type": "markdown",
      "metadata": {
        "id": "iy0IW7qmf3aG"
      },
      "source": [
        "### 0.1 평가 테이블 준비\n",
        "\n",
        "개별 값에 대한 평가값이 입력될 평가 테이블을 생성한다. 각 컬럼이 의미하는 바는 아래와 같다.\n",
        "\n",
        "- pattern : 구문 오류\n",
        "- unvaild_city : 생략 자치단체명\n",
        "- exist : 주소의 실존 여부\n",
        "- API_addr : 동/읍/면 명칭 추가\n",
        "- data : 원본 주소"
      ]
    },
    {
      "cell_type": "code",
      "execution_count": 4,
      "metadata": {
        "colab": {
          "base_uri": "https://localhost:8080/",
          "height": 423
        },
        "id": "mZBc_Rylf3aH",
        "outputId": "81bb727f-13c8-4e49-d091-a9eabcf41aad"
      },
      "outputs": [
        {
          "data": {
            "application/vnd.google.colaboratory.intrinsic+json": {
              "summary": "{\n  \"name\": \"addr_error\",\n  \"rows\": 499,\n  \"fields\": [\n    {\n      \"column\": \"pattern\",\n      \"properties\": {\n        \"dtype\": \"number\",\n        \"std\": 0.0,\n        \"min\": 0.0,\n        \"max\": 0.0,\n        \"num_unique_values\": 1,\n        \"samples\": [\n          0.0\n        ],\n        \"semantic_type\": \"\",\n        \"description\": \"\"\n      }\n    },\n    {\n      \"column\": \"unvalid_city\",\n      \"properties\": {\n        \"dtype\": \"number\",\n        \"std\": 0.0,\n        \"min\": 0.0,\n        \"max\": 0.0,\n        \"num_unique_values\": 1,\n        \"samples\": [\n          0.0\n        ],\n        \"semantic_type\": \"\",\n        \"description\": \"\"\n      }\n    },\n    {\n      \"column\": \"exist\",\n      \"properties\": {\n        \"dtype\": \"number\",\n        \"std\": 0.0,\n        \"min\": 0.0,\n        \"max\": 0.0,\n        \"num_unique_values\": 1,\n        \"samples\": [\n          0.0\n        ],\n        \"semantic_type\": \"\",\n        \"description\": \"\"\n      }\n    },\n    {\n      \"column\": \"API_addr\",\n      \"properties\": {\n        \"dtype\": \"number\",\n        \"std\": 0.0,\n        \"min\": 0.0,\n        \"max\": 0.0,\n        \"num_unique_values\": 1,\n        \"samples\": [\n          0.0\n        ],\n        \"semantic_type\": \"\",\n        \"description\": \"\"\n      }\n    },\n    {\n      \"column\": \"data\",\n      \"properties\": {\n        \"dtype\": \"category\",\n        \"num_unique_values\": 233,\n        \"samples\": [\n          \"\\uc804\\ub77c\\ub0a8\\ub3c4 \\uc21c\\ucc9c\\uc2dc \\uad6d\\uac00\\uc815\\uc6d01\\ud638\\uae38 47\"\n        ],\n        \"semantic_type\": \"\",\n        \"description\": \"\"\n      }\n    }\n  ]\n}",
              "type": "dataframe",
              "variable_name": "addr_error"
            },
            "text/html": [
              "\n",
              "  <div id=\"df-a6b13800-cb8e-47af-8131-7b0f212fa329\" class=\"colab-df-container\">\n",
              "    <div>\n",
              "<style scoped>\n",
              "    .dataframe tbody tr th:only-of-type {\n",
              "        vertical-align: middle;\n",
              "    }\n",
              "\n",
              "    .dataframe tbody tr th {\n",
              "        vertical-align: top;\n",
              "    }\n",
              "\n",
              "    .dataframe thead th {\n",
              "        text-align: right;\n",
              "    }\n",
              "</style>\n",
              "<table border=\"1\" class=\"dataframe\">\n",
              "  <thead>\n",
              "    <tr style=\"text-align: right;\">\n",
              "      <th></th>\n",
              "      <th>pattern</th>\n",
              "      <th>unvalid_city</th>\n",
              "      <th>exist</th>\n",
              "      <th>API_addr</th>\n",
              "      <th>data</th>\n",
              "    </tr>\n",
              "  </thead>\n",
              "  <tbody>\n",
              "    <tr>\n",
              "      <th>0</th>\n",
              "      <td>0.0</td>\n",
              "      <td>0.0</td>\n",
              "      <td>0.0</td>\n",
              "      <td>0.0</td>\n",
              "      <td>강원도 평창군 평창읍 평창중앙로 67</td>\n",
              "    </tr>\n",
              "    <tr>\n",
              "      <th>1</th>\n",
              "      <td>0.0</td>\n",
              "      <td>0.0</td>\n",
              "      <td>0.0</td>\n",
              "      <td>0.0</td>\n",
              "      <td>강원도 평창군 미탄면 청옥산1길 3-9</td>\n",
              "    </tr>\n",
              "    <tr>\n",
              "      <th>2</th>\n",
              "      <td>0.0</td>\n",
              "      <td>0.0</td>\n",
              "      <td>0.0</td>\n",
              "      <td>0.0</td>\n",
              "      <td>강원도 평창군 피탄면 청옥산1길 13</td>\n",
              "    </tr>\n",
              "    <tr>\n",
              "      <th>3</th>\n",
              "      <td>0.0</td>\n",
              "      <td>0.0</td>\n",
              "      <td>0.0</td>\n",
              "      <td>0.0</td>\n",
              "      <td>강원도 평창군 방림면 서동로 1338-3</td>\n",
              "    </tr>\n",
              "    <tr>\n",
              "      <th>4</th>\n",
              "      <td>0.0</td>\n",
              "      <td>0.0</td>\n",
              "      <td>0.0</td>\n",
              "      <td>0.0</td>\n",
              "      <td>강원도 평창군 방림면 계촌길 101</td>\n",
              "    </tr>\n",
              "    <tr>\n",
              "      <th>...</th>\n",
              "      <td>...</td>\n",
              "      <td>...</td>\n",
              "      <td>...</td>\n",
              "      <td>...</td>\n",
              "      <td>...</td>\n",
              "    </tr>\n",
              "    <tr>\n",
              "      <th>494</th>\n",
              "      <td>0.0</td>\n",
              "      <td>0.0</td>\n",
              "      <td>0.0</td>\n",
              "      <td>0.0</td>\n",
              "      <td>충청남도 예산군 봉산면 봉산로 420</td>\n",
              "    </tr>\n",
              "    <tr>\n",
              "      <th>495</th>\n",
              "      <td>0.0</td>\n",
              "      <td>0.0</td>\n",
              "      <td>0.0</td>\n",
              "      <td>0.0</td>\n",
              "      <td>충청남도 예산군 봉산면 봉산로 511</td>\n",
              "    </tr>\n",
              "    <tr>\n",
              "      <th>496</th>\n",
              "      <td>0.0</td>\n",
              "      <td>0.0</td>\n",
              "      <td>0.0</td>\n",
              "      <td>0.0</td>\n",
              "      <td>충청남도 예산군 봉산면 금치1길 9</td>\n",
              "    </tr>\n",
              "    <tr>\n",
              "      <th>497</th>\n",
              "      <td>0.0</td>\n",
              "      <td>0.0</td>\n",
              "      <td>0.0</td>\n",
              "      <td>0.0</td>\n",
              "      <td>충청남도 예산군 봉산면 옹안길 37</td>\n",
              "    </tr>\n",
              "    <tr>\n",
              "      <th>498</th>\n",
              "      <td>0.0</td>\n",
              "      <td>0.0</td>\n",
              "      <td>0.0</td>\n",
              "      <td>0.0</td>\n",
              "      <td>None</td>\n",
              "    </tr>\n",
              "  </tbody>\n",
              "</table>\n",
              "<p>499 rows × 5 columns</p>\n",
              "</div>\n",
              "    <div class=\"colab-df-buttons\">\n",
              "\n",
              "  <div class=\"colab-df-container\">\n",
              "    <button class=\"colab-df-convert\" onclick=\"convertToInteractive('df-a6b13800-cb8e-47af-8131-7b0f212fa329')\"\n",
              "            title=\"Convert this dataframe to an interactive table.\"\n",
              "            style=\"display:none;\">\n",
              "\n",
              "  <svg xmlns=\"http://www.w3.org/2000/svg\" height=\"24px\" viewBox=\"0 -960 960 960\">\n",
              "    <path d=\"M120-120v-720h720v720H120Zm60-500h600v-160H180v160Zm220 220h160v-160H400v160Zm0 220h160v-160H400v160ZM180-400h160v-160H180v160Zm440 0h160v-160H620v160ZM180-180h160v-160H180v160Zm440 0h160v-160H620v160Z\"/>\n",
              "  </svg>\n",
              "    </button>\n",
              "\n",
              "  <style>\n",
              "    .colab-df-container {\n",
              "      display:flex;\n",
              "      gap: 12px;\n",
              "    }\n",
              "\n",
              "    .colab-df-convert {\n",
              "      background-color: #E8F0FE;\n",
              "      border: none;\n",
              "      border-radius: 50%;\n",
              "      cursor: pointer;\n",
              "      display: none;\n",
              "      fill: #1967D2;\n",
              "      height: 32px;\n",
              "      padding: 0 0 0 0;\n",
              "      width: 32px;\n",
              "    }\n",
              "\n",
              "    .colab-df-convert:hover {\n",
              "      background-color: #E2EBFA;\n",
              "      box-shadow: 0px 1px 2px rgba(60, 64, 67, 0.3), 0px 1px 3px 1px rgba(60, 64, 67, 0.15);\n",
              "      fill: #174EA6;\n",
              "    }\n",
              "\n",
              "    .colab-df-buttons div {\n",
              "      margin-bottom: 4px;\n",
              "    }\n",
              "\n",
              "    [theme=dark] .colab-df-convert {\n",
              "      background-color: #3B4455;\n",
              "      fill: #D2E3FC;\n",
              "    }\n",
              "\n",
              "    [theme=dark] .colab-df-convert:hover {\n",
              "      background-color: #434B5C;\n",
              "      box-shadow: 0px 1px 3px 1px rgba(0, 0, 0, 0.15);\n",
              "      filter: drop-shadow(0px 1px 2px rgba(0, 0, 0, 0.3));\n",
              "      fill: #FFFFFF;\n",
              "    }\n",
              "  </style>\n",
              "\n",
              "    <script>\n",
              "      const buttonEl =\n",
              "        document.querySelector('#df-a6b13800-cb8e-47af-8131-7b0f212fa329 button.colab-df-convert');\n",
              "      buttonEl.style.display =\n",
              "        google.colab.kernel.accessAllowed ? 'block' : 'none';\n",
              "\n",
              "      async function convertToInteractive(key) {\n",
              "        const element = document.querySelector('#df-a6b13800-cb8e-47af-8131-7b0f212fa329');\n",
              "        const dataTable =\n",
              "          await google.colab.kernel.invokeFunction('convertToInteractive',\n",
              "                                                    [key], {});\n",
              "        if (!dataTable) return;\n",
              "\n",
              "        const docLinkHtml = 'Like what you see? Visit the ' +\n",
              "          '<a target=\"_blank\" href=https://colab.research.google.com/notebooks/data_table.ipynb>data table notebook</a>'\n",
              "          + ' to learn more about interactive tables.';\n",
              "        element.innerHTML = '';\n",
              "        dataTable['output_type'] = 'display_data';\n",
              "        await google.colab.output.renderOutput(dataTable, element);\n",
              "        const docLink = document.createElement('div');\n",
              "        docLink.innerHTML = docLinkHtml;\n",
              "        element.appendChild(docLink);\n",
              "      }\n",
              "    </script>\n",
              "  </div>\n",
              "\n",
              "\n",
              "<div id=\"df-27ca1387-5b14-4323-ba13-2155a376a1e8\">\n",
              "  <button class=\"colab-df-quickchart\" onclick=\"quickchart('df-27ca1387-5b14-4323-ba13-2155a376a1e8')\"\n",
              "            title=\"Suggest charts\"\n",
              "            style=\"display:none;\">\n",
              "\n",
              "<svg xmlns=\"http://www.w3.org/2000/svg\" height=\"24px\"viewBox=\"0 0 24 24\"\n",
              "     width=\"24px\">\n",
              "    <g>\n",
              "        <path d=\"M19 3H5c-1.1 0-2 .9-2 2v14c0 1.1.9 2 2 2h14c1.1 0 2-.9 2-2V5c0-1.1-.9-2-2-2zM9 17H7v-7h2v7zm4 0h-2V7h2v10zm4 0h-2v-4h2v4z\"/>\n",
              "    </g>\n",
              "</svg>\n",
              "  </button>\n",
              "\n",
              "<style>\n",
              "  .colab-df-quickchart {\n",
              "      --bg-color: #E8F0FE;\n",
              "      --fill-color: #1967D2;\n",
              "      --hover-bg-color: #E2EBFA;\n",
              "      --hover-fill-color: #174EA6;\n",
              "      --disabled-fill-color: #AAA;\n",
              "      --disabled-bg-color: #DDD;\n",
              "  }\n",
              "\n",
              "  [theme=dark] .colab-df-quickchart {\n",
              "      --bg-color: #3B4455;\n",
              "      --fill-color: #D2E3FC;\n",
              "      --hover-bg-color: #434B5C;\n",
              "      --hover-fill-color: #FFFFFF;\n",
              "      --disabled-bg-color: #3B4455;\n",
              "      --disabled-fill-color: #666;\n",
              "  }\n",
              "\n",
              "  .colab-df-quickchart {\n",
              "    background-color: var(--bg-color);\n",
              "    border: none;\n",
              "    border-radius: 50%;\n",
              "    cursor: pointer;\n",
              "    display: none;\n",
              "    fill: var(--fill-color);\n",
              "    height: 32px;\n",
              "    padding: 0;\n",
              "    width: 32px;\n",
              "  }\n",
              "\n",
              "  .colab-df-quickchart:hover {\n",
              "    background-color: var(--hover-bg-color);\n",
              "    box-shadow: 0 1px 2px rgba(60, 64, 67, 0.3), 0 1px 3px 1px rgba(60, 64, 67, 0.15);\n",
              "    fill: var(--button-hover-fill-color);\n",
              "  }\n",
              "\n",
              "  .colab-df-quickchart-complete:disabled,\n",
              "  .colab-df-quickchart-complete:disabled:hover {\n",
              "    background-color: var(--disabled-bg-color);\n",
              "    fill: var(--disabled-fill-color);\n",
              "    box-shadow: none;\n",
              "  }\n",
              "\n",
              "  .colab-df-spinner {\n",
              "    border: 2px solid var(--fill-color);\n",
              "    border-color: transparent;\n",
              "    border-bottom-color: var(--fill-color);\n",
              "    animation:\n",
              "      spin 1s steps(1) infinite;\n",
              "  }\n",
              "\n",
              "  @keyframes spin {\n",
              "    0% {\n",
              "      border-color: transparent;\n",
              "      border-bottom-color: var(--fill-color);\n",
              "      border-left-color: var(--fill-color);\n",
              "    }\n",
              "    20% {\n",
              "      border-color: transparent;\n",
              "      border-left-color: var(--fill-color);\n",
              "      border-top-color: var(--fill-color);\n",
              "    }\n",
              "    30% {\n",
              "      border-color: transparent;\n",
              "      border-left-color: var(--fill-color);\n",
              "      border-top-color: var(--fill-color);\n",
              "      border-right-color: var(--fill-color);\n",
              "    }\n",
              "    40% {\n",
              "      border-color: transparent;\n",
              "      border-right-color: var(--fill-color);\n",
              "      border-top-color: var(--fill-color);\n",
              "    }\n",
              "    60% {\n",
              "      border-color: transparent;\n",
              "      border-right-color: var(--fill-color);\n",
              "    }\n",
              "    80% {\n",
              "      border-color: transparent;\n",
              "      border-right-color: var(--fill-color);\n",
              "      border-bottom-color: var(--fill-color);\n",
              "    }\n",
              "    90% {\n",
              "      border-color: transparent;\n",
              "      border-bottom-color: var(--fill-color);\n",
              "    }\n",
              "  }\n",
              "</style>\n",
              "\n",
              "  <script>\n",
              "    async function quickchart(key) {\n",
              "      const quickchartButtonEl =\n",
              "        document.querySelector('#' + key + ' button');\n",
              "      quickchartButtonEl.disabled = true;  // To prevent multiple clicks.\n",
              "      quickchartButtonEl.classList.add('colab-df-spinner');\n",
              "      try {\n",
              "        const charts = await google.colab.kernel.invokeFunction(\n",
              "            'suggestCharts', [key], {});\n",
              "      } catch (error) {\n",
              "        console.error('Error during call to suggestCharts:', error);\n",
              "      }\n",
              "      quickchartButtonEl.classList.remove('colab-df-spinner');\n",
              "      quickchartButtonEl.classList.add('colab-df-quickchart-complete');\n",
              "    }\n",
              "    (() => {\n",
              "      let quickchartButtonEl =\n",
              "        document.querySelector('#df-27ca1387-5b14-4323-ba13-2155a376a1e8 button');\n",
              "      quickchartButtonEl.style.display =\n",
              "        google.colab.kernel.accessAllowed ? 'block' : 'none';\n",
              "    })();\n",
              "  </script>\n",
              "</div>\n",
              "\n",
              "  <div id=\"id_e0756f65-ab58-41e5-a73d-baadb7333885\">\n",
              "    <style>\n",
              "      .colab-df-generate {\n",
              "        background-color: #E8F0FE;\n",
              "        border: none;\n",
              "        border-radius: 50%;\n",
              "        cursor: pointer;\n",
              "        display: none;\n",
              "        fill: #1967D2;\n",
              "        height: 32px;\n",
              "        padding: 0 0 0 0;\n",
              "        width: 32px;\n",
              "      }\n",
              "\n",
              "      .colab-df-generate:hover {\n",
              "        background-color: #E2EBFA;\n",
              "        box-shadow: 0px 1px 2px rgba(60, 64, 67, 0.3), 0px 1px 3px 1px rgba(60, 64, 67, 0.15);\n",
              "        fill: #174EA6;\n",
              "      }\n",
              "\n",
              "      [theme=dark] .colab-df-generate {\n",
              "        background-color: #3B4455;\n",
              "        fill: #D2E3FC;\n",
              "      }\n",
              "\n",
              "      [theme=dark] .colab-df-generate:hover {\n",
              "        background-color: #434B5C;\n",
              "        box-shadow: 0px 1px 3px 1px rgba(0, 0, 0, 0.15);\n",
              "        filter: drop-shadow(0px 1px 2px rgba(0, 0, 0, 0.3));\n",
              "        fill: #FFFFFF;\n",
              "      }\n",
              "    </style>\n",
              "    <button class=\"colab-df-generate\" onclick=\"generateWithVariable('addr_error')\"\n",
              "            title=\"Generate code using this dataframe.\"\n",
              "            style=\"display:none;\">\n",
              "\n",
              "  <svg xmlns=\"http://www.w3.org/2000/svg\" height=\"24px\"viewBox=\"0 0 24 24\"\n",
              "       width=\"24px\">\n",
              "    <path d=\"M7,19H8.4L18.45,9,17,7.55,7,17.6ZM5,21V16.75L18.45,3.32a2,2,0,0,1,2.83,0l1.4,1.43a1.91,1.91,0,0,1,.58,1.4,1.91,1.91,0,0,1-.58,1.4L9.25,21ZM18.45,9,17,7.55Zm-12,3A5.31,5.31,0,0,0,4.9,8.1,5.31,5.31,0,0,0,1,6.5,5.31,5.31,0,0,0,4.9,4.9,5.31,5.31,0,0,0,6.5,1,5.31,5.31,0,0,0,8.1,4.9,5.31,5.31,0,0,0,12,6.5,5.46,5.46,0,0,0,6.5,12Z\"/>\n",
              "  </svg>\n",
              "    </button>\n",
              "    <script>\n",
              "      (() => {\n",
              "      const buttonEl =\n",
              "        document.querySelector('#id_e0756f65-ab58-41e5-a73d-baadb7333885 button.colab-df-generate');\n",
              "      buttonEl.style.display =\n",
              "        google.colab.kernel.accessAllowed ? 'block' : 'none';\n",
              "\n",
              "      buttonEl.onclick = () => {\n",
              "        google.colab.notebook.generateWithVariable('addr_error');\n",
              "      }\n",
              "      })();\n",
              "    </script>\n",
              "  </div>\n",
              "\n",
              "    </div>\n",
              "  </div>\n"
            ],
            "text/plain": [
              "     pattern  unvalid_city  exist  API_addr                    data\n",
              "0        0.0           0.0    0.0       0.0    강원도 평창군 평창읍 평창중앙로 67\n",
              "1        0.0           0.0    0.0       0.0   강원도 평창군 미탄면 청옥산1길 3-9\n",
              "2        0.0           0.0    0.0       0.0    강원도 평창군 피탄면 청옥산1길 13\n",
              "3        0.0           0.0    0.0       0.0  강원도 평창군 방림면 서동로 1338-3\n",
              "4        0.0           0.0    0.0       0.0     강원도 평창군 방림면 계촌길 101\n",
              "..       ...           ...    ...       ...                     ...\n",
              "494      0.0           0.0    0.0       0.0    충청남도 예산군 봉산면 봉산로 420\n",
              "495      0.0           0.0    0.0       0.0    충청남도 예산군 봉산면 봉산로 511\n",
              "496      0.0           0.0    0.0       0.0     충청남도 예산군 봉산면 금치1길 9\n",
              "497      0.0           0.0    0.0       0.0     충청남도 예산군 봉산면 옹안길 37\n",
              "498      0.0           0.0    0.0       0.0                    None\n",
              "\n",
              "[499 rows x 5 columns]"
            ]
          },
          "execution_count": 4,
          "metadata": {},
          "output_type": "execute_result"
        }
      ],
      "source": [
        "datalength = len(df)\n",
        "addr_error = pd.DataFrame(np.zeros((datalength, 4)),columns=[\"pattern\",\"unvalid_city\",\"exist\", \"API_addr\"])\n",
        "addr_error[\"data\"] = df['소재지도로명주소']\n",
        "addr_error"
      ]
    },
    {
      "cell_type": "markdown",
      "metadata": {
        "id": "qUMnPpi-f3aL"
      },
      "source": [
        "### 0.2 시각화 함수 준비"
      ]
    },
    {
      "cell_type": "code",
      "execution_count": 5,
      "metadata": {
        "id": "EGVsutj2f3aL"
      },
      "outputs": [],
      "source": [
        "def make_error_rate_plot(addr_error, col):\n",
        "    # colors\n",
        "    # 정상 : darkblue, 오류 : darkred, 공백 : lightgrey\n",
        "    COLORS = [\"darkblue\", \"darkred\", \"lightgrey\"]\n",
        "\n",
        "    # 오류 비중 계산\n",
        "\n",
        "    errors = addr_error[col].value_counts()[1]\n",
        "    normal = addr_error[col].value_counts()[0]\n",
        "    blank = len(df) - errors - normal\n",
        "\n",
        "    # 서브플롯 객체 생성\n",
        "    # 히트맵을 위해 2개 컬럼에 걸쳐 히트맵 plot 배정\n",
        "    fig = make_subplots(rows=1, cols=3,\n",
        "                        specs=[[{'type':'pie'}, {\"colspan\": 2}, None]],\n",
        "                        subplot_titles=(\"오류 데이터 비율\",\"오류 행 현황\"),\n",
        "                        horizontal_spacing = 0.12)\n",
        "\n",
        "    # 파이차트 추가\n",
        "    fig.add_trace(go.Pie(labels=['정상','오류','공백'], textinfo='label+percent',\n",
        "                        values=[normal, errors, blank],marker=dict(colors=COLORS), showlegend=False,),\n",
        "                row=1, col=1)\n",
        "    # 히트맵차트 추가\n",
        "    fig.add_trace(go.Heatmap(z=[addr_error[col]], x = list(addr_error.index), y= [\"row#\"],\n",
        "                            colorscale = [[0, \"darkblue\"],[1, \"darkred\"]]), row=1, col=2)\n",
        "\n",
        "    fig.show()\n",
        "    return fig"
      ]
    },
    {
      "cell_type": "markdown",
      "metadata": {
        "id": "Ahn3jUZEf3aN"
      },
      "source": [
        "## 1. 오류유형 패턴을 통한 유효성 평가 & 정제\n",
        "\n",
        "**동일패턴**\n",
        "- pattern 1 : 특별/광역시/특별자치도/도 + 자치시/행정시/구 + 도로명\n",
        "- pattern 2 : 광역시/도/특별자치도 + 구/군/자치시 + 읍/면 + 도로명\n",
        "- pattern 3 : 특별자치시 + 도로명\n",
        "- pattern 4 : 특별자치시 + 읍/면 + 도로명\n",
        "- pattern 5 : 도 + 자치시 + 일반구 + 도로명\n",
        "- pattern 6 : 도 + 자치시 + 일반구 + 읍/면 + 도로명"
      ]
    },
    {
      "cell_type": "code",
      "execution_count": 6,
      "metadata": {
        "colab": {
          "base_uri": "https://localhost:8080/"
        },
        "id": "M8T0wEFKf3aN",
        "outputId": "868ad20c-bb49-4c04-982b-895b30828eab"
      },
      "outputs": [
        {
          "data": {
            "text/plain": [
              "Index([None, None, None, None, None, None, None, None, None, None,\n",
              "       ...\n",
              "       None, None, None, None, None, None, None, None, None, None],\n",
              "      dtype='object', length=499)"
            ]
          },
          "execution_count": 6,
          "metadata": {},
          "output_type": "execute_result"
        }
      ],
      "source": [
        "# 특별/광역시/특별자치도/도 + 구/자치시/행정시 + 도로명 + 건물번호\n",
        "pattern1 = r\"(?P<province>[가-힣]+)(?:특별시|광역시|특별자치도|도)\\s+(?P<city>[가-힣]+)(시|구)\\s+(?P<road>[가-힣\\d]+)(?:로|길)\\s+(?P<number>[\\d])\"\n",
        "\n",
        "# 광역시/도/특별자치도 + 자치구/군 + 읍/면 + 도로명 + 건물번호\n",
        "pattern2 = r\"(?P<province>[가-힣]+)(?:도|광역시|특별자치도)\\s+(?P<city>[가-힣]+)(시|군|구)\\s+(?P<local>[가-힣]+)(읍|면)\\s+(?P<road>[가-힣\\d]+)(?:로|길)\\s+(?P<number>[\\d])\"\n",
        "\n",
        "# 특별자치시 + 읍/면 + 도로명 + 건물번호\n",
        "pattern3 = r\"(?P<province>[가-힣]+)(?:특별자치시)\\s+(?P<type>[가-힣]+)(?:읍|면)\\s+(?P<road>[가-힣\\d]+)(?:로|길)\\s+(?P<number>[\\d])\"\n",
        "\n",
        "# 특별자치시 + 도로명 + 건물번호\n",
        "pattern4 = r\"(?P<province>[가-힣]+)(?:특별자치시)\\s+(?P<road>[가-힣\\d]+)(?:로|길)\\s+(?P<number>[\\d])\"\n",
        "\n",
        "# 특별자치도/도 + 자치/행정시 + 일반구 + 도로명 + 건물번호\n",
        "pattern5 = r\"(?P<province>[가-힣]+)(?:도|특별자치도)\\s+(?P<city>[가-힣]+)(?:시)\\s+(?P<type>[가-힣]+)(?:구)\\s+(?P<road>[가-힣\\d]+)(?:로|길)\\s+(?P<number>[\\d])\"\n",
        "\n",
        "# 특별자치도/도 + 자치/행정시 + 일반구 + 읍/면 + 도로명 + 건물번호\n",
        "pattern6 = r\"(?P<province>[가-힣]+)(?:도|특별자치도)\\s+(?P<city>[가-힣]+)(?:시)\\s+(?P<type>[가-힣]+)(?:구)\\s+(?P<local>[가-힣]+)(?:읍|면)\\s+(?P<road>[가-힣\\d]+)(?:로|길)\\s+(?P<number>[\\d])\"\n",
        "\n",
        "\n",
        "def element_check(i):\n",
        "    item = df['소재지도로명주소'][i]\n",
        "    if item != None:\n",
        "        # 패턴을 통한 구문 오류 체크\n",
        "        if re.match(pattern1, item) or re.match(pattern2, item) or re.match(pattern3, item) or re.match(pattern4, item) or re.match(pattern5, item) or re.match(pattern6, item):\n",
        "            addr_error[\"pattern\"][i] = 0\n",
        "\n",
        "        else:\n",
        "            addr_error[\"pattern\"][i] = 1\n",
        "\n",
        "        # 축약된 광역자치단체명 체크\n",
        "        sido = df['소재지도로명주소'][i].split(\" \")[0]\n",
        "        if sido in sido_map.keys():\n",
        "            addr_error[\"unvalid_city\"][i] = 1\n",
        "        else:\n",
        "            addr_error[\"unvalid_city\"][i] = 0\n",
        "    # 공백값\n",
        "    else:\n",
        "        addr_error[\"pattern\"][i] = None\n",
        "        addr_error[\"unvalid_city\"][i] = None\n",
        "\n",
        "df.index.map(lambda i: element_check(i))"
      ]
    },
    {
      "cell_type": "markdown",
      "metadata": {
        "id": "1P9cEKSSf3aP"
      },
      "source": [
        "### 1.2. 시각화"
      ]
    },
    {
      "cell_type": "code",
      "execution_count": 7,
      "metadata": {
        "colab": {
          "base_uri": "https://localhost:8080/",
          "height": 542
        },
        "id": "tigo8Ohhf3aR",
        "outputId": "a63cbf73-2741-4556-fb14-31ed6c7416f6"
      },
      "outputs": [
        {
          "data": {
            "text/html": [
              "<html>\n",
              "<head><meta charset=\"utf-8\" /></head>\n",
              "<body>\n",
              "    <div>            <script src=\"https://cdnjs.cloudflare.com/ajax/libs/mathjax/2.7.5/MathJax.js?config=TeX-AMS-MML_SVG\"></script><script type=\"text/javascript\">if (window.MathJax && window.MathJax.Hub && window.MathJax.Hub.Config) {window.MathJax.Hub.Config({SVG: {font: \"STIX-Web\"}});}</script>                <script type=\"text/javascript\">window.PlotlyConfig = {MathJaxConfig: 'local'};</script>\n",
              "        <script charset=\"utf-8\" src=\"https://cdn.plot.ly/plotly-2.24.1.min.js\"></script>                <div id=\"999066d6-a4a7-484b-ac9c-e94db5217872\" class=\"plotly-graph-div\" style=\"height:525px; width:100%;\"></div>            <script type=\"text/javascript\">                                    window.PLOTLYENV=window.PLOTLYENV || {};                                    if (document.getElementById(\"999066d6-a4a7-484b-ac9c-e94db5217872\")) {                    Plotly.newPlot(                        \"999066d6-a4a7-484b-ac9c-e94db5217872\",                        [{\"labels\":[\"\\uc815\\uc0c1\",\"\\uc624\\ub958\",\"\\uacf5\\ubc31\"],\"marker\":{\"colors\":[\"darkblue\",\"darkred\",\"lightgrey\"]},\"showlegend\":false,\"textinfo\":\"label+percent\",\"values\":[444,24,31],\"type\":\"pie\",\"domain\":{\"x\":[0.0,0.25333333333333335],\"y\":[0.0,1.0]}},{\"colorscale\":[[0,\"darkblue\"],[1,\"darkred\"]],\"x\":[0,1,2,3,4,5,6,7,8,9,10,11,12,13,14,15,16,17,18,19,20,21,22,23,24,25,26,27,28,29,30,31,32,33,34,35,36,37,38,39,40,41,42,43,44,45,46,47,48,49,50,51,52,53,54,55,56,57,58,59,60,61,62,63,64,65,66,67,68,69,70,71,72,73,74,75,76,77,78,79,80,81,82,83,84,85,86,87,88,89,90,91,92,93,94,95,96,97,98,99,100,101,102,103,104,105,106,107,108,109,110,111,112,113,114,115,116,117,118,119,120,121,122,123,124,125,126,127,128,129,130,131,132,133,134,135,136,137,138,139,140,141,142,143,144,145,146,147,148,149,150,151,152,153,154,155,156,157,158,159,160,161,162,163,164,165,166,167,168,169,170,171,172,173,174,175,176,177,178,179,180,181,182,183,184,185,186,187,188,189,190,191,192,193,194,195,196,197,198,199,200,201,202,203,204,205,206,207,208,209,210,211,212,213,214,215,216,217,218,219,220,221,222,223,224,225,226,227,228,229,230,231,232,233,234,235,236,237,238,239,240,241,242,243,244,245,246,247,248,249,250,251,252,253,254,255,256,257,258,259,260,261,262,263,264,265,266,267,268,269,270,271,272,273,274,275,276,277,278,279,280,281,282,283,284,285,286,287,288,289,290,291,292,293,294,295,296,297,298,299,300,301,302,303,304,305,306,307,308,309,310,311,312,313,314,315,316,317,318,319,320,321,322,323,324,325,326,327,328,329,330,331,332,333,334,335,336,337,338,339,340,341,342,343,344,345,346,347,348,349,350,351,352,353,354,355,356,357,358,359,360,361,362,363,364,365,366,367,368,369,370,371,372,373,374,375,376,377,378,379,380,381,382,383,384,385,386,387,388,389,390,391,392,393,394,395,396,397,398,399,400,401,402,403,404,405,406,407,408,409,410,411,412,413,414,415,416,417,418,419,420,421,422,423,424,425,426,427,428,429,430,431,432,433,434,435,436,437,438,439,440,441,442,443,444,445,446,447,448,449,450,451,452,453,454,455,456,457,458,459,460,461,462,463,464,465,466,467,468,469,470,471,472,473,474,475,476,477,478,479,480,481,482,483,484,485,486,487,488,489,490,491,492,493,494,495,496,497,498],\"y\":[\"row#\"],\"z\":[[0.0,0.0,0.0,0.0,0.0,0.0,0.0,0.0,0.0,0.0,0.0,0.0,0.0,0.0,0.0,0.0,0.0,0.0,0.0,0.0,0.0,0.0,0.0,0.0,0.0,0.0,0.0,0.0,0.0,0.0,0.0,0.0,0.0,0.0,0.0,0.0,0.0,0.0,0.0,0.0,0.0,0.0,0.0,0.0,0.0,0.0,0.0,0.0,0.0,0.0,0.0,0.0,0.0,0.0,0.0,0.0,0.0,0.0,0.0,0.0,0.0,0.0,0.0,0.0,0.0,0.0,1.0,0.0,null,0.0,0.0,0.0,0.0,0.0,0.0,0.0,0.0,0.0,0.0,0.0,0.0,0.0,0.0,0.0,null,0.0,0.0,0.0,0.0,0.0,0.0,0.0,0.0,0.0,0.0,0.0,0.0,null,1.0,1.0,0.0,0.0,1.0,0.0,0.0,0.0,0.0,0.0,null,0.0,0.0,0.0,0.0,0.0,0.0,0.0,0.0,0.0,0.0,0.0,0.0,0.0,0.0,0.0,0.0,0.0,0.0,0.0,0.0,0.0,0.0,0.0,0.0,0.0,0.0,0.0,0.0,0.0,0.0,0.0,0.0,0.0,0.0,0.0,0.0,0.0,0.0,0.0,0.0,0.0,0.0,0.0,0.0,0.0,0.0,0.0,0.0,0.0,0.0,0.0,0.0,0.0,0.0,0.0,0.0,0.0,0.0,0.0,0.0,1.0,1.0,0.0,0.0,0.0,0.0,0.0,0.0,0.0,0.0,0.0,0.0,0.0,0.0,0.0,0.0,0.0,0.0,0.0,0.0,0.0,0.0,0.0,0.0,0.0,0.0,1.0,0.0,0.0,0.0,0.0,0.0,0.0,0.0,0.0,0.0,0.0,0.0,0.0,0.0,0.0,0.0,0.0,1.0,0.0,0.0,0.0,0.0,0.0,0.0,0.0,0.0,0.0,0.0,0.0,0.0,0.0,0.0,0.0,0.0,0.0,0.0,0.0,0.0,0.0,0.0,0.0,0.0,0.0,0.0,0.0,0.0,0.0,0.0,0.0,0.0,0.0,0.0,0.0,0.0,0.0,0.0,0.0,0.0,0.0,0.0,0.0,0.0,1.0,0.0,0.0,0.0,0.0,0.0,0.0,0.0,0.0,0.0,0.0,0.0,0.0,0.0,0.0,0.0,0.0,0.0,0.0,0.0,0.0,0.0,0.0,0.0,0.0,0.0,0.0,0.0,0.0,0.0,0.0,0.0,0.0,0.0,0.0,0.0,0.0,0.0,0.0,0.0,null,null,0.0,null,null,0.0,0.0,0.0,0.0,0.0,0.0,1.0,0.0,0.0,0.0,0.0,0.0,0.0,0.0,0.0,0.0,0.0,0.0,0.0,0.0,0.0,0.0,0.0,0.0,0.0,0.0,0.0,0.0,0.0,0.0,0.0,0.0,0.0,0.0,null,0.0,0.0,0.0,0.0,0.0,0.0,0.0,0.0,0.0,0.0,1.0,0.0,0.0,0.0,0.0,0.0,0.0,null,null,null,0.0,0.0,0.0,0.0,0.0,0.0,0.0,0.0,0.0,0.0,0.0,0.0,0.0,0.0,0.0,0.0,0.0,0.0,0.0,null,null,null,0.0,null,null,0.0,0.0,0.0,0.0,0.0,0.0,0.0,0.0,0.0,0.0,0.0,0.0,null,0.0,0.0,0.0,0.0,0.0,0.0,0.0,0.0,0.0,0.0,0.0,0.0,0.0,0.0,0.0,0.0,0.0,0.0,0.0,null,0.0,0.0,null,0.0,0.0,0.0,0.0,null,null,1.0,1.0,0.0,0.0,null,null,0.0,0.0,0.0,0.0,null,null,null,0.0,0.0,0.0,0.0,0.0,null,0.0,0.0,0.0,0.0,1.0,null,1.0,null,1.0,1.0,1.0,1.0,1.0,1.0,1.0,1.0,0.0,0.0,0.0,0.0,0.0,0.0,0.0,0.0,0.0,0.0,0.0,0.0,0.0,0.0,0.0,0.0,0.0,0.0,0.0,0.0,0.0,0.0,0.0,0.0,0.0,0.0,0.0,0.0,0.0,0.0,0.0,0.0,0.0,1.0,0.0,0.0,0.0,0.0,0.0,null]],\"type\":\"heatmap\",\"xaxis\":\"x\",\"yaxis\":\"y\"}],                        {\"template\":{\"data\":{\"histogram2dcontour\":[{\"type\":\"histogram2dcontour\",\"colorbar\":{\"outlinewidth\":0,\"ticks\":\"\"},\"colorscale\":[[0.0,\"#0d0887\"],[0.1111111111111111,\"#46039f\"],[0.2222222222222222,\"#7201a8\"],[0.3333333333333333,\"#9c179e\"],[0.4444444444444444,\"#bd3786\"],[0.5555555555555556,\"#d8576b\"],[0.6666666666666666,\"#ed7953\"],[0.7777777777777778,\"#fb9f3a\"],[0.8888888888888888,\"#fdca26\"],[1.0,\"#f0f921\"]]}],\"choropleth\":[{\"type\":\"choropleth\",\"colorbar\":{\"outlinewidth\":0,\"ticks\":\"\"}}],\"histogram2d\":[{\"type\":\"histogram2d\",\"colorbar\":{\"outlinewidth\":0,\"ticks\":\"\"},\"colorscale\":[[0.0,\"#0d0887\"],[0.1111111111111111,\"#46039f\"],[0.2222222222222222,\"#7201a8\"],[0.3333333333333333,\"#9c179e\"],[0.4444444444444444,\"#bd3786\"],[0.5555555555555556,\"#d8576b\"],[0.6666666666666666,\"#ed7953\"],[0.7777777777777778,\"#fb9f3a\"],[0.8888888888888888,\"#fdca26\"],[1.0,\"#f0f921\"]]}],\"heatmap\":[{\"type\":\"heatmap\",\"colorbar\":{\"outlinewidth\":0,\"ticks\":\"\"},\"colorscale\":[[0.0,\"#0d0887\"],[0.1111111111111111,\"#46039f\"],[0.2222222222222222,\"#7201a8\"],[0.3333333333333333,\"#9c179e\"],[0.4444444444444444,\"#bd3786\"],[0.5555555555555556,\"#d8576b\"],[0.6666666666666666,\"#ed7953\"],[0.7777777777777778,\"#fb9f3a\"],[0.8888888888888888,\"#fdca26\"],[1.0,\"#f0f921\"]]}],\"heatmapgl\":[{\"type\":\"heatmapgl\",\"colorbar\":{\"outlinewidth\":0,\"ticks\":\"\"},\"colorscale\":[[0.0,\"#0d0887\"],[0.1111111111111111,\"#46039f\"],[0.2222222222222222,\"#7201a8\"],[0.3333333333333333,\"#9c179e\"],[0.4444444444444444,\"#bd3786\"],[0.5555555555555556,\"#d8576b\"],[0.6666666666666666,\"#ed7953\"],[0.7777777777777778,\"#fb9f3a\"],[0.8888888888888888,\"#fdca26\"],[1.0,\"#f0f921\"]]}],\"contourcarpet\":[{\"type\":\"contourcarpet\",\"colorbar\":{\"outlinewidth\":0,\"ticks\":\"\"}}],\"contour\":[{\"type\":\"contour\",\"colorbar\":{\"outlinewidth\":0,\"ticks\":\"\"},\"colorscale\":[[0.0,\"#0d0887\"],[0.1111111111111111,\"#46039f\"],[0.2222222222222222,\"#7201a8\"],[0.3333333333333333,\"#9c179e\"],[0.4444444444444444,\"#bd3786\"],[0.5555555555555556,\"#d8576b\"],[0.6666666666666666,\"#ed7953\"],[0.7777777777777778,\"#fb9f3a\"],[0.8888888888888888,\"#fdca26\"],[1.0,\"#f0f921\"]]}],\"surface\":[{\"type\":\"surface\",\"colorbar\":{\"outlinewidth\":0,\"ticks\":\"\"},\"colorscale\":[[0.0,\"#0d0887\"],[0.1111111111111111,\"#46039f\"],[0.2222222222222222,\"#7201a8\"],[0.3333333333333333,\"#9c179e\"],[0.4444444444444444,\"#bd3786\"],[0.5555555555555556,\"#d8576b\"],[0.6666666666666666,\"#ed7953\"],[0.7777777777777778,\"#fb9f3a\"],[0.8888888888888888,\"#fdca26\"],[1.0,\"#f0f921\"]]}],\"mesh3d\":[{\"type\":\"mesh3d\",\"colorbar\":{\"outlinewidth\":0,\"ticks\":\"\"}}],\"scatter\":[{\"fillpattern\":{\"fillmode\":\"overlay\",\"size\":10,\"solidity\":0.2},\"type\":\"scatter\"}],\"parcoords\":[{\"type\":\"parcoords\",\"line\":{\"colorbar\":{\"outlinewidth\":0,\"ticks\":\"\"}}}],\"scatterpolargl\":[{\"type\":\"scatterpolargl\",\"marker\":{\"colorbar\":{\"outlinewidth\":0,\"ticks\":\"\"}}}],\"bar\":[{\"error_x\":{\"color\":\"#2a3f5f\"},\"error_y\":{\"color\":\"#2a3f5f\"},\"marker\":{\"line\":{\"color\":\"#E5ECF6\",\"width\":0.5},\"pattern\":{\"fillmode\":\"overlay\",\"size\":10,\"solidity\":0.2}},\"type\":\"bar\"}],\"scattergeo\":[{\"type\":\"scattergeo\",\"marker\":{\"colorbar\":{\"outlinewidth\":0,\"ticks\":\"\"}}}],\"scatterpolar\":[{\"type\":\"scatterpolar\",\"marker\":{\"colorbar\":{\"outlinewidth\":0,\"ticks\":\"\"}}}],\"histogram\":[{\"marker\":{\"pattern\":{\"fillmode\":\"overlay\",\"size\":10,\"solidity\":0.2}},\"type\":\"histogram\"}],\"scattergl\":[{\"type\":\"scattergl\",\"marker\":{\"colorbar\":{\"outlinewidth\":0,\"ticks\":\"\"}}}],\"scatter3d\":[{\"type\":\"scatter3d\",\"line\":{\"colorbar\":{\"outlinewidth\":0,\"ticks\":\"\"}},\"marker\":{\"colorbar\":{\"outlinewidth\":0,\"ticks\":\"\"}}}],\"scattermapbox\":[{\"type\":\"scattermapbox\",\"marker\":{\"colorbar\":{\"outlinewidth\":0,\"ticks\":\"\"}}}],\"scatterternary\":[{\"type\":\"scatterternary\",\"marker\":{\"colorbar\":{\"outlinewidth\":0,\"ticks\":\"\"}}}],\"scattercarpet\":[{\"type\":\"scattercarpet\",\"marker\":{\"colorbar\":{\"outlinewidth\":0,\"ticks\":\"\"}}}],\"carpet\":[{\"aaxis\":{\"endlinecolor\":\"#2a3f5f\",\"gridcolor\":\"white\",\"linecolor\":\"white\",\"minorgridcolor\":\"white\",\"startlinecolor\":\"#2a3f5f\"},\"baxis\":{\"endlinecolor\":\"#2a3f5f\",\"gridcolor\":\"white\",\"linecolor\":\"white\",\"minorgridcolor\":\"white\",\"startlinecolor\":\"#2a3f5f\"},\"type\":\"carpet\"}],\"table\":[{\"cells\":{\"fill\":{\"color\":\"#EBF0F8\"},\"line\":{\"color\":\"white\"}},\"header\":{\"fill\":{\"color\":\"#C8D4E3\"},\"line\":{\"color\":\"white\"}},\"type\":\"table\"}],\"barpolar\":[{\"marker\":{\"line\":{\"color\":\"#E5ECF6\",\"width\":0.5},\"pattern\":{\"fillmode\":\"overlay\",\"size\":10,\"solidity\":0.2}},\"type\":\"barpolar\"}],\"pie\":[{\"automargin\":true,\"type\":\"pie\"}]},\"layout\":{\"autotypenumbers\":\"strict\",\"colorway\":[\"#636efa\",\"#EF553B\",\"#00cc96\",\"#ab63fa\",\"#FFA15A\",\"#19d3f3\",\"#FF6692\",\"#B6E880\",\"#FF97FF\",\"#FECB52\"],\"font\":{\"color\":\"#2a3f5f\"},\"hovermode\":\"closest\",\"hoverlabel\":{\"align\":\"left\"},\"paper_bgcolor\":\"white\",\"plot_bgcolor\":\"#E5ECF6\",\"polar\":{\"bgcolor\":\"#E5ECF6\",\"angularaxis\":{\"gridcolor\":\"white\",\"linecolor\":\"white\",\"ticks\":\"\"},\"radialaxis\":{\"gridcolor\":\"white\",\"linecolor\":\"white\",\"ticks\":\"\"}},\"ternary\":{\"bgcolor\":\"#E5ECF6\",\"aaxis\":{\"gridcolor\":\"white\",\"linecolor\":\"white\",\"ticks\":\"\"},\"baxis\":{\"gridcolor\":\"white\",\"linecolor\":\"white\",\"ticks\":\"\"},\"caxis\":{\"gridcolor\":\"white\",\"linecolor\":\"white\",\"ticks\":\"\"}},\"coloraxis\":{\"colorbar\":{\"outlinewidth\":0,\"ticks\":\"\"}},\"colorscale\":{\"sequential\":[[0.0,\"#0d0887\"],[0.1111111111111111,\"#46039f\"],[0.2222222222222222,\"#7201a8\"],[0.3333333333333333,\"#9c179e\"],[0.4444444444444444,\"#bd3786\"],[0.5555555555555556,\"#d8576b\"],[0.6666666666666666,\"#ed7953\"],[0.7777777777777778,\"#fb9f3a\"],[0.8888888888888888,\"#fdca26\"],[1.0,\"#f0f921\"]],\"sequentialminus\":[[0.0,\"#0d0887\"],[0.1111111111111111,\"#46039f\"],[0.2222222222222222,\"#7201a8\"],[0.3333333333333333,\"#9c179e\"],[0.4444444444444444,\"#bd3786\"],[0.5555555555555556,\"#d8576b\"],[0.6666666666666666,\"#ed7953\"],[0.7777777777777778,\"#fb9f3a\"],[0.8888888888888888,\"#fdca26\"],[1.0,\"#f0f921\"]],\"diverging\":[[0,\"#8e0152\"],[0.1,\"#c51b7d\"],[0.2,\"#de77ae\"],[0.3,\"#f1b6da\"],[0.4,\"#fde0ef\"],[0.5,\"#f7f7f7\"],[0.6,\"#e6f5d0\"],[0.7,\"#b8e186\"],[0.8,\"#7fbc41\"],[0.9,\"#4d9221\"],[1,\"#276419\"]]},\"xaxis\":{\"gridcolor\":\"white\",\"linecolor\":\"white\",\"ticks\":\"\",\"title\":{\"standoff\":15},\"zerolinecolor\":\"white\",\"automargin\":true,\"zerolinewidth\":2},\"yaxis\":{\"gridcolor\":\"white\",\"linecolor\":\"white\",\"ticks\":\"\",\"title\":{\"standoff\":15},\"zerolinecolor\":\"white\",\"automargin\":true,\"zerolinewidth\":2},\"scene\":{\"xaxis\":{\"backgroundcolor\":\"#E5ECF6\",\"gridcolor\":\"white\",\"linecolor\":\"white\",\"showbackground\":true,\"ticks\":\"\",\"zerolinecolor\":\"white\",\"gridwidth\":2},\"yaxis\":{\"backgroundcolor\":\"#E5ECF6\",\"gridcolor\":\"white\",\"linecolor\":\"white\",\"showbackground\":true,\"ticks\":\"\",\"zerolinecolor\":\"white\",\"gridwidth\":2},\"zaxis\":{\"backgroundcolor\":\"#E5ECF6\",\"gridcolor\":\"white\",\"linecolor\":\"white\",\"showbackground\":true,\"ticks\":\"\",\"zerolinecolor\":\"white\",\"gridwidth\":2}},\"shapedefaults\":{\"line\":{\"color\":\"#2a3f5f\"}},\"annotationdefaults\":{\"arrowcolor\":\"#2a3f5f\",\"arrowhead\":0,\"arrowwidth\":1},\"geo\":{\"bgcolor\":\"white\",\"landcolor\":\"#E5ECF6\",\"subunitcolor\":\"white\",\"showland\":true,\"showlakes\":true,\"lakecolor\":\"white\"},\"title\":{\"x\":0.05},\"mapbox\":{\"style\":\"light\"}}},\"xaxis\":{\"anchor\":\"y\",\"domain\":[0.37333333333333335,1.0]},\"yaxis\":{\"anchor\":\"x\",\"domain\":[0.0,1.0]},\"annotations\":[{\"font\":{\"size\":16},\"showarrow\":false,\"text\":\"\\uc624\\ub958 \\ub370\\uc774\\ud130 \\ube44\\uc728\",\"x\":0.12666666666666668,\"xanchor\":\"center\",\"xref\":\"paper\",\"y\":1.0,\"yanchor\":\"bottom\",\"yref\":\"paper\"},{\"font\":{\"size\":16},\"showarrow\":false,\"text\":\"\\uc624\\ub958 \\ud589 \\ud604\\ud669\",\"x\":0.6866666666666666,\"xanchor\":\"center\",\"xref\":\"paper\",\"y\":1.0,\"yanchor\":\"bottom\",\"yref\":\"paper\"}]},                        {\"responsive\": true}                    ).then(function(){\n",
              "                            \n",
              "var gd = document.getElementById('999066d6-a4a7-484b-ac9c-e94db5217872');\n",
              "var x = new MutationObserver(function (mutations, observer) {{\n",
              "        var display = window.getComputedStyle(gd).display;\n",
              "        if (!display || display === 'none') {{\n",
              "            console.log([gd, 'removed!']);\n",
              "            Plotly.purge(gd);\n",
              "            observer.disconnect();\n",
              "        }}\n",
              "}});\n",
              "\n",
              "// Listen for the removal of the full notebook cells\n",
              "var notebookContainer = gd.closest('#notebook-container');\n",
              "if (notebookContainer) {{\n",
              "    x.observe(notebookContainer, {childList: true});\n",
              "}}\n",
              "\n",
              "// Listen for the clearing of the current output cell\n",
              "var outputEl = gd.closest('.output');\n",
              "if (outputEl) {{\n",
              "    x.observe(outputEl, {childList: true});\n",
              "}}\n",
              "\n",
              "                        })                };                            </script>        </div>\n",
              "</body>\n",
              "</html>"
            ]
          },
          "metadata": {},
          "output_type": "display_data"
        }
      ],
      "source": [
        "add_error_fig = make_error_rate_plot(addr_error, \"pattern\")\n",
        "add_error_fig.write_html(\"4-4-addr-error.html\")"
      ]
    },
    {
      "cell_type": "markdown",
      "metadata": {
        "id": "oqBM2leWf3aS"
      },
      "source": [
        "### 1.3. 구문 패턴에 따라 정제하기"
      ]
    },
    {
      "cell_type": "markdown",
      "metadata": {
        "id": "4rW3EdQhf3aT"
      },
      "source": [
        "#### 1.3.1. 문제가 있는 데이터만 추출\n",
        "- 구문 오류가 있거나, 축약된 시도명을 포함하고 있는 데이터의 행만 추출한다."
      ]
    },
    {
      "cell_type": "code",
      "execution_count": 8,
      "metadata": {
        "id": "DMFmJkqcf3aT"
      },
      "outputs": [],
      "source": [
        "errs = addr_error[(addr_error[\"pattern\"] == 1) | ( addr_error[\"unvalid_city\"] == 1)]"
      ]
    },
    {
      "cell_type": "markdown",
      "metadata": {
        "id": "z67cdVdsf3aU"
      },
      "source": [
        "#### 1.3.2. 구문 오류 패턴 정제를 위한 패턴식 정의\n",
        "- 오류 유형에 따른 패턴을 식별하고, 문제의 부분에 대한 위치값을 리턴할 수 있도록 정규표현식을 작성한다."
      ]
    },
    {
      "cell_type": "code",
      "execution_count": 9,
      "metadata": {
        "id": "0-EbPyQhf3aV"
      },
      "outputs": [],
      "source": [
        "# 구문 오류 패턴식\n",
        "\n",
        "# 도로명-건물번호가 붙어있는 경우\n",
        "error_pat1 = r\"(?P<road>[가-힣\\d]+로)(?P<number>\\d+(?:-\\d+)?)\"\n",
        "error_pat2 = r\"(?P<road>[가-힣\\d]+로)(?P<number>\\d+(?:-\\d+)?)\"\n",
        "error_pat3 = r\"(?P<road>[가-힣\\d]+로)(?P<subroad>[가-힣\\d]+번길)(?P<number>\\d+(?:-\\d+)?)\"\n",
        "error_pat3_ = r\"(?P<road>[가-힣\\d]+로)(?P<subroad>[가-힣\\d]+길)(?P<number>\\d+(?:-\\d+)?)\"\n",
        "error_pat4 = r\"(?P<road>[가-힣\\d]+\\d?길)(?P<number>\\d+(?:-\\d+)?)\"\n",
        "\n",
        "# 지하번호 기입 오류\n",
        "error_pat5 = r\"(?P<ground>지하)+\\s(?P<number>\\d+(?:-\\d+)?)\"\n",
        "\n",
        "# 참고항목과 건물번호를 붙여 씀\n",
        "error_pat6 = r\"(?P<number>\\d+(?:-\\d+)?)\\((?P<dong>.+?)\\)\"\n",
        "\n",
        "# 도로명이 분리되어 있는 경우\n",
        "error_pat7 = r\"(?P<road>[가-힣\\d]+로)+\\s(?P<subroad>[가-힣\\d]+번길)+\\s(?P<number>\\d+(?:-\\d+)?)\"\n",
        "error_pat8 = r\"(?P<road>[가-힣\\d]+로)+\\s(?P<subroad>[가-힣\\d]+길)+\\s(?P<number>\\d+(?:-\\d+)?)\"\n",
        "error_pat9 = r\"(?P<road>[가-힣\\d]+[^시군구도읍면동])+\\s(?P<subroad>[가-힣\\d]+[번길|길|로])+\\s(?P<number>\\d+(?:-\\d+)?(?:\\d+)?)\"\n",
        "\n",
        "# 동층호 별도 표기\n",
        "error_pat10 = r\"(?P<det>(?:\\d+층|[가-힣a-zA-Z\\d]동+(?:\\s)\\d층+(?:\\s)\\d호|[가-힣a-zA-Z\\d]동+(?:\\s)\\d호|\\d호|\\d층+(?:\\s)\\d호))\"\n",
        "error_pat11 =  r\"\\((?P<dong>.+?)\\)+(?:,|,\\s|\\s|\\s,|\\s,\\s)(?P<det>(?:\\d+층|[가-힣a-zA-Z\\d]동+(?:\\s)\\d층+(?:\\s)\\d호|[가-힣a-zA-Z\\d]동+(?:\\s)\\d호|\\d호|\\d층+(?:\\s)\\d호))\"\n",
        "\n",
        "# 동 끝에 지번까지 표기된 경우\n",
        "error_pat12 =r\"\\((?P<dong>.+)동(?P<number>\\s?\\d+)(?:-\\d+)?\\)\""
      ]
    },
    {
      "cell_type": "markdown",
      "metadata": {
        "id": "2NcGIDyef3aW"
      },
      "source": [
        "#### 1.3.3. 정제에 필요한 함수 정의"
      ]
    },
    {
      "cell_type": "markdown",
      "metadata": {
        "id": "JDi7ENhmf3aW"
      },
      "source": [
        "- `get_replace` : 문제의 패턴이 존재하는 부분의 문자열을 리턴한다."
      ]
    },
    {
      "cell_type": "code",
      "execution_count": 10,
      "metadata": {
        "id": "XHtzAJiNf3aX"
      },
      "outputs": [],
      "source": [
        "def get_replace(pt, addr):\n",
        "    idx_s = pt.span()[0]\n",
        "    idx_e = pt.span()[1]\n",
        "    replacement = addr[idx_s:idx_e]\n",
        "    return replacement\n"
      ]
    },
    {
      "cell_type": "markdown",
      "metadata": {
        "id": "sU1LYSYrf3aX"
      },
      "source": [
        "- `not_comp_all` : 건물명이 참고사항이 아닌 주소의 구성요소로 들어가 있는 경우를 감지하고, 건물명을 제거한 주소를 리턴한다.\n",
        "    \n",
        "    **내장함수**\n",
        "    - `not_comp` : 주소 내부에 건물명이 포함된 경우를 조사한다.\n",
        "    - `square_lambd` : map 메서드를 통해 활용하기 위해 `not_comp`를 lambda값에 적용시키는 함수이다."
      ]
    },
    {
      "cell_type": "code",
      "execution_count": 11,
      "metadata": {
        "id": "9_SVlNitf3aY"
      },
      "outputs": [],
      "source": [
        "def not_comp(word):\n",
        "    if word.isalpha()==True and word[-1] not in [\"도\",\"시\",\"군\",\"구\",\"로\",\"대로\",\"길\",\"층\",\"동\",\"호\",'읍','면'] and \"지하\" not in word and \"(\" not in word  and \")\" not in word  and \"-\" not in word and \",\" not in word:\n",
        "        return \"error\"\n",
        "    else:\n",
        "        return word\n",
        "\n",
        "square_lambda = lambda x: not_comp(x)\n",
        "\n",
        "def not_comp_all(addr):\n",
        "    addr_list = addr.split(\" \")\n",
        "    addr_li = list(map(square_lambda, addr_list))\n",
        "    new_add = \" \".join(addr_li)\n",
        "    new_add = new_add.replace(\"error\", \"\").replace(\"  \", \" \")\n",
        "    return new_add"
      ]
    },
    {
      "cell_type": "markdown",
      "metadata": {
        "id": "SLhF99u6f3aY"
      },
      "source": [
        "- `add_refine` : 앞서 선언한 패턴과 함수를 단계적으로 적용해 주소를 정제하는 함수이다\n",
        "\n",
        "    **세부 정제 단계**\n",
        "        \n",
        "    1. 중복 요소 제거\n",
        "        \n",
        "    2. 광역자치단체명 생략 주소 정제\n",
        "\n",
        "    3. 도로명과 건물번호의 오류유형별 정제\n",
        "\n",
        "        3.1. 도로명과 건물번호가 붙어 있는 경우\n",
        "\n",
        "        3.2. 지하번호가 띄어쓰기로 기입된 경우\n",
        "\n",
        "        3.3. 참고항목과 건물번호를 붙여 쓴 경우\n",
        "\n",
        "        3.4. 하나의 도로명이 분리되어 기재된 경우\n",
        "            \n",
        "    4. 참고항목으로 기입되지 않은 건물명 삭제\n",
        "\n",
        "    5. 상세주소와 참고항목에서의 오류유형별 정제\n",
        "\n",
        "        5.1. 참고항목이 상세주소에 앞서 기재된 경우\n",
        "\n",
        "        5.2. 참고항목의 동명칭에 지번까지 기입된 경우"
      ]
    },
    {
      "cell_type": "code",
      "execution_count": 12,
      "metadata": {
        "id": "JUBTSppdf3aZ"
      },
      "outputs": [],
      "source": [
        "\n",
        "def add_refine(addr):\n",
        "    # 기본 구문 오류 : 동일한 요소가 중복되어 작성된 경우\n",
        "    addr = re.sub(r\"(?P<word>\\w+)\\s(?P=word)\\s\", r\"\\1 \", addr, count=1)\n",
        "    sido =addr.split(\" \")[0]\n",
        "\n",
        "    # 광역자치단체 단위 생략한 경우 정제\n",
        "    if sido in sido_map.keys():\n",
        "        addr = addr.replace(sido, sido_map[sido])\n",
        "    else:\n",
        "        pass\n",
        "\n",
        "    # 도로명-건물번호가 붙어있는 경우\n",
        "    p1 = re.search(error_pat1, addr)\n",
        "    if p1 != None:\n",
        "        repl = get_replace(p1, addr)\n",
        "        newadd= p1[\"road\"] + \" \" + p1[\"number\"]\n",
        "        addr = addr.replace(repl, newadd)\n",
        "    p2 = re.search(error_pat2, addr)\n",
        "    if p2 != None:\n",
        "        repl = get_replace(p2, addr)\n",
        "        newadd= p2[\"road\"] + \" \" + p2[\"number\"]\n",
        "        addr = addr.replace(repl, newadd)\n",
        "    p3 = re.search(error_pat3, addr)\n",
        "    if p3 != None:\n",
        "        repl = get_replace(p3, addr)\n",
        "        newadd= p3[\"road\"] + p3[\"subroad\"] + \" \" + p3[\"number\"]\n",
        "        addr = addr.replace(repl, newadd)\n",
        "    p3_ = re.search(error_pat3_, addr)\n",
        "    if p3_ != None:\n",
        "        repl = get_replace(p3_, addr)\n",
        "        newadd= p3_[\"road\"] + p3_[\"subroad\"] + \" \" + p3_[\"number\"]\n",
        "        addr = addr.replace(repl, newadd)\n",
        "    p4 = re.search(error_pat4, addr)\n",
        "    if p4 != None:\n",
        "        repl = get_replace(p4, addr)\n",
        "        newadd= p4[\"road\"] + \" \" + p4[\"number\"]\n",
        "        addr = addr.replace(repl, newadd)\n",
        "\n",
        "    # 지하번호 기입 오류\n",
        "    p5 = re.search(error_pat5, addr)\n",
        "    if p5 != None:\n",
        "        repl = get_replace(p5, addr)\n",
        "        newadd= \"지하\" + p5[\"number\"]\n",
        "        addr = addr.replace(repl, newadd)\n",
        "\n",
        "    # 참고항목과 건물번호를 붙여 씀\n",
        "    p6 = re.search(error_pat6, addr)\n",
        "    if p6 != None:\n",
        "        repl = get_replace(p6, addr)\n",
        "        newadd= p6[\"number\"] + \" \"+\"(\" + p6[\"dong\"] + \")\"\n",
        "        addr = addr.replace(repl, newadd)\n",
        "\n",
        "    # 도로명이 분리되어 있는 경우\n",
        "    p7 = re.search(error_pat7, addr)\n",
        "    if p7 != None:\n",
        "        repl = p7[\"road\"] + \" \" +p7[\"subroad\"] + \" \" + p7[\"number\"]\n",
        "        newadd= p7[\"road\"] + p7[\"subroad\"] + \" \" + p7[\"number\"]\n",
        "        addr = addr.replace(repl, newadd)\n",
        "\n",
        "    p8 = re.search(error_pat8, addr)\n",
        "    if p8 != None:\n",
        "        repl = p8[\"road\"] + \" \" +p8[\"subroad\"] + \" \" + p8[\"number\"]\n",
        "        newadd= p8[\"road\"] + p8[\"subroad\"] + \" \" + p8[\"number\"]\n",
        "        addr = addr.replace(repl, newadd)\n",
        "\n",
        "    p9 = re.search(error_pat9, addr)\n",
        "    if p9 != None:\n",
        "        repl = p9[\"road\"] + \" \" +p9[\"subroad\"] + \" \" + p9[\"number\"]\n",
        "        newadd= p9[\"road\"] + p9[\"subroad\"] + \" \" + p9[\"number\"]\n",
        "        addr = addr.replace(repl, newadd)\n",
        "\n",
        "    # 병기된 건물명 삭제\n",
        "    addr = not_comp_all(addr)\n",
        "\n",
        "    # 참고항목이 상세주소보다 앞에 나오는 경우 - 1\n",
        "    p10 = re.search(error_pat10, addr)\n",
        "    if p10 != None:\n",
        "        remove_pos_start = p10.span()[0]\n",
        "        remove_pos_end = p10.span()[1]\n",
        "        remove_string = addr[remove_pos_start:remove_pos_end]\n",
        "        addr = addr.replace(remove_string, \"\")\n",
        "        addr = addr +  \", \" + p10[\"det\"]\n",
        "\n",
        "    # 참고항목이 상세주소보다 앞에 나오는 경우 - 2\n",
        "    p11 = re.search(error_pat11, addr)\n",
        "    if p11 != None:\n",
        "        remove_pos_start = p11.span()[0]\n",
        "        remove_pos_end = p11.span()[1]\n",
        "        remove_string = addr[remove_pos_start:remove_pos_end]\n",
        "        addr = addr.replace(remove_string, \"\")\n",
        "        addr = addr +  \", \" + p11[\"det\"] + \" \" + \"(%s)\"%p11[\"dong\"]\n",
        "\n",
        "    # 동 끝에 지번까지 표기된 경우\n",
        "    p12 = re.search(error_pat12, addr)\n",
        "    if p12 != None:\n",
        "        repl = get_replace(p12, addr)\n",
        "        new_detail = \"(%s동)\"%p12[\"dong\"]\n",
        "        addr = addr.replace(repl, new_detail)\n",
        "\n",
        "\n",
        "    return addr\n",
        "\n",
        "\n",
        "# 정규표현식 패턴에 따라 주소를 정제하는 Lambda 함수를 적용\n",
        "newadds = errs['data'].apply(lambda x: add_refine(x))\n"
      ]
    },
    {
      "cell_type": "markdown",
      "metadata": {
        "id": "f57Qn9bjf3ac"
      },
      "source": [
        "### 1.3.4. 함수를 적용하여 정제"
      ]
    },
    {
      "cell_type": "code",
      "execution_count": 13,
      "metadata": {
        "id": "mXVkTeAtf3ad"
      },
      "outputs": [],
      "source": [
        "# 오류 데이터에 대해 정제\n",
        "newadds = errs['data'].apply(lambda x: add_refine(x))\n",
        "\n",
        "# 오류가 있는 행에 대해서 정제된 새 주소 대체\n",
        "df['소재지도로명주소'][errs.index] = newadds\n",
        "\n",
        "# 정제 전후의 비교를 위해 errs 테이블에도 저장\n",
        "errs['revised'] = newadds"
      ]
    },
    {
      "cell_type": "markdown",
      "metadata": {
        "id": "0Ux9nJyxf3ad"
      },
      "source": [
        "### 1.4. 정제 후 재확인"
      ]
    },
    {
      "cell_type": "code",
      "execution_count": 14,
      "metadata": {
        "colab": {
          "base_uri": "https://localhost:8080/",
          "height": 542
        },
        "id": "Xdu2ADBWf3af",
        "outputId": "2eca2c0a-1082-4e07-dead-7ec953294542"
      },
      "outputs": [
        {
          "data": {
            "text/html": [
              "<html>\n",
              "<head><meta charset=\"utf-8\" /></head>\n",
              "<body>\n",
              "    <div>            <script src=\"https://cdnjs.cloudflare.com/ajax/libs/mathjax/2.7.5/MathJax.js?config=TeX-AMS-MML_SVG\"></script><script type=\"text/javascript\">if (window.MathJax && window.MathJax.Hub && window.MathJax.Hub.Config) {window.MathJax.Hub.Config({SVG: {font: \"STIX-Web\"}});}</script>                <script type=\"text/javascript\">window.PlotlyConfig = {MathJaxConfig: 'local'};</script>\n",
              "        <script charset=\"utf-8\" src=\"https://cdn.plot.ly/plotly-2.24.1.min.js\"></script>                <div id=\"c12ac3c7-8d0e-4f74-8f96-b57553d8cca5\" class=\"plotly-graph-div\" style=\"height:525px; width:100%;\"></div>            <script type=\"text/javascript\">                                    window.PLOTLYENV=window.PLOTLYENV || {};                                    if (document.getElementById(\"c12ac3c7-8d0e-4f74-8f96-b57553d8cca5\")) {                    Plotly.newPlot(                        \"c12ac3c7-8d0e-4f74-8f96-b57553d8cca5\",                        [{\"labels\":[\"\\uc815\\uc0c1\",\"\\uc624\\ub958\",\"\\uacf5\\ubc31\"],\"marker\":{\"colors\":[\"darkblue\",\"darkred\",\"lightgrey\"]},\"showlegend\":false,\"textinfo\":\"label+percent\",\"values\":[466,2,31],\"type\":\"pie\",\"domain\":{\"x\":[0.0,0.25333333333333335],\"y\":[0.0,1.0]}},{\"colorscale\":[[0,\"darkblue\"],[1,\"darkred\"]],\"x\":[0,1,2,3,4,5,6,7,8,9,10,11,12,13,14,15,16,17,18,19,20,21,22,23,24,25,26,27,28,29,30,31,32,33,34,35,36,37,38,39,40,41,42,43,44,45,46,47,48,49,50,51,52,53,54,55,56,57,58,59,60,61,62,63,64,65,66,67,68,69,70,71,72,73,74,75,76,77,78,79,80,81,82,83,84,85,86,87,88,89,90,91,92,93,94,95,96,97,98,99,100,101,102,103,104,105,106,107,108,109,110,111,112,113,114,115,116,117,118,119,120,121,122,123,124,125,126,127,128,129,130,131,132,133,134,135,136,137,138,139,140,141,142,143,144,145,146,147,148,149,150,151,152,153,154,155,156,157,158,159,160,161,162,163,164,165,166,167,168,169,170,171,172,173,174,175,176,177,178,179,180,181,182,183,184,185,186,187,188,189,190,191,192,193,194,195,196,197,198,199,200,201,202,203,204,205,206,207,208,209,210,211,212,213,214,215,216,217,218,219,220,221,222,223,224,225,226,227,228,229,230,231,232,233,234,235,236,237,238,239,240,241,242,243,244,245,246,247,248,249,250,251,252,253,254,255,256,257,258,259,260,261,262,263,264,265,266,267,268,269,270,271,272,273,274,275,276,277,278,279,280,281,282,283,284,285,286,287,288,289,290,291,292,293,294,295,296,297,298,299,300,301,302,303,304,305,306,307,308,309,310,311,312,313,314,315,316,317,318,319,320,321,322,323,324,325,326,327,328,329,330,331,332,333,334,335,336,337,338,339,340,341,342,343,344,345,346,347,348,349,350,351,352,353,354,355,356,357,358,359,360,361,362,363,364,365,366,367,368,369,370,371,372,373,374,375,376,377,378,379,380,381,382,383,384,385,386,387,388,389,390,391,392,393,394,395,396,397,398,399,400,401,402,403,404,405,406,407,408,409,410,411,412,413,414,415,416,417,418,419,420,421,422,423,424,425,426,427,428,429,430,431,432,433,434,435,436,437,438,439,440,441,442,443,444,445,446,447,448,449,450,451,452,453,454,455,456,457,458,459,460,461,462,463,464,465,466,467,468,469,470,471,472,473,474,475,476,477,478,479,480,481,482,483,484,485,486,487,488,489,490,491,492,493,494,495,496,497,498],\"y\":[\"row#\"],\"z\":[[0.0,0.0,0.0,0.0,0.0,0.0,0.0,0.0,0.0,0.0,0.0,0.0,0.0,0.0,0.0,0.0,0.0,0.0,0.0,0.0,0.0,0.0,0.0,0.0,0.0,0.0,0.0,0.0,0.0,0.0,0.0,0.0,0.0,0.0,0.0,0.0,0.0,0.0,0.0,0.0,0.0,0.0,0.0,0.0,0.0,0.0,0.0,0.0,0.0,0.0,0.0,0.0,0.0,0.0,0.0,0.0,0.0,0.0,0.0,0.0,0.0,0.0,0.0,0.0,0.0,0.0,0.0,0.0,null,0.0,0.0,0.0,0.0,0.0,0.0,0.0,0.0,0.0,0.0,0.0,0.0,0.0,0.0,0.0,null,0.0,0.0,0.0,0.0,0.0,0.0,0.0,0.0,0.0,0.0,0.0,0.0,null,0.0,0.0,0.0,0.0,0.0,0.0,0.0,0.0,0.0,0.0,null,0.0,0.0,0.0,0.0,0.0,0.0,0.0,0.0,0.0,0.0,0.0,0.0,0.0,0.0,0.0,0.0,0.0,0.0,0.0,0.0,0.0,0.0,0.0,0.0,0.0,0.0,0.0,0.0,0.0,0.0,0.0,0.0,0.0,0.0,0.0,0.0,0.0,0.0,0.0,0.0,0.0,0.0,0.0,0.0,0.0,0.0,0.0,0.0,0.0,0.0,0.0,0.0,0.0,0.0,0.0,0.0,0.0,0.0,0.0,0.0,0.0,0.0,0.0,0.0,0.0,0.0,0.0,0.0,0.0,0.0,0.0,0.0,0.0,0.0,0.0,0.0,0.0,0.0,0.0,0.0,0.0,0.0,0.0,0.0,0.0,0.0,1.0,0.0,0.0,0.0,0.0,0.0,0.0,0.0,0.0,0.0,0.0,0.0,0.0,0.0,0.0,0.0,0.0,0.0,0.0,0.0,0.0,0.0,0.0,0.0,0.0,0.0,0.0,0.0,0.0,0.0,0.0,0.0,0.0,0.0,0.0,0.0,0.0,0.0,0.0,0.0,0.0,0.0,0.0,0.0,0.0,0.0,0.0,0.0,0.0,0.0,0.0,0.0,0.0,0.0,0.0,0.0,0.0,0.0,0.0,0.0,0.0,0.0,1.0,0.0,0.0,0.0,0.0,0.0,0.0,0.0,0.0,0.0,0.0,0.0,0.0,0.0,0.0,0.0,0.0,0.0,0.0,0.0,0.0,0.0,0.0,0.0,0.0,0.0,0.0,0.0,0.0,0.0,0.0,0.0,0.0,0.0,0.0,0.0,0.0,0.0,0.0,0.0,null,null,0.0,null,null,0.0,0.0,0.0,0.0,0.0,0.0,0.0,0.0,0.0,0.0,0.0,0.0,0.0,0.0,0.0,0.0,0.0,0.0,0.0,0.0,0.0,0.0,0.0,0.0,0.0,0.0,0.0,0.0,0.0,0.0,0.0,0.0,0.0,0.0,null,0.0,0.0,0.0,0.0,0.0,0.0,0.0,0.0,0.0,0.0,0.0,0.0,0.0,0.0,0.0,0.0,0.0,null,null,null,0.0,0.0,0.0,0.0,0.0,0.0,0.0,0.0,0.0,0.0,0.0,0.0,0.0,0.0,0.0,0.0,0.0,0.0,0.0,null,null,null,0.0,null,null,0.0,0.0,0.0,0.0,0.0,0.0,0.0,0.0,0.0,0.0,0.0,0.0,null,0.0,0.0,0.0,0.0,0.0,0.0,0.0,0.0,0.0,0.0,0.0,0.0,0.0,0.0,0.0,0.0,0.0,0.0,0.0,null,0.0,0.0,null,0.0,0.0,0.0,0.0,null,null,0.0,0.0,0.0,0.0,null,null,0.0,0.0,0.0,0.0,null,null,null,0.0,0.0,0.0,0.0,0.0,null,0.0,0.0,0.0,0.0,0.0,null,0.0,null,0.0,0.0,0.0,0.0,0.0,0.0,0.0,0.0,0.0,0.0,0.0,0.0,0.0,0.0,0.0,0.0,0.0,0.0,0.0,0.0,0.0,0.0,0.0,0.0,0.0,0.0,0.0,0.0,0.0,0.0,0.0,0.0,0.0,0.0,0.0,0.0,0.0,0.0,0.0,0.0,0.0,0.0,0.0,0.0,0.0,0.0,0.0,null]],\"type\":\"heatmap\",\"xaxis\":\"x\",\"yaxis\":\"y\"}],                        {\"template\":{\"data\":{\"histogram2dcontour\":[{\"type\":\"histogram2dcontour\",\"colorbar\":{\"outlinewidth\":0,\"ticks\":\"\"},\"colorscale\":[[0.0,\"#0d0887\"],[0.1111111111111111,\"#46039f\"],[0.2222222222222222,\"#7201a8\"],[0.3333333333333333,\"#9c179e\"],[0.4444444444444444,\"#bd3786\"],[0.5555555555555556,\"#d8576b\"],[0.6666666666666666,\"#ed7953\"],[0.7777777777777778,\"#fb9f3a\"],[0.8888888888888888,\"#fdca26\"],[1.0,\"#f0f921\"]]}],\"choropleth\":[{\"type\":\"choropleth\",\"colorbar\":{\"outlinewidth\":0,\"ticks\":\"\"}}],\"histogram2d\":[{\"type\":\"histogram2d\",\"colorbar\":{\"outlinewidth\":0,\"ticks\":\"\"},\"colorscale\":[[0.0,\"#0d0887\"],[0.1111111111111111,\"#46039f\"],[0.2222222222222222,\"#7201a8\"],[0.3333333333333333,\"#9c179e\"],[0.4444444444444444,\"#bd3786\"],[0.5555555555555556,\"#d8576b\"],[0.6666666666666666,\"#ed7953\"],[0.7777777777777778,\"#fb9f3a\"],[0.8888888888888888,\"#fdca26\"],[1.0,\"#f0f921\"]]}],\"heatmap\":[{\"type\":\"heatmap\",\"colorbar\":{\"outlinewidth\":0,\"ticks\":\"\"},\"colorscale\":[[0.0,\"#0d0887\"],[0.1111111111111111,\"#46039f\"],[0.2222222222222222,\"#7201a8\"],[0.3333333333333333,\"#9c179e\"],[0.4444444444444444,\"#bd3786\"],[0.5555555555555556,\"#d8576b\"],[0.6666666666666666,\"#ed7953\"],[0.7777777777777778,\"#fb9f3a\"],[0.8888888888888888,\"#fdca26\"],[1.0,\"#f0f921\"]]}],\"heatmapgl\":[{\"type\":\"heatmapgl\",\"colorbar\":{\"outlinewidth\":0,\"ticks\":\"\"},\"colorscale\":[[0.0,\"#0d0887\"],[0.1111111111111111,\"#46039f\"],[0.2222222222222222,\"#7201a8\"],[0.3333333333333333,\"#9c179e\"],[0.4444444444444444,\"#bd3786\"],[0.5555555555555556,\"#d8576b\"],[0.6666666666666666,\"#ed7953\"],[0.7777777777777778,\"#fb9f3a\"],[0.8888888888888888,\"#fdca26\"],[1.0,\"#f0f921\"]]}],\"contourcarpet\":[{\"type\":\"contourcarpet\",\"colorbar\":{\"outlinewidth\":0,\"ticks\":\"\"}}],\"contour\":[{\"type\":\"contour\",\"colorbar\":{\"outlinewidth\":0,\"ticks\":\"\"},\"colorscale\":[[0.0,\"#0d0887\"],[0.1111111111111111,\"#46039f\"],[0.2222222222222222,\"#7201a8\"],[0.3333333333333333,\"#9c179e\"],[0.4444444444444444,\"#bd3786\"],[0.5555555555555556,\"#d8576b\"],[0.6666666666666666,\"#ed7953\"],[0.7777777777777778,\"#fb9f3a\"],[0.8888888888888888,\"#fdca26\"],[1.0,\"#f0f921\"]]}],\"surface\":[{\"type\":\"surface\",\"colorbar\":{\"outlinewidth\":0,\"ticks\":\"\"},\"colorscale\":[[0.0,\"#0d0887\"],[0.1111111111111111,\"#46039f\"],[0.2222222222222222,\"#7201a8\"],[0.3333333333333333,\"#9c179e\"],[0.4444444444444444,\"#bd3786\"],[0.5555555555555556,\"#d8576b\"],[0.6666666666666666,\"#ed7953\"],[0.7777777777777778,\"#fb9f3a\"],[0.8888888888888888,\"#fdca26\"],[1.0,\"#f0f921\"]]}],\"mesh3d\":[{\"type\":\"mesh3d\",\"colorbar\":{\"outlinewidth\":0,\"ticks\":\"\"}}],\"scatter\":[{\"fillpattern\":{\"fillmode\":\"overlay\",\"size\":10,\"solidity\":0.2},\"type\":\"scatter\"}],\"parcoords\":[{\"type\":\"parcoords\",\"line\":{\"colorbar\":{\"outlinewidth\":0,\"ticks\":\"\"}}}],\"scatterpolargl\":[{\"type\":\"scatterpolargl\",\"marker\":{\"colorbar\":{\"outlinewidth\":0,\"ticks\":\"\"}}}],\"bar\":[{\"error_x\":{\"color\":\"#2a3f5f\"},\"error_y\":{\"color\":\"#2a3f5f\"},\"marker\":{\"line\":{\"color\":\"#E5ECF6\",\"width\":0.5},\"pattern\":{\"fillmode\":\"overlay\",\"size\":10,\"solidity\":0.2}},\"type\":\"bar\"}],\"scattergeo\":[{\"type\":\"scattergeo\",\"marker\":{\"colorbar\":{\"outlinewidth\":0,\"ticks\":\"\"}}}],\"scatterpolar\":[{\"type\":\"scatterpolar\",\"marker\":{\"colorbar\":{\"outlinewidth\":0,\"ticks\":\"\"}}}],\"histogram\":[{\"marker\":{\"pattern\":{\"fillmode\":\"overlay\",\"size\":10,\"solidity\":0.2}},\"type\":\"histogram\"}],\"scattergl\":[{\"type\":\"scattergl\",\"marker\":{\"colorbar\":{\"outlinewidth\":0,\"ticks\":\"\"}}}],\"scatter3d\":[{\"type\":\"scatter3d\",\"line\":{\"colorbar\":{\"outlinewidth\":0,\"ticks\":\"\"}},\"marker\":{\"colorbar\":{\"outlinewidth\":0,\"ticks\":\"\"}}}],\"scattermapbox\":[{\"type\":\"scattermapbox\",\"marker\":{\"colorbar\":{\"outlinewidth\":0,\"ticks\":\"\"}}}],\"scatterternary\":[{\"type\":\"scatterternary\",\"marker\":{\"colorbar\":{\"outlinewidth\":0,\"ticks\":\"\"}}}],\"scattercarpet\":[{\"type\":\"scattercarpet\",\"marker\":{\"colorbar\":{\"outlinewidth\":0,\"ticks\":\"\"}}}],\"carpet\":[{\"aaxis\":{\"endlinecolor\":\"#2a3f5f\",\"gridcolor\":\"white\",\"linecolor\":\"white\",\"minorgridcolor\":\"white\",\"startlinecolor\":\"#2a3f5f\"},\"baxis\":{\"endlinecolor\":\"#2a3f5f\",\"gridcolor\":\"white\",\"linecolor\":\"white\",\"minorgridcolor\":\"white\",\"startlinecolor\":\"#2a3f5f\"},\"type\":\"carpet\"}],\"table\":[{\"cells\":{\"fill\":{\"color\":\"#EBF0F8\"},\"line\":{\"color\":\"white\"}},\"header\":{\"fill\":{\"color\":\"#C8D4E3\"},\"line\":{\"color\":\"white\"}},\"type\":\"table\"}],\"barpolar\":[{\"marker\":{\"line\":{\"color\":\"#E5ECF6\",\"width\":0.5},\"pattern\":{\"fillmode\":\"overlay\",\"size\":10,\"solidity\":0.2}},\"type\":\"barpolar\"}],\"pie\":[{\"automargin\":true,\"type\":\"pie\"}]},\"layout\":{\"autotypenumbers\":\"strict\",\"colorway\":[\"#636efa\",\"#EF553B\",\"#00cc96\",\"#ab63fa\",\"#FFA15A\",\"#19d3f3\",\"#FF6692\",\"#B6E880\",\"#FF97FF\",\"#FECB52\"],\"font\":{\"color\":\"#2a3f5f\"},\"hovermode\":\"closest\",\"hoverlabel\":{\"align\":\"left\"},\"paper_bgcolor\":\"white\",\"plot_bgcolor\":\"#E5ECF6\",\"polar\":{\"bgcolor\":\"#E5ECF6\",\"angularaxis\":{\"gridcolor\":\"white\",\"linecolor\":\"white\",\"ticks\":\"\"},\"radialaxis\":{\"gridcolor\":\"white\",\"linecolor\":\"white\",\"ticks\":\"\"}},\"ternary\":{\"bgcolor\":\"#E5ECF6\",\"aaxis\":{\"gridcolor\":\"white\",\"linecolor\":\"white\",\"ticks\":\"\"},\"baxis\":{\"gridcolor\":\"white\",\"linecolor\":\"white\",\"ticks\":\"\"},\"caxis\":{\"gridcolor\":\"white\",\"linecolor\":\"white\",\"ticks\":\"\"}},\"coloraxis\":{\"colorbar\":{\"outlinewidth\":0,\"ticks\":\"\"}},\"colorscale\":{\"sequential\":[[0.0,\"#0d0887\"],[0.1111111111111111,\"#46039f\"],[0.2222222222222222,\"#7201a8\"],[0.3333333333333333,\"#9c179e\"],[0.4444444444444444,\"#bd3786\"],[0.5555555555555556,\"#d8576b\"],[0.6666666666666666,\"#ed7953\"],[0.7777777777777778,\"#fb9f3a\"],[0.8888888888888888,\"#fdca26\"],[1.0,\"#f0f921\"]],\"sequentialminus\":[[0.0,\"#0d0887\"],[0.1111111111111111,\"#46039f\"],[0.2222222222222222,\"#7201a8\"],[0.3333333333333333,\"#9c179e\"],[0.4444444444444444,\"#bd3786\"],[0.5555555555555556,\"#d8576b\"],[0.6666666666666666,\"#ed7953\"],[0.7777777777777778,\"#fb9f3a\"],[0.8888888888888888,\"#fdca26\"],[1.0,\"#f0f921\"]],\"diverging\":[[0,\"#8e0152\"],[0.1,\"#c51b7d\"],[0.2,\"#de77ae\"],[0.3,\"#f1b6da\"],[0.4,\"#fde0ef\"],[0.5,\"#f7f7f7\"],[0.6,\"#e6f5d0\"],[0.7,\"#b8e186\"],[0.8,\"#7fbc41\"],[0.9,\"#4d9221\"],[1,\"#276419\"]]},\"xaxis\":{\"gridcolor\":\"white\",\"linecolor\":\"white\",\"ticks\":\"\",\"title\":{\"standoff\":15},\"zerolinecolor\":\"white\",\"automargin\":true,\"zerolinewidth\":2},\"yaxis\":{\"gridcolor\":\"white\",\"linecolor\":\"white\",\"ticks\":\"\",\"title\":{\"standoff\":15},\"zerolinecolor\":\"white\",\"automargin\":true,\"zerolinewidth\":2},\"scene\":{\"xaxis\":{\"backgroundcolor\":\"#E5ECF6\",\"gridcolor\":\"white\",\"linecolor\":\"white\",\"showbackground\":true,\"ticks\":\"\",\"zerolinecolor\":\"white\",\"gridwidth\":2},\"yaxis\":{\"backgroundcolor\":\"#E5ECF6\",\"gridcolor\":\"white\",\"linecolor\":\"white\",\"showbackground\":true,\"ticks\":\"\",\"zerolinecolor\":\"white\",\"gridwidth\":2},\"zaxis\":{\"backgroundcolor\":\"#E5ECF6\",\"gridcolor\":\"white\",\"linecolor\":\"white\",\"showbackground\":true,\"ticks\":\"\",\"zerolinecolor\":\"white\",\"gridwidth\":2}},\"shapedefaults\":{\"line\":{\"color\":\"#2a3f5f\"}},\"annotationdefaults\":{\"arrowcolor\":\"#2a3f5f\",\"arrowhead\":0,\"arrowwidth\":1},\"geo\":{\"bgcolor\":\"white\",\"landcolor\":\"#E5ECF6\",\"subunitcolor\":\"white\",\"showland\":true,\"showlakes\":true,\"lakecolor\":\"white\"},\"title\":{\"x\":0.05},\"mapbox\":{\"style\":\"light\"}}},\"xaxis\":{\"anchor\":\"y\",\"domain\":[0.37333333333333335,1.0]},\"yaxis\":{\"anchor\":\"x\",\"domain\":[0.0,1.0]},\"annotations\":[{\"font\":{\"size\":16},\"showarrow\":false,\"text\":\"\\uc624\\ub958 \\ub370\\uc774\\ud130 \\ube44\\uc728\",\"x\":0.12666666666666668,\"xanchor\":\"center\",\"xref\":\"paper\",\"y\":1.0,\"yanchor\":\"bottom\",\"yref\":\"paper\"},{\"font\":{\"size\":16},\"showarrow\":false,\"text\":\"\\uc624\\ub958 \\ud589 \\ud604\\ud669\",\"x\":0.6866666666666666,\"xanchor\":\"center\",\"xref\":\"paper\",\"y\":1.0,\"yanchor\":\"bottom\",\"yref\":\"paper\"}]},                        {\"responsive\": true}                    ).then(function(){\n",
              "                            \n",
              "var gd = document.getElementById('c12ac3c7-8d0e-4f74-8f96-b57553d8cca5');\n",
              "var x = new MutationObserver(function (mutations, observer) {{\n",
              "        var display = window.getComputedStyle(gd).display;\n",
              "        if (!display || display === 'none') {{\n",
              "            console.log([gd, 'removed!']);\n",
              "            Plotly.purge(gd);\n",
              "            observer.disconnect();\n",
              "        }}\n",
              "}});\n",
              "\n",
              "// Listen for the removal of the full notebook cells\n",
              "var notebookContainer = gd.closest('#notebook-container');\n",
              "if (notebookContainer) {{\n",
              "    x.observe(notebookContainer, {childList: true});\n",
              "}}\n",
              "\n",
              "// Listen for the clearing of the current output cell\n",
              "var outputEl = gd.closest('.output');\n",
              "if (outputEl) {{\n",
              "    x.observe(outputEl, {childList: true});\n",
              "}}\n",
              "\n",
              "                        })                };                            </script>        </div>\n",
              "</body>\n",
              "</html>"
            ]
          },
          "metadata": {},
          "output_type": "display_data"
        }
      ],
      "source": [
        "df.index.map(lambda i: element_check(i))\n",
        "add_error_fig = make_error_rate_plot(addr_error, \"pattern\")\n",
        "#add_error_fig.write_html(\"6-4-addr-after-refine.html\")"
      ]
    },
    {
      "cell_type": "markdown",
      "metadata": {
        "id": "quAMWcGNf3ag"
      },
      "source": [
        "## 2. API를 통한 정확성 평가 & 정제\n",
        "\n",
        "이번에는 네이버 API를 활용해 도로명주소가 실존하는 주소인지 확인해봅시다."
      ]
    },
    {
      "cell_type": "markdown",
      "metadata": {
        "id": "5aZWcvhKf3ah"
      },
      "source": [
        "### 2.1. 필요 함수 준비"
      ]
    },
    {
      "cell_type": "markdown",
      "metadata": {
        "id": "Akd4fDA-f3ai"
      },
      "source": [
        "- `search_addr` : 주소를 네이버 Geocode API에 검색하는 함수"
      ]
    },
    {
      "cell_type": "code",
      "execution_count": 15,
      "metadata": {
        "id": "FgdRnsIQf3ai"
      },
      "outputs": [],
      "source": [
        "# 주소 검색 함수\n",
        "def search_addr(addr):\n",
        "    # 요청 헤더에는 API 키와 아이디 값을 입력합니다.\n",
        "    headers = {\"X-NCP-APIGW-API-KEY-ID\":API_ID, \"X-NCP-APIGW-API-KEY\":API_SECRET}\n",
        "\n",
        "    # 파라미터에는 검색할 주소를 입력합니다.\n",
        "    params = {\"query\" : addr, \"output\":\"json\"}\n",
        "\n",
        "    # 정보를 요청할 url입니다\n",
        "    url =\"https://naveropenapi.apigw.ntruss.com/map-geocode/v2/geocode\"\n",
        "\n",
        "    data = requests.get(url, headers=headers, params=params)\n",
        "\n",
        "    return json.loads(data.text)\n"
      ]
    },
    {
      "cell_type": "markdown",
      "metadata": {
        "id": "6kTomJ6Ef3ak"
      },
      "source": [
        "### 2.2. API를 통한 도로명주소 실존 여부 검사\n",
        "\n",
        "API를 통해 주소의 실존 여부를 검색하고, 만일 주소가 실존하는 주소일 경우, 추후 인구데이터와의 결합을 위해 법정동정보를 따로 저장합니다."
      ]
    },
    {
      "cell_type": "code",
      "execution_count": 16,
      "metadata": {
        "colab": {
          "base_uri": "https://localhost:8080/"
        },
        "id": "QXw8zv8Tf3ak",
        "outputId": "ce27eef4-3c45-4cf2-c719-5f8ec096d319"
      },
      "outputs": [
        {
          "name": "stderr",
          "output_type": "stream",
          "text": [
            "100%|██████████| 499/499 [08:35<00:00,  1.03s/it]\n"
          ]
        }
      ],
      "source": [
        "for i in tqdm(range(len(df))):\n",
        "    if df['소재지도로명주소'][i] != None:\n",
        "        re_val = search_addr(df.loc[i, \"소재지도로명주소\"])\n",
        "\n",
        "        # 검색한 주소가 존재하는지 확인\n",
        "        if (re_val[\"status\"] != \"OK\") or (re_val[\"meta\"][\"totalCount\"] == 0):\n",
        "            # 주소가 검색되지 않는 경우\n",
        "            addr_error['exist'][i] = 1\n",
        "            addr_error['API_addr'][i] = None\n",
        "\n",
        "        else:\n",
        "            if re_val[\"status\"] == \"OK\":\n",
        "                # 주소가 검색되는 경우\n",
        "                addr_error['exist'][i] = 0\n",
        "\n",
        "                # 동명칭을 추가합니다.\n",
        "                dong = re_val['addresses'][0][\"addressElements\"][2][\"longName\"]\n",
        "                addr_error['API_addr'][i] = dong\n",
        "    else:\n",
        "        addr_error['exist'][i] = None\n",
        "        addr_error['API_addr'][i] = None\n"
      ]
    },
    {
      "cell_type": "markdown",
      "metadata": {
        "id": "xSFDLObLf3al"
      },
      "source": [
        "시각화를 통해 실제로 존재하는 주소의 비중이 얼마나 되는지 확인해봅시다. 앞서 사용하였던 `make_error_rate_plot`을 다시 활용합니다."
      ]
    },
    {
      "cell_type": "code",
      "execution_count": 17,
      "metadata": {
        "colab": {
          "base_uri": "https://localhost:8080/",
          "height": 542
        },
        "id": "y2J0QJYEf3am",
        "outputId": "896f0567-2710-4fc2-e207-684ede00da31"
      },
      "outputs": [
        {
          "data": {
            "text/html": [
              "<html>\n",
              "<head><meta charset=\"utf-8\" /></head>\n",
              "<body>\n",
              "    <div>            <script src=\"https://cdnjs.cloudflare.com/ajax/libs/mathjax/2.7.5/MathJax.js?config=TeX-AMS-MML_SVG\"></script><script type=\"text/javascript\">if (window.MathJax && window.MathJax.Hub && window.MathJax.Hub.Config) {window.MathJax.Hub.Config({SVG: {font: \"STIX-Web\"}});}</script>                <script type=\"text/javascript\">window.PlotlyConfig = {MathJaxConfig: 'local'};</script>\n",
              "        <script charset=\"utf-8\" src=\"https://cdn.plot.ly/plotly-2.24.1.min.js\"></script>                <div id=\"04f45600-983a-4890-9e5f-b837fb707179\" class=\"plotly-graph-div\" style=\"height:525px; width:100%;\"></div>            <script type=\"text/javascript\">                                    window.PLOTLYENV=window.PLOTLYENV || {};                                    if (document.getElementById(\"04f45600-983a-4890-9e5f-b837fb707179\")) {                    Plotly.newPlot(                        \"04f45600-983a-4890-9e5f-b837fb707179\",                        [{\"labels\":[\"\\uc815\\uc0c1\",\"\\uc624\\ub958\",\"\\uacf5\\ubc31\"],\"marker\":{\"colors\":[\"darkblue\",\"darkred\",\"lightgrey\"]},\"showlegend\":false,\"textinfo\":\"label+percent\",\"values\":[459,9,31],\"type\":\"pie\",\"domain\":{\"x\":[0.0,0.25333333333333335],\"y\":[0.0,1.0]}},{\"colorscale\":[[0,\"darkblue\"],[1,\"darkred\"]],\"x\":[0,1,2,3,4,5,6,7,8,9,10,11,12,13,14,15,16,17,18,19,20,21,22,23,24,25,26,27,28,29,30,31,32,33,34,35,36,37,38,39,40,41,42,43,44,45,46,47,48,49,50,51,52,53,54,55,56,57,58,59,60,61,62,63,64,65,66,67,68,69,70,71,72,73,74,75,76,77,78,79,80,81,82,83,84,85,86,87,88,89,90,91,92,93,94,95,96,97,98,99,100,101,102,103,104,105,106,107,108,109,110,111,112,113,114,115,116,117,118,119,120,121,122,123,124,125,126,127,128,129,130,131,132,133,134,135,136,137,138,139,140,141,142,143,144,145,146,147,148,149,150,151,152,153,154,155,156,157,158,159,160,161,162,163,164,165,166,167,168,169,170,171,172,173,174,175,176,177,178,179,180,181,182,183,184,185,186,187,188,189,190,191,192,193,194,195,196,197,198,199,200,201,202,203,204,205,206,207,208,209,210,211,212,213,214,215,216,217,218,219,220,221,222,223,224,225,226,227,228,229,230,231,232,233,234,235,236,237,238,239,240,241,242,243,244,245,246,247,248,249,250,251,252,253,254,255,256,257,258,259,260,261,262,263,264,265,266,267,268,269,270,271,272,273,274,275,276,277,278,279,280,281,282,283,284,285,286,287,288,289,290,291,292,293,294,295,296,297,298,299,300,301,302,303,304,305,306,307,308,309,310,311,312,313,314,315,316,317,318,319,320,321,322,323,324,325,326,327,328,329,330,331,332,333,334,335,336,337,338,339,340,341,342,343,344,345,346,347,348,349,350,351,352,353,354,355,356,357,358,359,360,361,362,363,364,365,366,367,368,369,370,371,372,373,374,375,376,377,378,379,380,381,382,383,384,385,386,387,388,389,390,391,392,393,394,395,396,397,398,399,400,401,402,403,404,405,406,407,408,409,410,411,412,413,414,415,416,417,418,419,420,421,422,423,424,425,426,427,428,429,430,431,432,433,434,435,436,437,438,439,440,441,442,443,444,445,446,447,448,449,450,451,452,453,454,455,456,457,458,459,460,461,462,463,464,465,466,467,468,469,470,471,472,473,474,475,476,477,478,479,480,481,482,483,484,485,486,487,488,489,490,491,492,493,494,495,496,497,498],\"y\":[\"row#\"],\"z\":[[0.0,0.0,1.0,0.0,0.0,0.0,0.0,0.0,0.0,0.0,1.0,1.0,1.0,1.0,0.0,0.0,0.0,0.0,0.0,0.0,0.0,0.0,0.0,0.0,0.0,0.0,0.0,0.0,0.0,0.0,0.0,0.0,0.0,0.0,0.0,0.0,0.0,0.0,0.0,0.0,0.0,0.0,0.0,0.0,0.0,0.0,0.0,0.0,0.0,0.0,0.0,0.0,0.0,0.0,0.0,0.0,0.0,0.0,0.0,0.0,0.0,0.0,0.0,0.0,0.0,0.0,0.0,0.0,null,0.0,0.0,0.0,0.0,0.0,0.0,0.0,0.0,0.0,0.0,0.0,0.0,0.0,0.0,0.0,null,0.0,0.0,0.0,0.0,0.0,0.0,0.0,0.0,0.0,0.0,0.0,0.0,null,0.0,0.0,0.0,0.0,0.0,0.0,0.0,0.0,0.0,0.0,null,0.0,0.0,0.0,0.0,0.0,0.0,0.0,0.0,0.0,0.0,0.0,0.0,0.0,0.0,0.0,0.0,0.0,0.0,0.0,0.0,0.0,0.0,0.0,0.0,0.0,0.0,0.0,0.0,0.0,0.0,0.0,0.0,0.0,0.0,0.0,0.0,0.0,0.0,0.0,0.0,0.0,0.0,0.0,0.0,0.0,0.0,0.0,0.0,0.0,0.0,0.0,0.0,0.0,0.0,0.0,0.0,0.0,0.0,0.0,0.0,0.0,0.0,0.0,0.0,0.0,0.0,0.0,0.0,0.0,0.0,0.0,0.0,0.0,0.0,0.0,0.0,0.0,0.0,0.0,0.0,0.0,0.0,0.0,0.0,0.0,0.0,0.0,0.0,0.0,0.0,0.0,0.0,0.0,0.0,0.0,0.0,0.0,0.0,0.0,0.0,0.0,0.0,0.0,0.0,0.0,0.0,0.0,0.0,0.0,0.0,0.0,0.0,0.0,0.0,0.0,0.0,0.0,0.0,0.0,0.0,0.0,0.0,0.0,0.0,0.0,0.0,0.0,0.0,0.0,0.0,0.0,0.0,0.0,0.0,0.0,0.0,0.0,0.0,0.0,0.0,0.0,0.0,0.0,0.0,0.0,0.0,0.0,0.0,1.0,0.0,0.0,0.0,0.0,0.0,0.0,0.0,0.0,0.0,0.0,0.0,0.0,0.0,0.0,0.0,0.0,0.0,0.0,0.0,0.0,0.0,0.0,0.0,0.0,0.0,0.0,0.0,0.0,0.0,0.0,0.0,0.0,0.0,0.0,0.0,0.0,0.0,0.0,0.0,null,null,0.0,null,null,0.0,0.0,0.0,0.0,0.0,0.0,0.0,0.0,0.0,0.0,1.0,0.0,0.0,0.0,0.0,0.0,0.0,0.0,0.0,0.0,0.0,0.0,0.0,0.0,0.0,0.0,0.0,0.0,0.0,0.0,0.0,0.0,0.0,0.0,null,0.0,0.0,0.0,0.0,0.0,0.0,0.0,0.0,0.0,0.0,0.0,0.0,0.0,0.0,0.0,0.0,0.0,null,null,null,0.0,0.0,0.0,0.0,0.0,0.0,0.0,0.0,0.0,0.0,0.0,0.0,0.0,0.0,0.0,0.0,0.0,0.0,0.0,null,null,null,0.0,null,null,0.0,0.0,0.0,0.0,0.0,0.0,0.0,0.0,0.0,0.0,0.0,0.0,null,0.0,0.0,0.0,0.0,0.0,0.0,0.0,0.0,0.0,0.0,0.0,0.0,0.0,0.0,0.0,0.0,0.0,0.0,0.0,null,0.0,0.0,null,0.0,0.0,0.0,0.0,null,null,1.0,1.0,0.0,0.0,null,null,0.0,0.0,0.0,0.0,null,null,null,0.0,0.0,0.0,0.0,0.0,null,0.0,0.0,0.0,0.0,0.0,null,0.0,null,0.0,0.0,0.0,0.0,0.0,0.0,0.0,0.0,0.0,0.0,0.0,0.0,0.0,0.0,0.0,0.0,0.0,0.0,0.0,0.0,0.0,0.0,0.0,0.0,0.0,0.0,0.0,0.0,0.0,0.0,0.0,0.0,0.0,0.0,0.0,0.0,0.0,0.0,0.0,0.0,0.0,0.0,0.0,0.0,0.0,0.0,0.0,null]],\"type\":\"heatmap\",\"xaxis\":\"x\",\"yaxis\":\"y\"}],                        {\"template\":{\"data\":{\"histogram2dcontour\":[{\"type\":\"histogram2dcontour\",\"colorbar\":{\"outlinewidth\":0,\"ticks\":\"\"},\"colorscale\":[[0.0,\"#0d0887\"],[0.1111111111111111,\"#46039f\"],[0.2222222222222222,\"#7201a8\"],[0.3333333333333333,\"#9c179e\"],[0.4444444444444444,\"#bd3786\"],[0.5555555555555556,\"#d8576b\"],[0.6666666666666666,\"#ed7953\"],[0.7777777777777778,\"#fb9f3a\"],[0.8888888888888888,\"#fdca26\"],[1.0,\"#f0f921\"]]}],\"choropleth\":[{\"type\":\"choropleth\",\"colorbar\":{\"outlinewidth\":0,\"ticks\":\"\"}}],\"histogram2d\":[{\"type\":\"histogram2d\",\"colorbar\":{\"outlinewidth\":0,\"ticks\":\"\"},\"colorscale\":[[0.0,\"#0d0887\"],[0.1111111111111111,\"#46039f\"],[0.2222222222222222,\"#7201a8\"],[0.3333333333333333,\"#9c179e\"],[0.4444444444444444,\"#bd3786\"],[0.5555555555555556,\"#d8576b\"],[0.6666666666666666,\"#ed7953\"],[0.7777777777777778,\"#fb9f3a\"],[0.8888888888888888,\"#fdca26\"],[1.0,\"#f0f921\"]]}],\"heatmap\":[{\"type\":\"heatmap\",\"colorbar\":{\"outlinewidth\":0,\"ticks\":\"\"},\"colorscale\":[[0.0,\"#0d0887\"],[0.1111111111111111,\"#46039f\"],[0.2222222222222222,\"#7201a8\"],[0.3333333333333333,\"#9c179e\"],[0.4444444444444444,\"#bd3786\"],[0.5555555555555556,\"#d8576b\"],[0.6666666666666666,\"#ed7953\"],[0.7777777777777778,\"#fb9f3a\"],[0.8888888888888888,\"#fdca26\"],[1.0,\"#f0f921\"]]}],\"heatmapgl\":[{\"type\":\"heatmapgl\",\"colorbar\":{\"outlinewidth\":0,\"ticks\":\"\"},\"colorscale\":[[0.0,\"#0d0887\"],[0.1111111111111111,\"#46039f\"],[0.2222222222222222,\"#7201a8\"],[0.3333333333333333,\"#9c179e\"],[0.4444444444444444,\"#bd3786\"],[0.5555555555555556,\"#d8576b\"],[0.6666666666666666,\"#ed7953\"],[0.7777777777777778,\"#fb9f3a\"],[0.8888888888888888,\"#fdca26\"],[1.0,\"#f0f921\"]]}],\"contourcarpet\":[{\"type\":\"contourcarpet\",\"colorbar\":{\"outlinewidth\":0,\"ticks\":\"\"}}],\"contour\":[{\"type\":\"contour\",\"colorbar\":{\"outlinewidth\":0,\"ticks\":\"\"},\"colorscale\":[[0.0,\"#0d0887\"],[0.1111111111111111,\"#46039f\"],[0.2222222222222222,\"#7201a8\"],[0.3333333333333333,\"#9c179e\"],[0.4444444444444444,\"#bd3786\"],[0.5555555555555556,\"#d8576b\"],[0.6666666666666666,\"#ed7953\"],[0.7777777777777778,\"#fb9f3a\"],[0.8888888888888888,\"#fdca26\"],[1.0,\"#f0f921\"]]}],\"surface\":[{\"type\":\"surface\",\"colorbar\":{\"outlinewidth\":0,\"ticks\":\"\"},\"colorscale\":[[0.0,\"#0d0887\"],[0.1111111111111111,\"#46039f\"],[0.2222222222222222,\"#7201a8\"],[0.3333333333333333,\"#9c179e\"],[0.4444444444444444,\"#bd3786\"],[0.5555555555555556,\"#d8576b\"],[0.6666666666666666,\"#ed7953\"],[0.7777777777777778,\"#fb9f3a\"],[0.8888888888888888,\"#fdca26\"],[1.0,\"#f0f921\"]]}],\"mesh3d\":[{\"type\":\"mesh3d\",\"colorbar\":{\"outlinewidth\":0,\"ticks\":\"\"}}],\"scatter\":[{\"fillpattern\":{\"fillmode\":\"overlay\",\"size\":10,\"solidity\":0.2},\"type\":\"scatter\"}],\"parcoords\":[{\"type\":\"parcoords\",\"line\":{\"colorbar\":{\"outlinewidth\":0,\"ticks\":\"\"}}}],\"scatterpolargl\":[{\"type\":\"scatterpolargl\",\"marker\":{\"colorbar\":{\"outlinewidth\":0,\"ticks\":\"\"}}}],\"bar\":[{\"error_x\":{\"color\":\"#2a3f5f\"},\"error_y\":{\"color\":\"#2a3f5f\"},\"marker\":{\"line\":{\"color\":\"#E5ECF6\",\"width\":0.5},\"pattern\":{\"fillmode\":\"overlay\",\"size\":10,\"solidity\":0.2}},\"type\":\"bar\"}],\"scattergeo\":[{\"type\":\"scattergeo\",\"marker\":{\"colorbar\":{\"outlinewidth\":0,\"ticks\":\"\"}}}],\"scatterpolar\":[{\"type\":\"scatterpolar\",\"marker\":{\"colorbar\":{\"outlinewidth\":0,\"ticks\":\"\"}}}],\"histogram\":[{\"marker\":{\"pattern\":{\"fillmode\":\"overlay\",\"size\":10,\"solidity\":0.2}},\"type\":\"histogram\"}],\"scattergl\":[{\"type\":\"scattergl\",\"marker\":{\"colorbar\":{\"outlinewidth\":0,\"ticks\":\"\"}}}],\"scatter3d\":[{\"type\":\"scatter3d\",\"line\":{\"colorbar\":{\"outlinewidth\":0,\"ticks\":\"\"}},\"marker\":{\"colorbar\":{\"outlinewidth\":0,\"ticks\":\"\"}}}],\"scattermapbox\":[{\"type\":\"scattermapbox\",\"marker\":{\"colorbar\":{\"outlinewidth\":0,\"ticks\":\"\"}}}],\"scatterternary\":[{\"type\":\"scatterternary\",\"marker\":{\"colorbar\":{\"outlinewidth\":0,\"ticks\":\"\"}}}],\"scattercarpet\":[{\"type\":\"scattercarpet\",\"marker\":{\"colorbar\":{\"outlinewidth\":0,\"ticks\":\"\"}}}],\"carpet\":[{\"aaxis\":{\"endlinecolor\":\"#2a3f5f\",\"gridcolor\":\"white\",\"linecolor\":\"white\",\"minorgridcolor\":\"white\",\"startlinecolor\":\"#2a3f5f\"},\"baxis\":{\"endlinecolor\":\"#2a3f5f\",\"gridcolor\":\"white\",\"linecolor\":\"white\",\"minorgridcolor\":\"white\",\"startlinecolor\":\"#2a3f5f\"},\"type\":\"carpet\"}],\"table\":[{\"cells\":{\"fill\":{\"color\":\"#EBF0F8\"},\"line\":{\"color\":\"white\"}},\"header\":{\"fill\":{\"color\":\"#C8D4E3\"},\"line\":{\"color\":\"white\"}},\"type\":\"table\"}],\"barpolar\":[{\"marker\":{\"line\":{\"color\":\"#E5ECF6\",\"width\":0.5},\"pattern\":{\"fillmode\":\"overlay\",\"size\":10,\"solidity\":0.2}},\"type\":\"barpolar\"}],\"pie\":[{\"automargin\":true,\"type\":\"pie\"}]},\"layout\":{\"autotypenumbers\":\"strict\",\"colorway\":[\"#636efa\",\"#EF553B\",\"#00cc96\",\"#ab63fa\",\"#FFA15A\",\"#19d3f3\",\"#FF6692\",\"#B6E880\",\"#FF97FF\",\"#FECB52\"],\"font\":{\"color\":\"#2a3f5f\"},\"hovermode\":\"closest\",\"hoverlabel\":{\"align\":\"left\"},\"paper_bgcolor\":\"white\",\"plot_bgcolor\":\"#E5ECF6\",\"polar\":{\"bgcolor\":\"#E5ECF6\",\"angularaxis\":{\"gridcolor\":\"white\",\"linecolor\":\"white\",\"ticks\":\"\"},\"radialaxis\":{\"gridcolor\":\"white\",\"linecolor\":\"white\",\"ticks\":\"\"}},\"ternary\":{\"bgcolor\":\"#E5ECF6\",\"aaxis\":{\"gridcolor\":\"white\",\"linecolor\":\"white\",\"ticks\":\"\"},\"baxis\":{\"gridcolor\":\"white\",\"linecolor\":\"white\",\"ticks\":\"\"},\"caxis\":{\"gridcolor\":\"white\",\"linecolor\":\"white\",\"ticks\":\"\"}},\"coloraxis\":{\"colorbar\":{\"outlinewidth\":0,\"ticks\":\"\"}},\"colorscale\":{\"sequential\":[[0.0,\"#0d0887\"],[0.1111111111111111,\"#46039f\"],[0.2222222222222222,\"#7201a8\"],[0.3333333333333333,\"#9c179e\"],[0.4444444444444444,\"#bd3786\"],[0.5555555555555556,\"#d8576b\"],[0.6666666666666666,\"#ed7953\"],[0.7777777777777778,\"#fb9f3a\"],[0.8888888888888888,\"#fdca26\"],[1.0,\"#f0f921\"]],\"sequentialminus\":[[0.0,\"#0d0887\"],[0.1111111111111111,\"#46039f\"],[0.2222222222222222,\"#7201a8\"],[0.3333333333333333,\"#9c179e\"],[0.4444444444444444,\"#bd3786\"],[0.5555555555555556,\"#d8576b\"],[0.6666666666666666,\"#ed7953\"],[0.7777777777777778,\"#fb9f3a\"],[0.8888888888888888,\"#fdca26\"],[1.0,\"#f0f921\"]],\"diverging\":[[0,\"#8e0152\"],[0.1,\"#c51b7d\"],[0.2,\"#de77ae\"],[0.3,\"#f1b6da\"],[0.4,\"#fde0ef\"],[0.5,\"#f7f7f7\"],[0.6,\"#e6f5d0\"],[0.7,\"#b8e186\"],[0.8,\"#7fbc41\"],[0.9,\"#4d9221\"],[1,\"#276419\"]]},\"xaxis\":{\"gridcolor\":\"white\",\"linecolor\":\"white\",\"ticks\":\"\",\"title\":{\"standoff\":15},\"zerolinecolor\":\"white\",\"automargin\":true,\"zerolinewidth\":2},\"yaxis\":{\"gridcolor\":\"white\",\"linecolor\":\"white\",\"ticks\":\"\",\"title\":{\"standoff\":15},\"zerolinecolor\":\"white\",\"automargin\":true,\"zerolinewidth\":2},\"scene\":{\"xaxis\":{\"backgroundcolor\":\"#E5ECF6\",\"gridcolor\":\"white\",\"linecolor\":\"white\",\"showbackground\":true,\"ticks\":\"\",\"zerolinecolor\":\"white\",\"gridwidth\":2},\"yaxis\":{\"backgroundcolor\":\"#E5ECF6\",\"gridcolor\":\"white\",\"linecolor\":\"white\",\"showbackground\":true,\"ticks\":\"\",\"zerolinecolor\":\"white\",\"gridwidth\":2},\"zaxis\":{\"backgroundcolor\":\"#E5ECF6\",\"gridcolor\":\"white\",\"linecolor\":\"white\",\"showbackground\":true,\"ticks\":\"\",\"zerolinecolor\":\"white\",\"gridwidth\":2}},\"shapedefaults\":{\"line\":{\"color\":\"#2a3f5f\"}},\"annotationdefaults\":{\"arrowcolor\":\"#2a3f5f\",\"arrowhead\":0,\"arrowwidth\":1},\"geo\":{\"bgcolor\":\"white\",\"landcolor\":\"#E5ECF6\",\"subunitcolor\":\"white\",\"showland\":true,\"showlakes\":true,\"lakecolor\":\"white\"},\"title\":{\"x\":0.05},\"mapbox\":{\"style\":\"light\"}}},\"xaxis\":{\"anchor\":\"y\",\"domain\":[0.37333333333333335,1.0]},\"yaxis\":{\"anchor\":\"x\",\"domain\":[0.0,1.0]},\"annotations\":[{\"font\":{\"size\":16},\"showarrow\":false,\"text\":\"\\uc624\\ub958 \\ub370\\uc774\\ud130 \\ube44\\uc728\",\"x\":0.12666666666666668,\"xanchor\":\"center\",\"xref\":\"paper\",\"y\":1.0,\"yanchor\":\"bottom\",\"yref\":\"paper\"},{\"font\":{\"size\":16},\"showarrow\":false,\"text\":\"\\uc624\\ub958 \\ud589 \\ud604\\ud669\",\"x\":0.6866666666666666,\"xanchor\":\"center\",\"xref\":\"paper\",\"y\":1.0,\"yanchor\":\"bottom\",\"yref\":\"paper\"}]},                        {\"responsive\": true}                    ).then(function(){\n",
              "                            \n",
              "var gd = document.getElementById('04f45600-983a-4890-9e5f-b837fb707179');\n",
              "var x = new MutationObserver(function (mutations, observer) {{\n",
              "        var display = window.getComputedStyle(gd).display;\n",
              "        if (!display || display === 'none') {{\n",
              "            console.log([gd, 'removed!']);\n",
              "            Plotly.purge(gd);\n",
              "            observer.disconnect();\n",
              "        }}\n",
              "}});\n",
              "\n",
              "// Listen for the removal of the full notebook cells\n",
              "var notebookContainer = gd.closest('#notebook-container');\n",
              "if (notebookContainer) {{\n",
              "    x.observe(notebookContainer, {childList: true});\n",
              "}}\n",
              "\n",
              "// Listen for the clearing of the current output cell\n",
              "var outputEl = gd.closest('.output');\n",
              "if (outputEl) {{\n",
              "    x.observe(outputEl, {childList: true});\n",
              "}}\n",
              "\n",
              "                        })                };                            </script>        </div>\n",
              "</body>\n",
              "</html>"
            ]
          },
          "metadata": {},
          "output_type": "display_data"
        }
      ],
      "source": [
        "add_error_fig = make_error_rate_plot(addr_error, \"exist\")\n",
        "add_error_fig.write_html(\"4-4-addr-exist.html\")"
      ]
    },
    {
      "cell_type": "markdown",
      "metadata": {
        "id": "Lph9JZgDf3an"
      },
      "source": [
        "이미 한 차례 구문오류에 대한 정제도 끝났기에, 실존하지 않는 주소의 비율이 그렇게 높게 나타나지 않은 것으로 보입니다."
      ]
    },
    {
      "cell_type": "markdown",
      "metadata": {
        "id": "YbUojGPef3an"
      },
      "source": [
        "### 2.2. 좌표값을 활용한 정제\n",
        "\n",
        "이번에는 실존하지 않는 주소에 대해, 좌표값을 검색하여 리턴되는 주소로 대체해줍시다. 이때, 비어있는 데이터도 함께 채워줍니다."
      ]
    },
    {
      "cell_type": "code",
      "execution_count": 18,
      "metadata": {
        "id": "krodO5Eef3ao"
      },
      "outputs": [],
      "source": [
        "idx = addr_error[addr_error[\"exist\"]==1].index.tolist()\n",
        "idx += addr_error[addr_error[\"exist\"].isnull()].index.tolist()"
      ]
    },
    {
      "cell_type": "markdown",
      "metadata": {
        "id": "001j_9hUf3bE"
      },
      "source": [
        "#### 2.2.1. 필요 함수 준비"
      ]
    },
    {
      "cell_type": "markdown",
      "metadata": {
        "id": "s8hqUvKff3bF"
      },
      "source": [
        "- `search_coords` : 좌표계를 네이버 reverse geocoding API에 검색하는 함수입니다. '경도, 위도' 순으로 입력해주세요."
      ]
    },
    {
      "cell_type": "code",
      "execution_count": 19,
      "metadata": {
        "id": "AjlOd9sHf3bG"
      },
      "outputs": [],
      "source": [
        "# 경도, 위도 순으로 입력\n",
        "def search_coords(x,y):\n",
        "    coord = f\"{x},{y}\"\n",
        "    # 요청 헤더에는 API 키와 아이디 값을 입력합니다.\n",
        "    headers = {\"X-NCP-APIGW-API-KEY-ID\":API_ID, \"X-NCP-APIGW-API-KEY\":API_SECRET}\n",
        "\n",
        "    # 파라미터에는 변환할 좌표계를 입력합니다. \"경도,위도\" 순으로 입력해주세요.\n",
        "    params = {\"coords\" : coord, \"output\":\"json\", \"orders\":\"roadaddr,addr\"}\n",
        "\n",
        "    # 정보를 요청할 url입니다\n",
        "    url =\"https://naveropenapi.apigw.ntruss.com/map-reversegeocode/v2/gc\"\n",
        "\n",
        "    data = requests.get(url, headers=headers, params=params)\n",
        "\n",
        "    return json.loads(data.text)"
      ]
    },
    {
      "cell_type": "markdown",
      "metadata": {
        "id": "QcTriJyLf3bG"
      },
      "source": [
        "- `road_addr_maker` : `search_coords`에서 리턴된 주소 구성 요소들을 합성하여 새 도로명주소를 생성하는 함수입니다."
      ]
    },
    {
      "cell_type": "code",
      "execution_count": 20,
      "metadata": {
        "id": "L3GYx5Jqf3bH"
      },
      "outputs": [],
      "source": [
        "# 도로명주소를 합성하는 함수\n",
        "def road_addr_maker(road_obj):\n",
        "    road = road_obj[\"region\"][\"area1\"][\"name\"] + \" \" + road_obj[\"region\"][\"area2\"][\"name\"]\n",
        "    if road_obj[\"region\"][\"area3\"][\"name\"][-1] == \"읍\" or road_obj[\"region\"][\"area3\"][\"name\"][-1] == \"면\":\n",
        "        road += \" \" + road_obj[\"region\"][\"area3\"][\"name\"]\n",
        "    if road_obj[\"land\"][\"name\"] != \"\":\n",
        "        road += \" \" + road_obj[\"land\"][\"name\"]\n",
        "    if road_obj[\"land\"][\"number1\"] != \"\":\n",
        "        road += \" \" + road_obj[\"land\"][\"number1\"]\n",
        "    if  road_obj[\"land\"][\"number2\"] != \"\":\n",
        "        road += \"-\" + road_obj[\"land\"][\"number2\"]\n",
        "    return road\n"
      ]
    },
    {
      "cell_type": "markdown",
      "metadata": {
        "id": "4v_4hUqgf3bI"
      },
      "source": [
        "### 2.2.2. 함수 실행\n",
        "\n",
        "API를 활용하는 경우, 서버에 하나의 요청만 보낼 수 있으므로, 반복문을 사용해 한 행씩 실행시켜야 합니다. 또한, 서버와 통신하여 결과값을 가져오므로 다른 과정들보다 시간이 오래 걸립니다."
      ]
    },
    {
      "cell_type": "code",
      "execution_count": 21,
      "metadata": {
        "colab": {
          "base_uri": "https://localhost:8080/"
        },
        "id": "8Mi_2aKVf3bI",
        "outputId": "0fa474a3-561f-4e79-f5a2-d00af214ad16"
      },
      "outputs": [
        {
          "name": "stderr",
          "output_type": "stream",
          "text": [
            "100%|██████████| 40/40 [00:43<00:00,  1.09s/it]\n"
          ]
        }
      ],
      "source": [
        "# 좌표계 데이터 역시 잘못된 경우 저장\n",
        "non_exist_coord = []\n",
        "\n",
        "for i in tqdm(idx):\n",
        "        # 좌표계 검색\n",
        "        re_val = search_coords(df.loc[i, \"경도\"],df.loc[i, \"위도\"])\n",
        "\n",
        "        # 검색한 좌표계가 존재하는지 확인\n",
        "        if (re_val[\"status\"][\"name\"] != \"ok\") or (len(re_val[\"results\"]) == 0):\n",
        "            non_exist_coord.append(i)\n",
        "\n",
        "        # 검색한 좌표계가 존재하는 경우\n",
        "        else:\n",
        "            # 지번, 도로명주소가 모두 존재하는 지점인 경우\n",
        "            if len(re_val[\"results\"]) == 2:\n",
        "                road_obj = re_val[\"results\"][0]\n",
        "\n",
        "                # 주소 합성\n",
        "                road = road_addr_maker(road_obj)\n",
        "                df['소재지도로명주소'][i] = road\n",
        "                addr_error['API_addr'][i] = road_obj[\"region\"][\"area3\"][\"name\"]"
      ]
    },
    {
      "cell_type": "markdown",
      "metadata": {
        "id": "5LFKLEidf3bJ"
      },
      "source": [
        "좌표계 역시 오류가 있는지 확인합니다. 좌표계조차 오류가 있어 검색이 되지 않는 경우, 해당 주소를 정제하는 것이 불가능합니다."
      ]
    },
    {
      "cell_type": "code",
      "execution_count": 22,
      "metadata": {
        "colab": {
          "base_uri": "https://localhost:8080/"
        },
        "id": "Gwm6l46jf3bK",
        "outputId": "2011f0a1-d292-47ff-c9ab-517a51af8053"
      },
      "outputs": [
        {
          "data": {
            "text/plain": [
              "[]"
            ]
          },
          "execution_count": 22,
          "metadata": {},
          "output_type": "execute_result"
        }
      ],
      "source": [
        "non_exist_coord"
      ]
    },
    {
      "cell_type": "markdown",
      "metadata": {
        "id": "xAuyWLFkf3bL"
      },
      "source": [
        "지금까지 정제한 데이터를 저장합니다. 에러테이블도 함께 저장하겠습니다."
      ]
    },
    {
      "cell_type": "code",
      "execution_count": 23,
      "metadata": {
        "id": "NlDoTl39f3bL"
      },
      "outputs": [],
      "source": [
        "df.to_excel(\"sample_refined.xlsx\")\n",
        "addr_error.to_excel(\"error_refine_by_API.xlsx\", index=False)"
      ]
    },
    {
      "cell_type": "markdown",
      "metadata": {
        "id": "x6DKhktlf3bM"
      },
      "source": [
        "## 3. 인구 데이터와 합치기\n",
        "\n",
        "이제 법정동별 인구정보 데이터와 샘플 데이터를 병합해보도록 하겠습니다. 인구데이터는 [사이트]()에서 제공합니다. 사이트의 집계기준은 행정동이지만, 본 문서에서 활용할 데이터는 이를 법정동으로 변환하여 재합산한 데이터를 활용합니다. 이 과정에서 실행한 코드도 [깃허브]()에 데이터 원본과 함께 업로드 해두었습니다."
      ]
    },
    {
      "cell_type": "markdown",
      "metadata": {
        "id": "sPP68whLf3bN"
      },
      "source": [
        "### 3.1. 인구데이터의 행정기관 단위로 행정기관명칭 수정\n",
        "\n",
        "도심지역이 아닌 도서산간 지역의 경우, 행정동보다 큰 단위인 법정동 단위로도 집계하여도 인구수가 너무 적어, 복수의 법정동을 합산하여 집계하고 있습니다. 따라서, 본 문서에서도 다른 행정구역과 합산되는 법정동/읍/면의 경우 인구데이터에 기재된대로 수정합니다."
      ]
    },
    {
      "cell_type": "code",
      "execution_count": 24,
      "metadata": {
        "id": "LrWL3JZof3bO"
      },
      "outputs": [],
      "source": [
        "census = pd.read_excel(\"census_data_cleaned.xlsx\") # 인구 데이터\n",
        "merge_table = json.load(open(\"dong_merge_table.json\", \"r\")) # 동 명칭 병합이 필요한 테이블\n",
        "merge_table = merge_table[\"data\"]\n",
        "\n",
        "# /읍/면/동명칭의 수정이 필요한 지역들에 대한 리스트\n",
        "change_list = list(merge_table.keys())"
      ]
    },
    {
      "cell_type": "markdown",
      "metadata": {
        "id": "2uLzkB8xf3bP"
      },
      "source": [
        "- `merging_dong` : 수정이 필요한 행정기관 명칭인지 파악하고, merge_table의 값대로 수정합니다."
      ]
    },
    {
      "cell_type": "code",
      "execution_count": 25,
      "metadata": {
        "colab": {
          "base_uri": "https://localhost:8080/"
        },
        "id": "ocDpnE9Vf3bQ",
        "outputId": "f459163b-4095-4d26-e1bd-e46633295989"
      },
      "outputs": [
        {
          "data": {
            "text/plain": [
              "Index([None, None, None, None, None, None, None, None, None, None,\n",
              "       ...\n",
              "       None, None, None, None, None, None, None, None, None, None],\n",
              "      dtype='object', length=499)"
            ]
          },
          "execution_count": 25,
          "metadata": {},
          "output_type": "execute_result"
        }
      ],
      "source": [
        "def mergeing_dong(i):\n",
        "    if df['소재지도로명주소'][i] != None:\n",
        "        addr_splits = df['소재지도로명주소'][i].split(\" \")\n",
        "\n",
        "        city = addr_splits[0] + \" \" + addr_splits[1]\n",
        "        if addr_error[\"API_addr\"][i] in change_list and city == merge_table[addr_error[\"API_addr\"][i]][\"city\"]:\n",
        "            addr_error[\"API_addr\"][i] = merge_table[addr_error[\"API_addr\"][i]][\"changeto\"]\n",
        "addr_error.index.map(lambda i: mergeing_dong(i))"
      ]
    },
    {
      "cell_type": "markdown",
      "metadata": {
        "id": "PHC9dZd_f3bR"
      },
      "source": [
        "### 3.2. 행정기관 명칭을 키 값으로 하여 병합하기\n",
        "\n",
        "앞서 샘플 데이터의 읍/면/동 명칭을 모두 수정하였습니다. 그럼 이제 이 행정기관 명칭을 기준으로 두 데이터를 병합해봅시다."
      ]
    },
    {
      "cell_type": "code",
      "execution_count": 26,
      "metadata": {
        "id": "ciip5s_lf3bT"
      },
      "outputs": [],
      "source": [
        "census[\"key\"] = census['행정기관']\n",
        "df[\"동명칭\"] = addr_error[\"API_addr\"]"
      ]
    },
    {
      "cell_type": "markdown",
      "metadata": {
        "id": "0w8GXWNDf3bU"
      },
      "source": [
        "- `key_make` : 샘플 데이터의 \"동명칭\" 컬럼은 단순히 동 단위의 명칭만 담고 있습니다. 동명칭의 경우, 중복되는 경우가 많으므로, 인구데이터의 \"행정기관\" 컬럼과 같이 **광역자치단체명+(기초자치단체명)+동/읍/면** 의 형태로 데이터를 보충하여 키 컬럼을 따로 만듭니다."
      ]
    },
    {
      "cell_type": "code",
      "execution_count": 32,
      "metadata": {
        "id": "ph49FZZWf3bV"
      },
      "outputs": [],
      "source": [
        "def key_make(i):\n",
        "    if df['소재지도로명주소'][i] != None:\n",
        "        key_match = re.search(r\"([가-힣]+(?:특별시|광역시|특별자치도|도|특별자치시))(\\s[가-힣]+(?:시|군|구))?(\\s[가-힣]+(?:구))?\", df['소재지도로명주소'][i])\n",
        "        if key_match != None and type(df['동명칭'][i]) == str:\n",
        "            return key_match.group() + \" \" + df[\"동명칭\"][i]\n",
        "        else:\n",
        "            return None\n",
        "    else:\n",
        "        if df['소재지지번주소'][i] != None:\n",
        "            key_match = re.search(r\"([가-힣]+(?:특별시|광역시|특별자치도|도|특별자치시))(\\s[가-힣]+(?:시|군|구))?(\\s[가-힣]+(?:구))?\", df['소재지지번주소'][i])\n",
        "            if key_match != None and type(df['동명칭'][i]) == str:\n",
        "                return key_match.group() + \" \" + df[\"동명칭\"][i]\n",
        "            else:\n",
        "                return None\n",
        "\n",
        "# 병합의 기준이 되는 키 컬럼을 생성합니다\n",
        "df.reset_index(inplace=True, drop = True)\n",
        "df[\"key\"] = df.index.map(lambda i: key_make(i))"
      ]
    },
    {
      "cell_type": "code",
      "execution_count": 33,
      "metadata": {
        "id": "Jq9mZC6Cf3bW"
      },
      "outputs": [],
      "source": [
        "# key 컬럼을 기준으로 샘플데이터에 인구 데이터를 병합합니다.\n",
        "merged = pd.merge(left = df, right = census, on=\"key\", how=\"left\")"
      ]
    },
    {
      "cell_type": "code",
      "execution_count": 34,
      "metadata": {
        "colab": {
          "base_uri": "https://localhost:8080/",
          "height": 235
        },
        "id": "bF8hUjH4f3bX",
        "outputId": "8e265dd0-eed6-46e6-b418-7010528d7edd"
      },
      "outputs": [
        {
          "data": {
            "application/vnd.google.colaboratory.intrinsic+json": {
              "type": "dataframe",
              "variable_name": "merged"
            },
            "text/html": [
              "\n",
              "  <div id=\"df-83e03ab6-ce57-4e55-85b0-7ed82f2da0e5\" class=\"colab-df-container\">\n",
              "    <div>\n",
              "<style scoped>\n",
              "    .dataframe tbody tr th:only-of-type {\n",
              "        vertical-align: middle;\n",
              "    }\n",
              "\n",
              "    .dataframe tbody tr th {\n",
              "        vertical-align: top;\n",
              "    }\n",
              "\n",
              "    .dataframe thead th {\n",
              "        text-align: right;\n",
              "    }\n",
              "</style>\n",
              "<table border=\"1\" class=\"dataframe\">\n",
              "  <thead>\n",
              "    <tr style=\"text-align: right;\">\n",
              "      <th></th>\n",
              "      <th>개방시설명</th>\n",
              "      <th>휴관일</th>\n",
              "      <th>평일운영시작시각</th>\n",
              "      <th>평일운영종료시각</th>\n",
              "      <th>주말운영시작시각</th>\n",
              "      <th>주말운영종료시각</th>\n",
              "      <th>유료사용여부</th>\n",
              "      <th>사용기준시간</th>\n",
              "      <th>사용료</th>\n",
              "      <th>초과사용단위시간</th>\n",
              "      <th>...</th>\n",
              "      <th>경도</th>\n",
              "      <th>데이터기준일자</th>\n",
              "      <th>동명칭_x</th>\n",
              "      <th>key</th>\n",
              "      <th>행정기관</th>\n",
              "      <th>총인구수</th>\n",
              "      <th>세대수</th>\n",
              "      <th>세대당 인구</th>\n",
              "      <th>남여 비율</th>\n",
              "      <th>동명칭_y</th>\n",
              "    </tr>\n",
              "  </thead>\n",
              "  <tbody>\n",
              "    <tr>\n",
              "      <th>0</th>\n",
              "      <td>평창군문화복지센터</td>\n",
              "      <td>공휴일+일요일</td>\n",
              "      <td>9:00</td>\n",
              "      <td>22:00</td>\n",
              "      <td>9:00</td>\n",
              "      <td>18:00</td>\n",
              "      <td>Y</td>\n",
              "      <td>None</td>\n",
              "      <td>강당/다목적강당:80000(오전)+80000(오후)+100000(야간)+150,00...</td>\n",
              "      <td>None</td>\n",
              "      <td>...</td>\n",
              "      <td>128.394885</td>\n",
              "      <td>2022-11-30</td>\n",
              "      <td>평창읍</td>\n",
              "      <td>강원특별자치도 평창군 평창읍</td>\n",
              "      <td>강원특별자치도 평창군 평창읍</td>\n",
              "      <td>8356.0</td>\n",
              "      <td>4304.0</td>\n",
              "      <td>1.94</td>\n",
              "      <td>1.06</td>\n",
              "      <td>평창읍</td>\n",
              "    </tr>\n",
              "    <tr>\n",
              "      <th>1</th>\n",
              "      <td>미탄복지회관</td>\n",
              "      <td>연중무휴</td>\n",
              "      <td>9:00</td>\n",
              "      <td>18:00</td>\n",
              "      <td>9:00</td>\n",
              "      <td>18:00</td>\n",
              "      <td>Y</td>\n",
              "      <td>2.0</td>\n",
              "      <td>40000</td>\n",
              "      <td>None</td>\n",
              "      <td>...</td>\n",
              "      <td>128.495722</td>\n",
              "      <td>2022-11-30</td>\n",
              "      <td>미탄면</td>\n",
              "      <td>강원특별자치도 평창군 미탄면</td>\n",
              "      <td>강원특별자치도 평창군 미탄면</td>\n",
              "      <td>1563.0</td>\n",
              "      <td>919.0</td>\n",
              "      <td>1.70</td>\n",
              "      <td>1.19</td>\n",
              "      <td>미탄면</td>\n",
              "    </tr>\n",
              "    <tr>\n",
              "      <th>2</th>\n",
              "      <td>미탄복지회관</td>\n",
              "      <td>연중무휴</td>\n",
              "      <td>9:00</td>\n",
              "      <td>18:00</td>\n",
              "      <td>9:00</td>\n",
              "      <td>18:00</td>\n",
              "      <td>Y</td>\n",
              "      <td>4.0</td>\n",
              "      <td>30000</td>\n",
              "      <td>None</td>\n",
              "      <td>...</td>\n",
              "      <td>128.496254</td>\n",
              "      <td>2022-11-30</td>\n",
              "      <td>미탄면</td>\n",
              "      <td>강원특별자치도 평창군 미탄면</td>\n",
              "      <td>강원특별자치도 평창군 미탄면</td>\n",
              "      <td>1563.0</td>\n",
              "      <td>919.0</td>\n",
              "      <td>1.70</td>\n",
              "      <td>1.19</td>\n",
              "      <td>미탄면</td>\n",
              "    </tr>\n",
              "    <tr>\n",
              "      <th>3</th>\n",
              "      <td>방림복지회관</td>\n",
              "      <td>연중무휴</td>\n",
              "      <td>9:00</td>\n",
              "      <td>18:00</td>\n",
              "      <td>9:00</td>\n",
              "      <td>18:00</td>\n",
              "      <td>Y</td>\n",
              "      <td>4.0</td>\n",
              "      <td>30000</td>\n",
              "      <td>None</td>\n",
              "      <td>...</td>\n",
              "      <td>128.394027</td>\n",
              "      <td>2022-11-30</td>\n",
              "      <td>방림면</td>\n",
              "      <td>강원특별자치도 평창군 방림면</td>\n",
              "      <td>강원특별자치도 평창군 방림면</td>\n",
              "      <td>2536.0</td>\n",
              "      <td>1530.0</td>\n",
              "      <td>3.32</td>\n",
              "      <td>2.21</td>\n",
              "      <td>방림면</td>\n",
              "    </tr>\n",
              "    <tr>\n",
              "      <th>4</th>\n",
              "      <td>계촌복지회관</td>\n",
              "      <td>연중무휴</td>\n",
              "      <td>9:00</td>\n",
              "      <td>18:00</td>\n",
              "      <td>9:00</td>\n",
              "      <td>18:00</td>\n",
              "      <td>Y</td>\n",
              "      <td>4.0</td>\n",
              "      <td>30000</td>\n",
              "      <td>None</td>\n",
              "      <td>...</td>\n",
              "      <td>128.306073</td>\n",
              "      <td>2022-11-30</td>\n",
              "      <td>방림면</td>\n",
              "      <td>강원특별자치도 평창군 방림면</td>\n",
              "      <td>강원특별자치도 평창군 방림면</td>\n",
              "      <td>2536.0</td>\n",
              "      <td>1530.0</td>\n",
              "      <td>3.32</td>\n",
              "      <td>2.21</td>\n",
              "      <td>방림면</td>\n",
              "    </tr>\n",
              "  </tbody>\n",
              "</table>\n",
              "<p>5 rows × 27 columns</p>\n",
              "</div>\n",
              "    <div class=\"colab-df-buttons\">\n",
              "\n",
              "  <div class=\"colab-df-container\">\n",
              "    <button class=\"colab-df-convert\" onclick=\"convertToInteractive('df-83e03ab6-ce57-4e55-85b0-7ed82f2da0e5')\"\n",
              "            title=\"Convert this dataframe to an interactive table.\"\n",
              "            style=\"display:none;\">\n",
              "\n",
              "  <svg xmlns=\"http://www.w3.org/2000/svg\" height=\"24px\" viewBox=\"0 -960 960 960\">\n",
              "    <path d=\"M120-120v-720h720v720H120Zm60-500h600v-160H180v160Zm220 220h160v-160H400v160Zm0 220h160v-160H400v160ZM180-400h160v-160H180v160Zm440 0h160v-160H620v160ZM180-180h160v-160H180v160Zm440 0h160v-160H620v160Z\"/>\n",
              "  </svg>\n",
              "    </button>\n",
              "\n",
              "  <style>\n",
              "    .colab-df-container {\n",
              "      display:flex;\n",
              "      gap: 12px;\n",
              "    }\n",
              "\n",
              "    .colab-df-convert {\n",
              "      background-color: #E8F0FE;\n",
              "      border: none;\n",
              "      border-radius: 50%;\n",
              "      cursor: pointer;\n",
              "      display: none;\n",
              "      fill: #1967D2;\n",
              "      height: 32px;\n",
              "      padding: 0 0 0 0;\n",
              "      width: 32px;\n",
              "    }\n",
              "\n",
              "    .colab-df-convert:hover {\n",
              "      background-color: #E2EBFA;\n",
              "      box-shadow: 0px 1px 2px rgba(60, 64, 67, 0.3), 0px 1px 3px 1px rgba(60, 64, 67, 0.15);\n",
              "      fill: #174EA6;\n",
              "    }\n",
              "\n",
              "    .colab-df-buttons div {\n",
              "      margin-bottom: 4px;\n",
              "    }\n",
              "\n",
              "    [theme=dark] .colab-df-convert {\n",
              "      background-color: #3B4455;\n",
              "      fill: #D2E3FC;\n",
              "    }\n",
              "\n",
              "    [theme=dark] .colab-df-convert:hover {\n",
              "      background-color: #434B5C;\n",
              "      box-shadow: 0px 1px 3px 1px rgba(0, 0, 0, 0.15);\n",
              "      filter: drop-shadow(0px 1px 2px rgba(0, 0, 0, 0.3));\n",
              "      fill: #FFFFFF;\n",
              "    }\n",
              "  </style>\n",
              "\n",
              "    <script>\n",
              "      const buttonEl =\n",
              "        document.querySelector('#df-83e03ab6-ce57-4e55-85b0-7ed82f2da0e5 button.colab-df-convert');\n",
              "      buttonEl.style.display =\n",
              "        google.colab.kernel.accessAllowed ? 'block' : 'none';\n",
              "\n",
              "      async function convertToInteractive(key) {\n",
              "        const element = document.querySelector('#df-83e03ab6-ce57-4e55-85b0-7ed82f2da0e5');\n",
              "        const dataTable =\n",
              "          await google.colab.kernel.invokeFunction('convertToInteractive',\n",
              "                                                    [key], {});\n",
              "        if (!dataTable) return;\n",
              "\n",
              "        const docLinkHtml = 'Like what you see? Visit the ' +\n",
              "          '<a target=\"_blank\" href=https://colab.research.google.com/notebooks/data_table.ipynb>data table notebook</a>'\n",
              "          + ' to learn more about interactive tables.';\n",
              "        element.innerHTML = '';\n",
              "        dataTable['output_type'] = 'display_data';\n",
              "        await google.colab.output.renderOutput(dataTable, element);\n",
              "        const docLink = document.createElement('div');\n",
              "        docLink.innerHTML = docLinkHtml;\n",
              "        element.appendChild(docLink);\n",
              "      }\n",
              "    </script>\n",
              "  </div>\n",
              "\n",
              "\n",
              "<div id=\"df-e9c7b5d8-c8a2-4558-b448-57327f56033e\">\n",
              "  <button class=\"colab-df-quickchart\" onclick=\"quickchart('df-e9c7b5d8-c8a2-4558-b448-57327f56033e')\"\n",
              "            title=\"Suggest charts\"\n",
              "            style=\"display:none;\">\n",
              "\n",
              "<svg xmlns=\"http://www.w3.org/2000/svg\" height=\"24px\"viewBox=\"0 0 24 24\"\n",
              "     width=\"24px\">\n",
              "    <g>\n",
              "        <path d=\"M19 3H5c-1.1 0-2 .9-2 2v14c0 1.1.9 2 2 2h14c1.1 0 2-.9 2-2V5c0-1.1-.9-2-2-2zM9 17H7v-7h2v7zm4 0h-2V7h2v10zm4 0h-2v-4h2v4z\"/>\n",
              "    </g>\n",
              "</svg>\n",
              "  </button>\n",
              "\n",
              "<style>\n",
              "  .colab-df-quickchart {\n",
              "      --bg-color: #E8F0FE;\n",
              "      --fill-color: #1967D2;\n",
              "      --hover-bg-color: #E2EBFA;\n",
              "      --hover-fill-color: #174EA6;\n",
              "      --disabled-fill-color: #AAA;\n",
              "      --disabled-bg-color: #DDD;\n",
              "  }\n",
              "\n",
              "  [theme=dark] .colab-df-quickchart {\n",
              "      --bg-color: #3B4455;\n",
              "      --fill-color: #D2E3FC;\n",
              "      --hover-bg-color: #434B5C;\n",
              "      --hover-fill-color: #FFFFFF;\n",
              "      --disabled-bg-color: #3B4455;\n",
              "      --disabled-fill-color: #666;\n",
              "  }\n",
              "\n",
              "  .colab-df-quickchart {\n",
              "    background-color: var(--bg-color);\n",
              "    border: none;\n",
              "    border-radius: 50%;\n",
              "    cursor: pointer;\n",
              "    display: none;\n",
              "    fill: var(--fill-color);\n",
              "    height: 32px;\n",
              "    padding: 0;\n",
              "    width: 32px;\n",
              "  }\n",
              "\n",
              "  .colab-df-quickchart:hover {\n",
              "    background-color: var(--hover-bg-color);\n",
              "    box-shadow: 0 1px 2px rgba(60, 64, 67, 0.3), 0 1px 3px 1px rgba(60, 64, 67, 0.15);\n",
              "    fill: var(--button-hover-fill-color);\n",
              "  }\n",
              "\n",
              "  .colab-df-quickchart-complete:disabled,\n",
              "  .colab-df-quickchart-complete:disabled:hover {\n",
              "    background-color: var(--disabled-bg-color);\n",
              "    fill: var(--disabled-fill-color);\n",
              "    box-shadow: none;\n",
              "  }\n",
              "\n",
              "  .colab-df-spinner {\n",
              "    border: 2px solid var(--fill-color);\n",
              "    border-color: transparent;\n",
              "    border-bottom-color: var(--fill-color);\n",
              "    animation:\n",
              "      spin 1s steps(1) infinite;\n",
              "  }\n",
              "\n",
              "  @keyframes spin {\n",
              "    0% {\n",
              "      border-color: transparent;\n",
              "      border-bottom-color: var(--fill-color);\n",
              "      border-left-color: var(--fill-color);\n",
              "    }\n",
              "    20% {\n",
              "      border-color: transparent;\n",
              "      border-left-color: var(--fill-color);\n",
              "      border-top-color: var(--fill-color);\n",
              "    }\n",
              "    30% {\n",
              "      border-color: transparent;\n",
              "      border-left-color: var(--fill-color);\n",
              "      border-top-color: var(--fill-color);\n",
              "      border-right-color: var(--fill-color);\n",
              "    }\n",
              "    40% {\n",
              "      border-color: transparent;\n",
              "      border-right-color: var(--fill-color);\n",
              "      border-top-color: var(--fill-color);\n",
              "    }\n",
              "    60% {\n",
              "      border-color: transparent;\n",
              "      border-right-color: var(--fill-color);\n",
              "    }\n",
              "    80% {\n",
              "      border-color: transparent;\n",
              "      border-right-color: var(--fill-color);\n",
              "      border-bottom-color: var(--fill-color);\n",
              "    }\n",
              "    90% {\n",
              "      border-color: transparent;\n",
              "      border-bottom-color: var(--fill-color);\n",
              "    }\n",
              "  }\n",
              "</style>\n",
              "\n",
              "  <script>\n",
              "    async function quickchart(key) {\n",
              "      const quickchartButtonEl =\n",
              "        document.querySelector('#' + key + ' button');\n",
              "      quickchartButtonEl.disabled = true;  // To prevent multiple clicks.\n",
              "      quickchartButtonEl.classList.add('colab-df-spinner');\n",
              "      try {\n",
              "        const charts = await google.colab.kernel.invokeFunction(\n",
              "            'suggestCharts', [key], {});\n",
              "      } catch (error) {\n",
              "        console.error('Error during call to suggestCharts:', error);\n",
              "      }\n",
              "      quickchartButtonEl.classList.remove('colab-df-spinner');\n",
              "      quickchartButtonEl.classList.add('colab-df-quickchart-complete');\n",
              "    }\n",
              "    (() => {\n",
              "      let quickchartButtonEl =\n",
              "        document.querySelector('#df-e9c7b5d8-c8a2-4558-b448-57327f56033e button');\n",
              "      quickchartButtonEl.style.display =\n",
              "        google.colab.kernel.accessAllowed ? 'block' : 'none';\n",
              "    })();\n",
              "  </script>\n",
              "</div>\n",
              "\n",
              "    </div>\n",
              "  </div>\n"
            ],
            "text/plain": [
              "       개방시설명      휴관일 평일운영시작시각 평일운영종료시각 주말운영시작시각 주말운영종료시각 유료사용여부 사용기준시간  \\\n",
              "0  평창군문화복지센터  공휴일+일요일     9:00    22:00     9:00    18:00      Y   None   \n",
              "1     미탄복지회관     연중무휴     9:00    18:00     9:00    18:00      Y    2.0   \n",
              "2     미탄복지회관     연중무휴     9:00    18:00     9:00    18:00      Y    4.0   \n",
              "3     방림복지회관     연중무휴     9:00    18:00     9:00    18:00      Y    4.0   \n",
              "4     계촌복지회관     연중무휴     9:00    18:00     9:00    18:00      Y    4.0   \n",
              "\n",
              "                                                 사용료 초과사용단위시간  ...  \\\n",
              "0  강당/다목적강당:80000(오전)+80000(오후)+100000(야간)+150,00...     None  ...   \n",
              "1                                              40000     None  ...   \n",
              "2                                              30000     None  ...   \n",
              "3                                              30000     None  ...   \n",
              "4                                              30000     None  ...   \n",
              "\n",
              "           경도     데이터기준일자 동명칭_x              key             행정기관    총인구수  \\\n",
              "0  128.394885  2022-11-30   평창읍  강원특별자치도 평창군 평창읍  강원특별자치도 평창군 평창읍  8356.0   \n",
              "1  128.495722  2022-11-30   미탄면  강원특별자치도 평창군 미탄면  강원특별자치도 평창군 미탄면  1563.0   \n",
              "2  128.496254  2022-11-30   미탄면  강원특별자치도 평창군 미탄면  강원특별자치도 평창군 미탄면  1563.0   \n",
              "3  128.394027  2022-11-30   방림면  강원특별자치도 평창군 방림면  강원특별자치도 평창군 방림면  2536.0   \n",
              "4  128.306073  2022-11-30   방림면  강원특별자치도 평창군 방림면  강원특별자치도 평창군 방림면  2536.0   \n",
              "\n",
              "      세대수  세대당 인구 남여 비율 동명칭_y  \n",
              "0  4304.0    1.94  1.06   평창읍  \n",
              "1   919.0    1.70  1.19   미탄면  \n",
              "2   919.0    1.70  1.19   미탄면  \n",
              "3  1530.0    3.32  2.21   방림면  \n",
              "4  1530.0    3.32  2.21   방림면  \n",
              "\n",
              "[5 rows x 27 columns]"
            ]
          },
          "execution_count": 34,
          "metadata": {},
          "output_type": "execute_result"
        }
      ],
      "source": [
        "merged.head(5)"
      ]
    },
    {
      "cell_type": "code",
      "execution_count": 35,
      "metadata": {
        "id": "Cvd64UBLf3bZ"
      },
      "outputs": [],
      "source": [
        "# 병합을 위해 추가적으로 생성했던 컬럼들을 제거합니다\n",
        "merged.drop([\"동명칭_x\", \"동명칭_y\", \"key\"], axis = 1, inplace = True)\n",
        "\n",
        "# 최종적으로 병합된 데이터를 저장합니다.\n",
        "# 이 데이터는 6.6. 장에서 다시 활용됩니다.\n",
        "merged.to_excel(\"merged_clean.xlsx\", index=False)"
      ]
    }
  ],
  "metadata": {
    "colab": {
      "provenance": [],
      "toc_visible": true
    },
    "kernelspec": {
      "display_name": "base",
      "language": "python",
      "name": "python3"
    },
    "language_info": {
      "codemirror_mode": {
        "name": "ipython",
        "version": 3
      },
      "file_extension": ".py",
      "mimetype": "text/x-python",
      "name": "python",
      "nbconvert_exporter": "python",
      "pygments_lexer": "ipython3",
      "version": "3.11.5"
    }
  },
  "nbformat": 4,
  "nbformat_minor": 0
}
