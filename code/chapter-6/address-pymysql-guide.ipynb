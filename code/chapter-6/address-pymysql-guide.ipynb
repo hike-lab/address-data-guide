{
 "cells": [
  {
   "cell_type": "markdown",
   "metadata": {},
   "source": [
    "# 6장. 파이썬과 MySQL로 구축하는 주소 데이터베이스 \n",
    "\n",
    "- 작성자: 박하람\n",
    "- 작성일자: 2024.02.22"
   ]
  },
  {
   "cell_type": "markdown",
   "metadata": {},
   "source": [
    "## 6.2 프로젝트 환경 구축하기 \n",
    "\n",
    "### 파이썬 노트북으로 MySQL 연결하기"
   ]
  },
  {
   "cell_type": "code",
   "execution_count": 1,
   "metadata": {},
   "outputs": [
    {
     "name": "stdout",
     "output_type": "stream",
     "text": [
      "Requirement already satisfied: pymysql in /Users/harampark/Desktop/labs/2.internship/2023/address-realtime-analysis/.conda/lib/python3.9/site-packages (1.1.0)\n"
     ]
    }
   ],
   "source": [
    "!pip3 install pymysql"
   ]
  },
  {
   "cell_type": "code",
   "execution_count": 139,
   "metadata": {},
   "outputs": [
    {
     "name": "stdout",
     "output_type": "stream",
     "text": [
      "{'Database': 'information_schema'}\n",
      "{'Database': 'mysql'}\n",
      "{'Database': 'performance_schema'}\n",
      "{'Database': 'sys'}\n"
     ]
    }
   ],
   "source": [
    "import pymysql\n",
    "\n",
    "def init_connection():\n",
    "    connection = pymysql.connect(\n",
    "        host=\"localhost\",\n",
    "        port=3306,\n",
    "        user=\"root\",\n",
    "        password=\"root\",\n",
    "        cursorclass=pymysql.cursors.DictCursor,\n",
    "        charset=\"utf8\",\n",
    "    )\n",
    "    return connection\n",
    "\n",
    "sql = \"SHOW DATABASES;\"\n",
    "conn = init_connection()\n",
    "\n",
    "with conn:\n",
    "    with conn.cursor() as cur:\n",
    "        cur.execute(sql)\n",
    "        for data in cur:\n",
    "            print(data)"
   ]
  },
  {
   "cell_type": "markdown",
   "metadata": {},
   "source": [
    "## 6.3 데이터베이스 생성하기"
   ]
  },
  {
   "cell_type": "markdown",
   "metadata": {},
   "source": [
    "### 데이터베이스 생성하기"
   ]
  },
  {
   "cell_type": "code",
   "execution_count": 142,
   "metadata": {},
   "outputs": [],
   "source": [
    "conn = init_connection()\n",
    "sql = \"CREATE DATABASE address DEFAULT CHARACTER SET utf8;\"\n",
    "\n",
    "with conn:\n",
    "    with conn.cursor() as cur:\n",
    "        cur.execute(sql)\n",
    "        conn.commit()"
   ]
  },
  {
   "cell_type": "code",
   "execution_count": 143,
   "metadata": {},
   "outputs": [
    {
     "name": "stdout",
     "output_type": "stream",
     "text": [
      "{'Database': 'address'}\n",
      "{'Database': 'information_schema'}\n",
      "{'Database': 'mysql'}\n",
      "{'Database': 'performance_schema'}\n",
      "{'Database': 'sys'}\n"
     ]
    }
   ],
   "source": [
    "conn = init_connection()\n",
    "\n",
    "sql = \"SHOW DATABASES;\"\n",
    "\n",
    "with conn:\n",
    "    with conn.cursor() as cur:\n",
    "        cur.execute(sql)\n",
    "        for data in cur:\n",
    "            print(data)"
   ]
  },
  {
   "cell_type": "markdown",
   "metadata": {},
   "source": [
    "## 6.4 테이블 생성하기"
   ]
  },
  {
   "cell_type": "markdown",
   "metadata": {},
   "source": [
    "### 테이블 생성하기"
   ]
  },
  {
   "cell_type": "code",
   "execution_count": 144,
   "metadata": {},
   "outputs": [],
   "source": [
    "def init_db_connection():\n",
    "    connection = pymysql.connect(\n",
    "        host=\"localhost\",\n",
    "        port=3306,\n",
    "        user=\"root\",\n",
    "        password=\"root\",\n",
    "        database=\"address\",\n",
    "        cursorclass=pymysql.cursors.DictCursor,\n",
    "        charset=\"utf8\",\n",
    "        local_infile=True\n",
    "    )\n",
    "    return connection\n",
    "\n",
    "def query_get(sql):\n",
    "    connection = init_db_connection()\n",
    "    with connection:\n",
    "        with connection.cursor() as cursor:\n",
    "            cursor.execute(sql)\n",
    "            return cursor.fetchall()\n",
    "\n",
    "def query_update(sql):\n",
    "    connection = init_db_connection()\n",
    "    with connection:\n",
    "        with connection.cursor() as cursor:\n",
    "            cursor.execute(sql)\n",
    "            connection.commit()\n",
    "            return True"
   ]
  },
  {
   "cell_type": "code",
   "execution_count": 160,
   "metadata": {},
   "outputs": [
    {
     "data": {
      "text/plain": [
       "True"
      ]
     },
     "execution_count": 160,
     "metadata": {},
     "output_type": "execute_result"
    }
   ],
   "source": [
    "sql = '''\n",
    "    CREATE TABLE `rnaddrkor` (\n",
    "        `도로명주소관리번호` varchar(26) NOT NULL,\n",
    "        `법정동코드` varchar(10),\n",
    "        `시도명` varchar(40),\n",
    "        `시군구명` varchar(40),\n",
    "        `읍면동명` varchar(40),\n",
    "        `리명` varchar(40),\n",
    "        `산여부` varchar(1),\n",
    "        `번지` varchar(4),\n",
    "        `호` varchar(4),\n",
    "        `도로명코드` varchar(12) NOT NULL,\n",
    "        `도로명` varchar(80),\n",
    "        `지하여부` varchar(1) NOT NULL,\n",
    "        `건물본번` int(5) ZEROFILL NOT NULL,\n",
    "        `건물부번` int(5) ZEROFILL NOT NULL,\n",
    "        `행정동코드` varchar(60),\n",
    "        `행정동명` varchar(60),\n",
    "        `기초구역번호(우편번호)` varchar(5),\n",
    "        `이전도로명주소` varchar(400),\n",
    "        `효력발생일` varchar(8),\n",
    "        `공동주택구분` varchar(1),\n",
    "        `이동사유코드` varchar(2),\n",
    "        `건축물대장건물명` varchar(400),\n",
    "        `시군구용건물명` varchar(400),\n",
    "        `비고` varchar(200),\n",
    "        PRIMARY KEY (`도로명주소관리번호`, `도로명코드`, `지하여부`, `건물본번`, `건물부번`)\n",
    "    );\n",
    "'''\n",
    "\n",
    "query_update(sql)"
   ]
  },
  {
   "cell_type": "code",
   "execution_count": 161,
   "metadata": {},
   "outputs": [
    {
     "data": {
      "text/plain": [
       "True"
      ]
     },
     "execution_count": 161,
     "metadata": {},
     "output_type": "execute_result"
    }
   ],
   "source": [
    "sql = '''\n",
    "    CREATE TABLE `rnaddrkor_jibun` (\n",
    "        `도로명주소관리번호` varchar(26) NOT NULL,\n",
    "        `법정동코드` varchar(10) NOT NULL,\n",
    "        `시도명` varchar(40),\n",
    "        `시군구명` varchar(40),\n",
    "        `법정읍면동명` varchar(40),\n",
    "        `법정리명` varchar(40),\n",
    "        `산여부` varchar(1) NOT NULL,\n",
    "        `지번본번(번지)` int(4) ZEROFILL NOT NULL,\n",
    "        `지번부번(호)` int(4) ZEROFILL NOT NULL,\n",
    "        `도로명코드` varchar(12),\n",
    "        `지하여부` varchar(1),\n",
    "        `건물본번` int(5),\n",
    "        `건물부번` int(5),\n",
    "        `이동사유코드` varchar(2),\n",
    "        PRIMARY KEY (`도로명주소관리번호`, `법정동코드`, `산여부`, `지번본번(번지)`, `지번부번(호)`)\n",
    "    );\n",
    "'''\n",
    "\n",
    "query_update(sql)"
   ]
  },
  {
   "cell_type": "code",
   "execution_count": 162,
   "metadata": {},
   "outputs": [
    {
     "data": {
      "text/plain": [
       "[{'Tables_in_address': 'rnaddrkor'}, {'Tables_in_address': 'rnaddrkor_jibun'}]"
      ]
     },
     "execution_count": 162,
     "metadata": {},
     "output_type": "execute_result"
    }
   ],
   "source": [
    "query_get(\"SHOW TABLES;\")"
   ]
  },
  {
   "cell_type": "code",
   "execution_count": 163,
   "metadata": {},
   "outputs": [
    {
     "data": {
      "text/plain": [
       "[{'Field': '도로명주소관리번호',\n",
       "  'Type': 'varchar(26)',\n",
       "  'Null': 'NO',\n",
       "  'Key': 'PRI',\n",
       "  'Default': None,\n",
       "  'Extra': ''},\n",
       " {'Field': '법정동코드',\n",
       "  'Type': 'varchar(10)',\n",
       "  'Null': 'YES',\n",
       "  'Key': '',\n",
       "  'Default': None,\n",
       "  'Extra': ''},\n",
       " {'Field': '시도명',\n",
       "  'Type': 'varchar(40)',\n",
       "  'Null': 'YES',\n",
       "  'Key': '',\n",
       "  'Default': None,\n",
       "  'Extra': ''},\n",
       " {'Field': '시군구명',\n",
       "  'Type': 'varchar(40)',\n",
       "  'Null': 'YES',\n",
       "  'Key': '',\n",
       "  'Default': None,\n",
       "  'Extra': ''},\n",
       " {'Field': '읍면동명',\n",
       "  'Type': 'varchar(40)',\n",
       "  'Null': 'YES',\n",
       "  'Key': '',\n",
       "  'Default': None,\n",
       "  'Extra': ''},\n",
       " {'Field': '리명',\n",
       "  'Type': 'varchar(40)',\n",
       "  'Null': 'YES',\n",
       "  'Key': '',\n",
       "  'Default': None,\n",
       "  'Extra': ''},\n",
       " {'Field': '산여부',\n",
       "  'Type': 'varchar(1)',\n",
       "  'Null': 'YES',\n",
       "  'Key': '',\n",
       "  'Default': None,\n",
       "  'Extra': ''},\n",
       " {'Field': '번지',\n",
       "  'Type': 'varchar(4)',\n",
       "  'Null': 'YES',\n",
       "  'Key': '',\n",
       "  'Default': None,\n",
       "  'Extra': ''},\n",
       " {'Field': '호',\n",
       "  'Type': 'varchar(4)',\n",
       "  'Null': 'YES',\n",
       "  'Key': '',\n",
       "  'Default': None,\n",
       "  'Extra': ''},\n",
       " {'Field': '도로명코드',\n",
       "  'Type': 'varchar(12)',\n",
       "  'Null': 'NO',\n",
       "  'Key': 'PRI',\n",
       "  'Default': None,\n",
       "  'Extra': ''},\n",
       " {'Field': '도로명',\n",
       "  'Type': 'varchar(80)',\n",
       "  'Null': 'YES',\n",
       "  'Key': '',\n",
       "  'Default': None,\n",
       "  'Extra': ''},\n",
       " {'Field': '지하여부',\n",
       "  'Type': 'varchar(1)',\n",
       "  'Null': 'NO',\n",
       "  'Key': 'PRI',\n",
       "  'Default': None,\n",
       "  'Extra': ''},\n",
       " {'Field': '건물본번',\n",
       "  'Type': 'int(5) unsigned zerofill',\n",
       "  'Null': 'NO',\n",
       "  'Key': 'PRI',\n",
       "  'Default': None,\n",
       "  'Extra': ''},\n",
       " {'Field': '건물부번',\n",
       "  'Type': 'int(5) unsigned zerofill',\n",
       "  'Null': 'NO',\n",
       "  'Key': 'PRI',\n",
       "  'Default': None,\n",
       "  'Extra': ''},\n",
       " {'Field': '행정동코드',\n",
       "  'Type': 'varchar(60)',\n",
       "  'Null': 'YES',\n",
       "  'Key': '',\n",
       "  'Default': None,\n",
       "  'Extra': ''},\n",
       " {'Field': '행정동명',\n",
       "  'Type': 'varchar(60)',\n",
       "  'Null': 'YES',\n",
       "  'Key': '',\n",
       "  'Default': None,\n",
       "  'Extra': ''},\n",
       " {'Field': '기초구역번호(우편번호)',\n",
       "  'Type': 'varchar(5)',\n",
       "  'Null': 'YES',\n",
       "  'Key': '',\n",
       "  'Default': None,\n",
       "  'Extra': ''},\n",
       " {'Field': '이전도로명주소',\n",
       "  'Type': 'varchar(400)',\n",
       "  'Null': 'YES',\n",
       "  'Key': '',\n",
       "  'Default': None,\n",
       "  'Extra': ''},\n",
       " {'Field': '효력발생일',\n",
       "  'Type': 'varchar(8)',\n",
       "  'Null': 'YES',\n",
       "  'Key': '',\n",
       "  'Default': None,\n",
       "  'Extra': ''},\n",
       " {'Field': '공동주택구분',\n",
       "  'Type': 'varchar(1)',\n",
       "  'Null': 'YES',\n",
       "  'Key': '',\n",
       "  'Default': None,\n",
       "  'Extra': ''},\n",
       " {'Field': '이동사유코드',\n",
       "  'Type': 'varchar(2)',\n",
       "  'Null': 'YES',\n",
       "  'Key': '',\n",
       "  'Default': None,\n",
       "  'Extra': ''},\n",
       " {'Field': '건축물대장건물명',\n",
       "  'Type': 'varchar(400)',\n",
       "  'Null': 'YES',\n",
       "  'Key': '',\n",
       "  'Default': None,\n",
       "  'Extra': ''},\n",
       " {'Field': '시군구용건물명',\n",
       "  'Type': 'varchar(400)',\n",
       "  'Null': 'YES',\n",
       "  'Key': '',\n",
       "  'Default': None,\n",
       "  'Extra': ''},\n",
       " {'Field': '비고',\n",
       "  'Type': 'varchar(200)',\n",
       "  'Null': 'YES',\n",
       "  'Key': '',\n",
       "  'Default': None,\n",
       "  'Extra': ''}]"
      ]
     },
     "execution_count": 163,
     "metadata": {},
     "output_type": "execute_result"
    }
   ],
   "source": [
    "query_get(\"DESC rnaddrkor;\")"
   ]
  },
  {
   "cell_type": "markdown",
   "metadata": {},
   "source": [
    "## 6.5 데이터 삽입하기"
   ]
  },
  {
   "cell_type": "markdown",
   "metadata": {},
   "source": [
    "### local infile 허용하기"
   ]
  },
  {
   "cell_type": "code",
   "execution_count": 164,
   "metadata": {},
   "outputs": [],
   "source": [
    "def init_db_connection():\n",
    "    connection = pymysql.connect(\n",
    "        host=\"localhost\",\n",
    "        port=3306,\n",
    "        user=\"root\",\n",
    "        password=\"root\",\n",
    "        database=\"address\",\n",
    "        cursorclass=pymysql.cursors.DictCursor,\n",
    "        charset=\"utf8\",\n",
    "        local_infile=True # 클라이언스 상에서 조건 추가\n",
    "    )\n",
    "    return connection"
   ]
  },
  {
   "cell_type": "markdown",
   "metadata": {},
   "source": [
    "### 데이터 경로 확인하기"
   ]
  },
  {
   "cell_type": "code",
   "execution_count": 165,
   "metadata": {},
   "outputs": [
    {
     "name": "stdout",
     "output_type": "stream",
     "text": [
      "data/rnaddrkor/rnaddrkor_sejong.txt\n",
      "data/rnaddrkor/rnaddrkor_jeonnam.txt\n",
      "data/rnaddrkor/rnaddrkor_seoul.txt\n",
      "data/rnaddrkor/rnaddrkor_ulsan.txt\n",
      "data/rnaddrkor/rnaddrkor_gyeongnam.txt\n",
      "data/rnaddrkor/rnaddrkor_incheon.txt\n",
      "data/rnaddrkor/rnaddrkor_chungnam.txt\n",
      "data/rnaddrkor/rnaddrkor_daejeon.txt\n",
      "data/rnaddrkor/rnaddrkor_daegu.txt\n",
      "data/rnaddrkor/rnaddrkor_chungbuk.txt\n",
      "data/rnaddrkor/rnaddrkor_gangwon.txt\n",
      "data/rnaddrkor/rnaddrkor_gyunggi.txt\n",
      "data/rnaddrkor/rnaddrkor_gwangju.txt\n",
      "data/rnaddrkor/rnaddrkor_jeju.txt\n",
      "data/rnaddrkor/rnaddrkor_busan.txt\n",
      "data/rnaddrkor/rnaddrkor_gyeongbuk.txt\n",
      "data/rnaddrkor/rnaddrkor_jeonbuk.txt\n"
     ]
    }
   ],
   "source": [
    "import glob\n",
    "\n",
    "file_list = glob.glob(\"data/rnaddrkor/rnaddrkor_*.txt\")\n",
    "\n",
    "for file in file_list:\n",
    "    print(file)"
   ]
  },
  {
   "cell_type": "markdown",
   "metadata": {},
   "source": [
    "### 데이터 업로드하기\n",
    "\n",
    "#### 도로명주소 업로드하기"
   ]
  },
  {
   "cell_type": "code",
   "execution_count": 167,
   "metadata": {},
   "outputs": [
    {
     "name": "stderr",
     "output_type": "stream",
     "text": [
      "Processing files:   0%|          | 0/17 [00:00<?, ?it/s]"
     ]
    },
    {
     "name": "stdout",
     "output_type": "stream",
     "text": [
      "Processing file: /Users/harampark/Desktop/labs/3.study/address-using-guide/code/chapter-6/data/rnaddrkor/rnaddrkor_sejong.txt, Number of lines: 27510\n"
     ]
    },
    {
     "name": "stderr",
     "output_type": "stream",
     "text": [
      "Processing files:   6%|▌         | 1/17 [00:00<00:10,  1.49it/s]"
     ]
    },
    {
     "name": "stdout",
     "output_type": "stream",
     "text": [
      "Processing file: /Users/harampark/Desktop/labs/3.study/address-using-guide/code/chapter-6/data/rnaddrkor/rnaddrkor_jeonnam.txt, Number of lines: 598298\n"
     ]
    },
    {
     "name": "stderr",
     "output_type": "stream",
     "text": [
      "Processing files:  12%|█▏        | 2/17 [00:10<01:34,  6.29s/it]"
     ]
    },
    {
     "name": "stdout",
     "output_type": "stream",
     "text": [
      "Processing file: /Users/harampark/Desktop/labs/3.study/address-using-guide/code/chapter-6/data/rnaddrkor/rnaddrkor_seoul.txt, Number of lines: 530721\n"
     ]
    },
    {
     "name": "stderr",
     "output_type": "stream",
     "text": [
      "Processing files:  18%|█▊        | 3/17 [00:18<01:34,  6.72s/it]"
     ]
    },
    {
     "name": "stdout",
     "output_type": "stream",
     "text": [
      "Processing file: /Users/harampark/Desktop/labs/3.study/address-using-guide/code/chapter-6/data/rnaddrkor/rnaddrkor_ulsan.txt, Number of lines: 104458\n"
     ]
    },
    {
     "name": "stderr",
     "output_type": "stream",
     "text": [
      "Processing files:  24%|██▎       | 4/17 [00:19<01:01,  4.69s/it]"
     ]
    },
    {
     "name": "stdout",
     "output_type": "stream",
     "text": [
      "Processing file: /Users/harampark/Desktop/labs/3.study/address-using-guide/code/chapter-6/data/rnaddrkor/rnaddrkor_gyeongnam.txt, Number of lines: 653480\n"
     ]
    },
    {
     "name": "stderr",
     "output_type": "stream",
     "text": [
      "Processing files:  29%|██▉       | 5/17 [00:29<01:17,  6.46s/it]"
     ]
    },
    {
     "name": "stdout",
     "output_type": "stream",
     "text": [
      "Processing file: /Users/harampark/Desktop/labs/3.study/address-using-guide/code/chapter-6/data/rnaddrkor/rnaddrkor_incheon.txt, Number of lines: 186039\n"
     ]
    },
    {
     "name": "stderr",
     "output_type": "stream",
     "text": [
      "Processing files:  35%|███▌      | 6/17 [00:31<00:55,  5.07s/it]"
     ]
    },
    {
     "name": "stdout",
     "output_type": "stream",
     "text": [
      "Processing file: /Users/harampark/Desktop/labs/3.study/address-using-guide/code/chapter-6/data/rnaddrkor/rnaddrkor_chungnam.txt, Number of lines: 491608\n"
     ]
    },
    {
     "name": "stderr",
     "output_type": "stream",
     "text": [
      "Processing files:  41%|████      | 7/17 [00:40<01:02,  6.25s/it]"
     ]
    },
    {
     "name": "stdout",
     "output_type": "stream",
     "text": [
      "Processing file: /Users/harampark/Desktop/labs/3.study/address-using-guide/code/chapter-6/data/rnaddrkor/rnaddrkor_daejeon.txt, Number of lines: 114026\n"
     ]
    },
    {
     "name": "stderr",
     "output_type": "stream",
     "text": [
      "Processing files:  47%|████▋     | 8/17 [00:42<00:43,  4.86s/it]"
     ]
    },
    {
     "name": "stdout",
     "output_type": "stream",
     "text": [
      "Processing file: /Users/harampark/Desktop/labs/3.study/address-using-guide/code/chapter-6/data/rnaddrkor/rnaddrkor_daegu.txt, Number of lines: 229727\n"
     ]
    },
    {
     "name": "stderr",
     "output_type": "stream",
     "text": [
      "Processing files:  53%|█████▎    | 9/17 [00:45<00:34,  4.35s/it]"
     ]
    },
    {
     "name": "stdout",
     "output_type": "stream",
     "text": [
      "Processing file: /Users/harampark/Desktop/labs/3.study/address-using-guide/code/chapter-6/data/rnaddrkor/rnaddrkor_chungbuk.txt, Number of lines: 335225\n"
     ]
    },
    {
     "name": "stderr",
     "output_type": "stream",
     "text": [
      "Processing files:  59%|█████▉    | 10/17 [00:51<00:33,  4.73s/it]"
     ]
    },
    {
     "name": "stdout",
     "output_type": "stream",
     "text": [
      "Processing file: /Users/harampark/Desktop/labs/3.study/address-using-guide/code/chapter-6/data/rnaddrkor/rnaddrkor_gangwon.txt, Number of lines: 364686\n"
     ]
    },
    {
     "name": "stderr",
     "output_type": "stream",
     "text": [
      "Processing files:  65%|██████▍   | 11/17 [00:56<00:29,  4.96s/it]"
     ]
    },
    {
     "name": "stdout",
     "output_type": "stream",
     "text": [
      "Processing file: /Users/harampark/Desktop/labs/3.study/address-using-guide/code/chapter-6/data/rnaddrkor/rnaddrkor_gyunggi.txt, Number of lines: 1020563\n"
     ]
    },
    {
     "name": "stderr",
     "output_type": "stream",
     "text": [
      "Processing files:  71%|███████   | 12/17 [01:18<00:51, 10.22s/it]"
     ]
    },
    {
     "name": "stdout",
     "output_type": "stream",
     "text": [
      "Processing file: /Users/harampark/Desktop/labs/3.study/address-using-guide/code/chapter-6/data/rnaddrkor/rnaddrkor_gwangju.txt, Number of lines: 120474\n"
     ]
    },
    {
     "name": "stderr",
     "output_type": "stream",
     "text": [
      "Processing files:  76%|███████▋  | 13/17 [01:20<00:30,  7.67s/it]"
     ]
    },
    {
     "name": "stdout",
     "output_type": "stream",
     "text": [
      "Processing file: /Users/harampark/Desktop/labs/3.study/address-using-guide/code/chapter-6/data/rnaddrkor/rnaddrkor_jeju.txt, Number of lines: 155426\n"
     ]
    },
    {
     "name": "stderr",
     "output_type": "stream",
     "text": [
      "Processing files:  82%|████████▏ | 14/17 [01:22<00:17,  5.96s/it]"
     ]
    },
    {
     "name": "stdout",
     "output_type": "stream",
     "text": [
      "Processing file: /Users/harampark/Desktop/labs/3.study/address-using-guide/code/chapter-6/data/rnaddrkor/rnaddrkor_busan.txt, Number of lines: 301822\n"
     ]
    },
    {
     "name": "stderr",
     "output_type": "stream",
     "text": [
      "Processing files:  88%|████████▊ | 15/17 [01:26<00:10,  5.34s/it]"
     ]
    },
    {
     "name": "stdout",
     "output_type": "stream",
     "text": [
      "Processing file: /Users/harampark/Desktop/labs/3.study/address-using-guide/code/chapter-6/data/rnaddrkor/rnaddrkor_gyeongbuk.txt, Number of lines: 713862\n"
     ]
    },
    {
     "name": "stderr",
     "output_type": "stream",
     "text": [
      "Processing files:  94%|█████████▍| 16/17 [01:37<00:07,  7.06s/it]"
     ]
    },
    {
     "name": "stdout",
     "output_type": "stream",
     "text": [
      "Processing file: /Users/harampark/Desktop/labs/3.study/address-using-guide/code/chapter-6/data/rnaddrkor/rnaddrkor_jeonbuk.txt, Number of lines: 437063\n"
     ]
    },
    {
     "name": "stderr",
     "output_type": "stream",
     "text": [
      "Processing files: 100%|██████████| 17/17 [01:43<00:00,  6.12s/it]"
     ]
    },
    {
     "name": "stdout",
     "output_type": "stream",
     "text": [
      "Total number of lines: 6384988\n"
     ]
    },
    {
     "name": "stderr",
     "output_type": "stream",
     "text": [
      "\n"
     ]
    }
   ],
   "source": [
    "import os\n",
    "from tqdm import tqdm\n",
    "\n",
    "total_line_count = 0  # 총 행수를 저장할 변수\n",
    "\n",
    "for file in tqdm(file_list, desc='Processing files'):\n",
    "    file_path = os.path.abspath(file)\n",
    "\n",
    "    # cp949로 파일 읽고 행 불러오기\n",
    "    with open(file_path, 'r', encoding='cp949', errors='ignore') as f:\n",
    "        lines = f.readlines()\n",
    "    \n",
    "    # 행 수 계산\n",
    "    line_count = len(lines)\n",
    "    \n",
    "    # 총 행 수에 더하기\n",
    "    total_line_count += line_count\n",
    "\n",
    "    # cp949로 읽은 파일을 utf8로 임시파일에 저장\n",
    "    temp_file_path = \"temp_file.txt\"\n",
    "    with open(temp_file_path, 'w', encoding='utf8') as f:\n",
    "        f.writelines(lines)\n",
    "\n",
    "    sql = f'''\n",
    "        LOAD DATA LOCAL INFILE \"{temp_file_path}\" INTO TABLE rnaddrkor\n",
    "        FIELDS TERMINATED BY \"|\";\n",
    "    '''\n",
    "    print(f\"Processing file: {file_path}, Number of lines: {line_count}\")\n",
    "    query_put(sql)\n",
    "\n",
    "    # 임시파일 삭제\n",
    "    os.remove(temp_file_path)\n",
    "\n",
    "print(f\"Total number of lines: {total_line_count}\")"
   ]
  },
  {
   "cell_type": "code",
   "execution_count": 169,
   "metadata": {},
   "outputs": [
    {
     "data": {
      "text/plain": [
       "[{'도로명주소관리번호': '11110101310001200009400000',\n",
       "  '법정동코드': '1111010100',\n",
       "  '시도명': '서울특별시',\n",
       "  '시군구명': '종로구',\n",
       "  '읍면동명': '청운동',\n",
       "  '리명': '',\n",
       "  '산여부': '0',\n",
       "  '번지': '144',\n",
       "  '호': '3',\n",
       "  '도로명코드': '111103100012',\n",
       "  '도로명': '자하문로',\n",
       "  '지하여부': '0',\n",
       "  '건물본번': 94,\n",
       "  '건물부번': 0,\n",
       "  '행정동코드': '1111051500',\n",
       "  '행정동명': '청운효자동',\n",
       "  '기초구역번호(우편번호)': '03047',\n",
       "  '이전도로명주소': '',\n",
       "  '효력발생일': '20110729',\n",
       "  '공동주택구분': '0',\n",
       "  '이동사유코드': '',\n",
       "  '건축물대장건물명': '',\n",
       "  '시군구용건물명': '',\n",
       "  '비고': ''},\n",
       " {'도로명주소관리번호': '11110101310001200009600000',\n",
       "  '법정동코드': '1111010100',\n",
       "  '시도명': '서울특별시',\n",
       "  '시군구명': '종로구',\n",
       "  '읍면동명': '청운동',\n",
       "  '리명': '',\n",
       "  '산여부': '0',\n",
       "  '번지': '108',\n",
       "  '호': '14',\n",
       "  '도로명코드': '111103100012',\n",
       "  '도로명': '자하문로',\n",
       "  '지하여부': '0',\n",
       "  '건물본번': 96,\n",
       "  '건물부번': 0,\n",
       "  '행정동코드': '1111051500',\n",
       "  '행정동명': '청운효자동',\n",
       "  '기초구역번호(우편번호)': '03047',\n",
       "  '이전도로명주소': '',\n",
       "  '효력발생일': '20110729',\n",
       "  '공동주택구분': '1',\n",
       "  '이동사유코드': '',\n",
       "  '건축물대장건물명': '',\n",
       "  '시군구용건물명': '평안빌',\n",
       "  '비고': ''},\n",
       " {'도로명주소관리번호': '11110101310001200009800000',\n",
       "  '법정동코드': '1111010100',\n",
       "  '시도명': '서울특별시',\n",
       "  '시군구명': '종로구',\n",
       "  '읍면동명': '청운동',\n",
       "  '리명': '',\n",
       "  '산여부': '0',\n",
       "  '번지': '108',\n",
       "  '호': '13',\n",
       "  '도로명코드': '111103100012',\n",
       "  '도로명': '자하문로',\n",
       "  '지하여부': '0',\n",
       "  '건물본번': 98,\n",
       "  '건물부번': 0,\n",
       "  '행정동코드': '1111051500',\n",
       "  '행정동명': '청운효자동',\n",
       "  '기초구역번호(우편번호)': '03047',\n",
       "  '이전도로명주소': '',\n",
       "  '효력발생일': '20110729',\n",
       "  '공동주택구분': '1',\n",
       "  '이동사유코드': '',\n",
       "  '건축물대장건물명': '',\n",
       "  '시군구용건물명': '청운빌라',\n",
       "  '비고': ''},\n",
       " {'도로명주소관리번호': '11110101310001200009900003',\n",
       "  '법정동코드': '1111010100',\n",
       "  '시도명': '서울특별시',\n",
       "  '시군구명': '종로구',\n",
       "  '읍면동명': '청운동',\n",
       "  '리명': '',\n",
       "  '산여부': '0',\n",
       "  '번지': '134',\n",
       "  '호': '2',\n",
       "  '도로명코드': '111103100012',\n",
       "  '도로명': '자하문로',\n",
       "  '지하여부': '0',\n",
       "  '건물본번': 99,\n",
       "  '건물부번': 3,\n",
       "  '행정동코드': '1111051500',\n",
       "  '행정동명': '청운효자동',\n",
       "  '기초구역번호(우편번호)': '03032',\n",
       "  '이전도로명주소': '',\n",
       "  '효력발생일': '20110729',\n",
       "  '공동주택구분': '1',\n",
       "  '이동사유코드': '',\n",
       "  '건축물대장건물명': '풍림팍사이드빌라',\n",
       "  '시군구용건물명': '풍림팍사이드빌라',\n",
       "  '비고': ''},\n",
       " {'도로명주소관리번호': '11110101310001200009900004',\n",
       "  '법정동코드': '1111010100',\n",
       "  '시도명': '서울특별시',\n",
       "  '시군구명': '종로구',\n",
       "  '읍면동명': '청운동',\n",
       "  '리명': '',\n",
       "  '산여부': '0',\n",
       "  '번지': '130',\n",
       "  '호': '2',\n",
       "  '도로명코드': '111103100012',\n",
       "  '도로명': '자하문로',\n",
       "  '지하여부': '0',\n",
       "  '건물본번': 99,\n",
       "  '건물부번': 4,\n",
       "  '행정동코드': '1111051500',\n",
       "  '행정동명': '청운효자동',\n",
       "  '기초구역번호(우편번호)': '03032',\n",
       "  '이전도로명주소': '',\n",
       "  '효력발생일': '20110729',\n",
       "  '공동주택구분': '0',\n",
       "  '이동사유코드': '',\n",
       "  '건축물대장건물명': '',\n",
       "  '시군구용건물명': '경복빌라',\n",
       "  '비고': ''}]"
      ]
     },
     "execution_count": 169,
     "metadata": {},
     "output_type": "execute_result"
    }
   ],
   "source": [
    "sql = \"SELECT * FROM rnaddrkor LIMIT 5;\"\n",
    "query_get(sql)"
   ]
  },
  {
   "cell_type": "code",
   "execution_count": 168,
   "metadata": {},
   "outputs": [
    {
     "data": {
      "text/plain": [
       "[{'COUNT(*)': 6384988}]"
      ]
     },
     "execution_count": 168,
     "metadata": {},
     "output_type": "execute_result"
    }
   ],
   "source": [
    "sql = \"SELECT COUNT(*) FROM rnaddrkor;\"\n",
    "query_get(sql)"
   ]
  },
  {
   "cell_type": "markdown",
   "metadata": {},
   "source": [
    "#### 지번주소 업로드하기"
   ]
  },
  {
   "cell_type": "code",
   "execution_count": 170,
   "metadata": {},
   "outputs": [
    {
     "name": "stdout",
     "output_type": "stream",
     "text": [
      "data/rnaddrkor/jibun_rnaddrkor_daegu.txt\n",
      "data/rnaddrkor/jibun_rnaddrkor_jeju.txt\n",
      "data/rnaddrkor/jibun_rnaddrkor_chungbuk.txt\n",
      "data/rnaddrkor/jibun_rnaddrkor_gyunggi.txt\n",
      "data/rnaddrkor/jibun_rnaddrkor_gwangju.txt\n",
      "data/rnaddrkor/jibun_rnaddrkor_gangwon.txt\n",
      "data/rnaddrkor/jibun_rnaddrkor_gyeongbuk.txt\n",
      "data/rnaddrkor/jibun_rnaddrkor_jeonbuk.txt\n",
      "data/rnaddrkor/jibun_rnaddrkor_ulsan.txt\n",
      "data/rnaddrkor/jibun_rnaddrkor_seoul.txt\n",
      "data/rnaddrkor/jibun_rnaddrkor_gyeongnam.txt\n",
      "data/rnaddrkor/jibun_rnaddrkor_jeonnam.txt\n",
      "data/rnaddrkor/jibun_rnaddrkor_busan.txt\n",
      "data/rnaddrkor/jibun_rnaddrkor_incheon.txt\n",
      "data/rnaddrkor/jibun_rnaddrkor_chungnam.txt\n",
      "data/rnaddrkor/jibun_rnaddrkor_sejong.txt\n",
      "data/rnaddrkor/jibun_rnaddrkor_daejeon.txt\n"
     ]
    }
   ],
   "source": [
    "import glob\n",
    "\n",
    "file_list = glob.glob(\"data/rnaddrkor/jibun_*.txt\")\n",
    "\n",
    "for file in file_list:\n",
    "    print(file)"
   ]
  },
  {
   "cell_type": "code",
   "execution_count": 172,
   "metadata": {},
   "outputs": [
    {
     "name": "stderr",
     "output_type": "stream",
     "text": [
      "Processing files:   0%|          | 0/17 [00:00<?, ?it/s]"
     ]
    },
    {
     "name": "stdout",
     "output_type": "stream",
     "text": [
      "Processing file: /Users/harampark/Desktop/labs/3.study/address-using-guide/code/chapter-6/data/rnaddrkor/jibun_rnaddrkor_daegu.txt, Number of lines: 28049\n"
     ]
    },
    {
     "name": "stderr",
     "output_type": "stream",
     "text": [
      "Processing files:   6%|▌         | 1/17 [00:00<00:08,  1.92it/s]"
     ]
    },
    {
     "name": "stdout",
     "output_type": "stream",
     "text": [
      "Processing file: /Users/harampark/Desktop/labs/3.study/address-using-guide/code/chapter-6/data/rnaddrkor/jibun_rnaddrkor_jeju.txt, Number of lines: 19240\n"
     ]
    },
    {
     "name": "stderr",
     "output_type": "stream",
     "text": [
      "Processing files:  12%|█▏        | 2/17 [00:00<00:05,  2.91it/s]"
     ]
    },
    {
     "name": "stdout",
     "output_type": "stream",
     "text": [
      "Processing file: /Users/harampark/Desktop/labs/3.study/address-using-guide/code/chapter-6/data/rnaddrkor/jibun_rnaddrkor_chungbuk.txt, Number of lines: 84792\n"
     ]
    },
    {
     "name": "stderr",
     "output_type": "stream",
     "text": [
      "Processing files:  18%|█▊        | 3/17 [00:01<00:08,  1.67it/s]"
     ]
    },
    {
     "name": "stdout",
     "output_type": "stream",
     "text": [
      "Processing file: /Users/harampark/Desktop/labs/3.study/address-using-guide/code/chapter-6/data/rnaddrkor/jibun_rnaddrkor_gyunggi.txt, Number of lines: 285178\n"
     ]
    },
    {
     "name": "stderr",
     "output_type": "stream",
     "text": [
      "Processing files:  29%|██▉       | 5/17 [00:05<00:13,  1.16s/it]"
     ]
    },
    {
     "name": "stdout",
     "output_type": "stream",
     "text": [
      "Processing file: /Users/harampark/Desktop/labs/3.study/address-using-guide/code/chapter-6/data/rnaddrkor/jibun_rnaddrkor_gwangju.txt, Number of lines: 17851\n",
      "Processing file: /Users/harampark/Desktop/labs/3.study/address-using-guide/code/chapter-6/data/rnaddrkor/jibun_rnaddrkor_gangwon.txt, Number of lines: 178859\n"
     ]
    },
    {
     "name": "stderr",
     "output_type": "stream",
     "text": [
      "Processing files:  35%|███▌      | 6/17 [00:07<00:17,  1.58s/it]"
     ]
    },
    {
     "name": "stdout",
     "output_type": "stream",
     "text": [
      "Processing file: /Users/harampark/Desktop/labs/3.study/address-using-guide/code/chapter-6/data/rnaddrkor/jibun_rnaddrkor_gyeongbuk.txt, Number of lines: 143788\n"
     ]
    },
    {
     "name": "stderr",
     "output_type": "stream",
     "text": [
      "Processing files:  41%|████      | 7/17 [00:09<00:17,  1.80s/it]"
     ]
    },
    {
     "name": "stdout",
     "output_type": "stream",
     "text": [
      "Processing file: /Users/harampark/Desktop/labs/3.study/address-using-guide/code/chapter-6/data/rnaddrkor/jibun_rnaddrkor_jeonbuk.txt, Number of lines: 114937\n"
     ]
    },
    {
     "name": "stderr",
     "output_type": "stream",
     "text": [
      "Processing files:  47%|████▋     | 8/17 [00:11<00:15,  1.71s/it]"
     ]
    },
    {
     "name": "stdout",
     "output_type": "stream",
     "text": [
      "Processing file: /Users/harampark/Desktop/labs/3.study/address-using-guide/code/chapter-6/data/rnaddrkor/jibun_rnaddrkor_ulsan.txt, Number of lines: 18629\n"
     ]
    },
    {
     "name": "stderr",
     "output_type": "stream",
     "text": [
      "Processing files:  53%|█████▎    | 9/17 [00:11<00:10,  1.25s/it]"
     ]
    },
    {
     "name": "stdout",
     "output_type": "stream",
     "text": [
      "Processing file: /Users/harampark/Desktop/labs/3.study/address-using-guide/code/chapter-6/data/rnaddrkor/jibun_rnaddrkor_seoul.txt, Number of lines: 86986\n"
     ]
    },
    {
     "name": "stderr",
     "output_type": "stream",
     "text": [
      "Processing files:  59%|█████▉    | 10/17 [00:12<00:08,  1.19s/it]"
     ]
    },
    {
     "name": "stdout",
     "output_type": "stream",
     "text": [
      "Processing file: /Users/harampark/Desktop/labs/3.study/address-using-guide/code/chapter-6/data/rnaddrkor/jibun_rnaddrkor_gyeongnam.txt, Number of lines: 300283\n"
     ]
    },
    {
     "name": "stderr",
     "output_type": "stream",
     "text": [
      "Processing files:  65%|██████▍   | 11/17 [00:17<00:13,  2.21s/it]"
     ]
    },
    {
     "name": "stdout",
     "output_type": "stream",
     "text": [
      "Processing file: /Users/harampark/Desktop/labs/3.study/address-using-guide/code/chapter-6/data/rnaddrkor/jibun_rnaddrkor_jeonnam.txt, Number of lines: 308309\n"
     ]
    },
    {
     "name": "stderr",
     "output_type": "stream",
     "text": [
      "Processing files:  71%|███████   | 12/17 [00:21<00:13,  2.77s/it]"
     ]
    },
    {
     "name": "stdout",
     "output_type": "stream",
     "text": [
      "Processing file: /Users/harampark/Desktop/labs/3.study/address-using-guide/code/chapter-6/data/rnaddrkor/jibun_rnaddrkor_busan.txt, Number of lines: 42193\n"
     ]
    },
    {
     "name": "stderr",
     "output_type": "stream",
     "text": [
      "Processing files:  76%|███████▋  | 13/17 [00:22<00:09,  2.34s/it]"
     ]
    },
    {
     "name": "stdout",
     "output_type": "stream",
     "text": [
      "Processing file: /Users/harampark/Desktop/labs/3.study/address-using-guide/code/chapter-6/data/rnaddrkor/jibun_rnaddrkor_incheon.txt, Number of lines: 31745\n"
     ]
    },
    {
     "name": "stderr",
     "output_type": "stream",
     "text": [
      "Processing files:  82%|████████▏ | 14/17 [00:23<00:05,  1.77s/it]"
     ]
    },
    {
     "name": "stdout",
     "output_type": "stream",
     "text": [
      "Processing file: /Users/harampark/Desktop/labs/3.study/address-using-guide/code/chapter-6/data/rnaddrkor/jibun_rnaddrkor_chungnam.txt, Number of lines: 186499\n"
     ]
    },
    {
     "name": "stderr",
     "output_type": "stream",
     "text": [
      "Processing files:  88%|████████▊ | 15/17 [00:25<00:03,  1.92s/it]"
     ]
    },
    {
     "name": "stdout",
     "output_type": "stream",
     "text": [
      "Processing file: /Users/harampark/Desktop/labs/3.study/address-using-guide/code/chapter-6/data/rnaddrkor/jibun_rnaddrkor_sejong.txt, Number of lines: 5327\n",
      "Processing file: /Users/harampark/Desktop/labs/3.study/address-using-guide/code/chapter-6/data/rnaddrkor/jibun_rnaddrkor_daejeon.txt, Number of lines: 11926\n"
     ]
    },
    {
     "name": "stderr",
     "output_type": "stream",
     "text": [
      "Processing files: 100%|██████████| 17/17 [00:25<00:00,  1.50s/it]"
     ]
    },
    {
     "name": "stdout",
     "output_type": "stream",
     "text": [
      "Total number of lines: 1864591\n"
     ]
    },
    {
     "name": "stderr",
     "output_type": "stream",
     "text": [
      "\n"
     ]
    }
   ],
   "source": [
    "import os\n",
    "from tqdm import tqdm\n",
    "\n",
    "total_line_count = 0  # 총 행수를 저장할 변수\n",
    "\n",
    "for file in tqdm(file_list, desc='Processing files'):\n",
    "    file_path = os.path.abspath(file)\n",
    "\n",
    "    # cp949로 파일 읽고 행 불러오기\n",
    "    with open(file_path, 'r', encoding='cp949', errors='ignore') as f:\n",
    "        lines = f.readlines()\n",
    "    \n",
    "    # 행 수 계산\n",
    "    line_count = len(lines)\n",
    "    \n",
    "    # 총 행 수에 더하기\n",
    "    total_line_count += line_count\n",
    "\n",
    "    # cp949로 읽은 파일을 utf8로 임시파일에 저장\n",
    "    temp_file_path = \"temp_file.txt\"\n",
    "    with open(temp_file_path, 'w', encoding='utf8') as f:\n",
    "        f.writelines(lines)\n",
    "\n",
    "    sql = f'''\n",
    "        LOAD DATA LOCAL INFILE \"{temp_file_path}\" INTO TABLE rnaddrkor_jibun\n",
    "        FIELDS TERMINATED BY \"|\";\n",
    "    '''\n",
    "    print(f\"Processing file: {file_path}, Number of lines: {line_count}\")\n",
    "    query_put(sql)\n",
    "\n",
    "    # 임시파일 삭제\n",
    "    os.remove(temp_file_path)\n",
    "\n",
    "print(f\"Total number of lines: {total_line_count}\")"
   ]
  },
  {
   "cell_type": "code",
   "execution_count": 173,
   "metadata": {},
   "outputs": [
    {
     "data": {
      "text/plain": [
       "[{'도로명주소관리번호': '11110101310001200009900004',\n",
       "  '법정동코드': '1111010100',\n",
       "  '시도명': '서울특별시',\n",
       "  '시군구명': '종로구',\n",
       "  '법정읍면동명': '청운동',\n",
       "  '법정리명': '',\n",
       "  '산여부': '0',\n",
       "  '지번본번(번지)': 130,\n",
       "  '지번부번(호)': 3,\n",
       "  '도로명코드': '111103100012',\n",
       "  '지하여부': '0',\n",
       "  '건물본번': 99,\n",
       "  '건물부번': 4,\n",
       "  '이동사유코드': ''},\n",
       " {'도로명주소관리번호': '11110101310001200010100000',\n",
       "  '법정동코드': '1111010100',\n",
       "  '시도명': '서울특별시',\n",
       "  '시군구명': '종로구',\n",
       "  '법정읍면동명': '청운동',\n",
       "  '법정리명': '',\n",
       "  '산여부': '0',\n",
       "  '지번본번(번지)': 129,\n",
       "  '지번부번(호)': 2,\n",
       "  '도로명코드': '111103100012',\n",
       "  '지하여부': '0',\n",
       "  '건물본번': 101,\n",
       "  '건물부번': 0,\n",
       "  '이동사유코드': ''},\n",
       " {'도로명주소관리번호': '11110101310001200010100000',\n",
       "  '법정동코드': '1111010100',\n",
       "  '시도명': '서울특별시',\n",
       "  '시군구명': '종로구',\n",
       "  '법정읍면동명': '청운동',\n",
       "  '법정리명': '',\n",
       "  '산여부': '0',\n",
       "  '지번본번(번지)': 129,\n",
       "  '지번부번(호)': 3,\n",
       "  '도로명코드': '111103100012',\n",
       "  '지하여부': '0',\n",
       "  '건물본번': 101,\n",
       "  '건물부번': 0,\n",
       "  '이동사유코드': ''},\n",
       " {'도로명주소관리번호': '11110101310001200010100000',\n",
       "  '법정동코드': '1111010100',\n",
       "  '시도명': '서울특별시',\n",
       "  '시군구명': '종로구',\n",
       "  '법정읍면동명': '청운동',\n",
       "  '법정리명': '',\n",
       "  '산여부': '0',\n",
       "  '지번본번(번지)': 131,\n",
       "  '지번부번(호)': 1,\n",
       "  '도로명코드': '111103100012',\n",
       "  '지하여부': '0',\n",
       "  '건물본번': 101,\n",
       "  '건물부번': 0,\n",
       "  '이동사유코드': ''},\n",
       " {'도로명주소관리번호': '11110101310001200010300000',\n",
       "  '법정동코드': '1111010100',\n",
       "  '시도명': '서울특별시',\n",
       "  '시군구명': '종로구',\n",
       "  '법정읍면동명': '청운동',\n",
       "  '법정리명': '',\n",
       "  '산여부': '0',\n",
       "  '지번본번(번지)': 129,\n",
       "  '지번부번(호)': 1,\n",
       "  '도로명코드': '111103100012',\n",
       "  '지하여부': '0',\n",
       "  '건물본번': 103,\n",
       "  '건물부번': 0,\n",
       "  '이동사유코드': ''}]"
      ]
     },
     "execution_count": 173,
     "metadata": {},
     "output_type": "execute_result"
    }
   ],
   "source": [
    "sql = \"SELECT * FROM rnaddrkor_jibun LIMIT 5;\"\n",
    "query_get(sql)"
   ]
  },
  {
   "cell_type": "code",
   "execution_count": 174,
   "metadata": {},
   "outputs": [
    {
     "data": {
      "text/plain": [
       "[{'COUNT(*)': 1864591}]"
      ]
     },
     "execution_count": 174,
     "metadata": {},
     "output_type": "execute_result"
    }
   ],
   "source": [
    "sql = \"SELECT COUNT(*) FROM rnaddrkor_jibun;\"\n",
    "query_get(sql)"
   ]
  },
  {
   "cell_type": "markdown",
   "metadata": {},
   "source": [
    "## 6.6 SQL로 데이터 분석하기"
   ]
  },
  {
   "cell_type": "markdown",
   "metadata": {},
   "source": []
  }
 ],
 "metadata": {
  "kernelspec": {
   "display_name": "Python 3",
   "language": "python",
   "name": "python3"
  },
  "language_info": {
   "codemirror_mode": {
    "name": "ipython",
    "version": 3
   },
   "file_extension": ".py",
   "mimetype": "text/x-python",
   "name": "python",
   "nbconvert_exporter": "python",
   "pygments_lexer": "ipython3",
   "version": "3.9.16"
  }
 },
 "nbformat": 4,
 "nbformat_minor": 2
}
