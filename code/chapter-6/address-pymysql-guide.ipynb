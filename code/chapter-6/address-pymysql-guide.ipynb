{
 "cells": [
  {
   "cell_type": "markdown",
   "metadata": {},
   "source": [
    "# 6장. 파이썬과 MySQL로 구축하는 주소 데이터베이스 \n",
    "\n",
    "- 작성자: 박하람\n",
    "- 작성일자: 2024.02.22"
   ]
  },
  {
   "cell_type": "markdown",
   "metadata": {},
   "source": [
    "## 6.2 프로젝트 환경 구축하기 \n",
    "\n",
    "### 파이썬 노트북으로 MySQL 연결하기"
   ]
  },
  {
   "cell_type": "code",
   "execution_count": 1,
   "metadata": {},
   "outputs": [
    {
     "name": "stdout",
     "output_type": "stream",
     "text": [
      "Requirement already satisfied: pymysql in /Users/harampark/Desktop/labs/2.internship/2023/address-realtime-analysis/.conda/lib/python3.9/site-packages (1.1.0)\n"
     ]
    }
   ],
   "source": [
    "!pip3 install pymysql"
   ]
  },
  {
   "cell_type": "code",
   "execution_count": 16,
   "metadata": {},
   "outputs": [
    {
     "name": "stdout",
     "output_type": "stream",
     "text": [
      "{'Database': 'information_schema'}\n",
      "{'Database': 'mysql'}\n",
      "{'Database': 'performance_schema'}\n",
      "{'Database': 'sys'}\n"
     ]
    }
   ],
   "source": [
    "import pymysql\n",
    "\n",
    "def init_connection():\n",
    "    connection = pymysql.connect(\n",
    "        host=\"localhost\",\n",
    "        port=3306,\n",
    "        user=\"root\",\n",
    "        password=\"root\",\n",
    "        cursorclass=pymysql.cursors.DictCursor,\n",
    "        charset=\"utf8\",\n",
    "    )\n",
    "    return connection\n",
    "\n",
    "sql = \"SHOW DATABASES;\"\n",
    "conn = init_connection()\n",
    "\n",
    "with conn:\n",
    "    with conn.cursor() as cur:\n",
    "        cur.execute(sql)\n",
    "        for data in cur:\n",
    "            print(data)"
   ]
  },
  {
   "cell_type": "markdown",
   "metadata": {},
   "source": [
    "## 6.3 데이터베이스 생성하기"
   ]
  },
  {
   "cell_type": "markdown",
   "metadata": {},
   "source": [
    "### 데이터베이스 생성하기"
   ]
  },
  {
   "cell_type": "code",
   "execution_count": 17,
   "metadata": {},
   "outputs": [],
   "source": [
    "conn = init_connection()\n",
    "sql = \"CREATE DATABASE address;\"\n",
    "\n",
    "with conn:\n",
    "    with conn.cursor() as cur:\n",
    "        cur.execute(sql)\n",
    "        conn.commit()"
   ]
  },
  {
   "cell_type": "code",
   "execution_count": 18,
   "metadata": {},
   "outputs": [
    {
     "name": "stdout",
     "output_type": "stream",
     "text": [
      "{'Database': 'address'}\n",
      "{'Database': 'information_schema'}\n",
      "{'Database': 'mysql'}\n",
      "{'Database': 'performance_schema'}\n",
      "{'Database': 'sys'}\n"
     ]
    }
   ],
   "source": [
    "conn = init_connection()\n",
    "\n",
    "sql = \"SHOW DATABASES;\"\n",
    "\n",
    "with conn:\n",
    "    with conn.cursor() as cur:\n",
    "        cur.execute(sql)\n",
    "        for data in cur:\n",
    "            print(data)"
   ]
  },
  {
   "cell_type": "markdown",
   "metadata": {},
   "source": [
    "## 6.4 테이블 생성하기"
   ]
  },
  {
   "cell_type": "markdown",
   "metadata": {},
   "source": [
    "### 테이블 생성하기"
   ]
  },
  {
   "cell_type": "code",
   "execution_count": 25,
   "metadata": {},
   "outputs": [],
   "source": [
    "def init_db_connection():\n",
    "    connection = pymysql.connect(\n",
    "        host=\"localhost\",\n",
    "        port=3306,\n",
    "        user=\"root\",\n",
    "        password=\"root\",\n",
    "        database=\"address\",\n",
    "        cursorclass=pymysql.cursors.DictCursor,\n",
    "        charset=\"utf8\",\n",
    "    )\n",
    "    return connection\n",
    "\n",
    "def query_get(sql):\n",
    "    connection = init_db_connection()\n",
    "    with connection:\n",
    "        with connection.cursor() as cursor:\n",
    "            cursor.execute(sql)\n",
    "            return cursor.fetchall()\n",
    "\n",
    "def query_update(sql):\n",
    "    connection = init_db_connection()\n",
    "    with connection:\n",
    "        with connection.cursor() as cursor:\n",
    "            cursor.execute(sql)\n",
    "            connection.commit()\n",
    "            return True"
   ]
  },
  {
   "cell_type": "code",
   "execution_count": 23,
   "metadata": {},
   "outputs": [
    {
     "data": {
      "text/plain": [
       "True"
      ]
     },
     "execution_count": 23,
     "metadata": {},
     "output_type": "execute_result"
    }
   ],
   "source": [
    "sql = '''\n",
    "    CREATE TABLE `rnaddrkor` (\n",
    "        `도로명주소관리번호` varchar(26) NOT NULL,\n",
    "        `법정동코드` varchar(10),\n",
    "        `시도명` varchar(40),\n",
    "        `시군구명` varchar(40),\n",
    "        `읍면동명` varchar(40),\n",
    "        `리명` varchar(40),\n",
    "        `산여부` varchar(1),\n",
    "        `번지` varchar(4),\n",
    "        `호` varchar(4),\n",
    "        `도로명코드` varchar(12) NOT NULL,\n",
    "        `도로명` varchar(80),\n",
    "        `지하여부` varchar(1) NOT NULL,\n",
    "        `건물본번` int(5) ZEROFILL NOT NULL,\n",
    "        `건물부번` int(5) ZEROFILL NOT NULL,\n",
    "        `행정동코드` varchar(60),\n",
    "        `행정동명` varchar(60),\n",
    "        `기초구역번호(우편번호)` varchar(5),\n",
    "        `이전도로명주소` varchar(400),\n",
    "        `효력발생일` varchar(8),\n",
    "        `공동주택구분` varchar(1),\n",
    "        `이동사유코드` varchar(2),\n",
    "        `건축물대장건물명` varchar(400),\n",
    "        `시군구용건물명` varchar(400),\n",
    "        `비고` varchar(200),\n",
    "        PRIMARY KEY (`도로명주소관리번호`, `도로명코드`, `지하여부`, `건물본번`, `건물부번`)\n",
    "    );\n",
    "'''\n",
    "\n",
    "query_update(sql)"
   ]
  },
  {
   "cell_type": "code",
   "execution_count": 28,
   "metadata": {},
   "outputs": [
    {
     "data": {
      "text/plain": [
       "True"
      ]
     },
     "execution_count": 28,
     "metadata": {},
     "output_type": "execute_result"
    }
   ],
   "source": [
    "sql = '''\n",
    "    CREATE TABLE `rnaddrkor_jibun` (\n",
    "        `도로명주소관리번호` varchar(26) NOT NULL,\n",
    "        `법정동코드` varchar(10) NOT NULL,\n",
    "        `시도명` varchar(40),\n",
    "        `시군구명` varchar(40),\n",
    "        `법정읍면동명` varchar(40),\n",
    "        `법정리명` varchar(40),\n",
    "        `산여부` varchar(1) NOT NULL,\n",
    "        `지번본번(번지)` int(4) ZEROFILL NOT NULL,\n",
    "        `지번부번(호)` int(4) ZEROFILL NOT NULL,\n",
    "        `도로명코드` varchar(12),\n",
    "        `지하여부` varchar(1),\n",
    "        `건물본번` int(5),\n",
    "        `건물부번` int(5),\n",
    "        `이동사유코드` varchar(2),\n",
    "        PRIMARY KEY (`도로명주소관리번호`, `법정동코드`, `산여부`, `지번본번(번지)`, `지번부번(호)`)\n",
    "    );\n",
    "'''\n",
    "\n",
    "query_update(sql)"
   ]
  },
  {
   "cell_type": "code",
   "execution_count": 29,
   "metadata": {},
   "outputs": [
    {
     "data": {
      "text/plain": [
       "[{'Tables_in_address': 'rnaddrkor'}, {'Tables_in_address': 'rnaddrkor_jibun'}]"
      ]
     },
     "execution_count": 29,
     "metadata": {},
     "output_type": "execute_result"
    }
   ],
   "source": [
    "query_get(\"SHOW TABLES;\")"
   ]
  },
  {
   "cell_type": "code",
   "execution_count": 27,
   "metadata": {},
   "outputs": [
    {
     "data": {
      "text/plain": [
       "[{'Field': '도로명주소관리번호',\n",
       "  'Type': 'varchar(26)',\n",
       "  'Null': 'NO',\n",
       "  'Key': 'PRI',\n",
       "  'Default': None,\n",
       "  'Extra': ''},\n",
       " {'Field': '법정동코드',\n",
       "  'Type': 'varchar(10)',\n",
       "  'Null': 'YES',\n",
       "  'Key': '',\n",
       "  'Default': None,\n",
       "  'Extra': ''},\n",
       " {'Field': '시도명',\n",
       "  'Type': 'varchar(40)',\n",
       "  'Null': 'YES',\n",
       "  'Key': '',\n",
       "  'Default': None,\n",
       "  'Extra': ''},\n",
       " {'Field': '시군구명',\n",
       "  'Type': 'varchar(40)',\n",
       "  'Null': 'YES',\n",
       "  'Key': '',\n",
       "  'Default': None,\n",
       "  'Extra': ''},\n",
       " {'Field': '읍면동명',\n",
       "  'Type': 'varchar(40)',\n",
       "  'Null': 'YES',\n",
       "  'Key': '',\n",
       "  'Default': None,\n",
       "  'Extra': ''},\n",
       " {'Field': '리명',\n",
       "  'Type': 'varchar(40)',\n",
       "  'Null': 'YES',\n",
       "  'Key': '',\n",
       "  'Default': None,\n",
       "  'Extra': ''},\n",
       " {'Field': '산여부',\n",
       "  'Type': 'varchar(1)',\n",
       "  'Null': 'YES',\n",
       "  'Key': '',\n",
       "  'Default': None,\n",
       "  'Extra': ''},\n",
       " {'Field': '번지',\n",
       "  'Type': 'varchar(4)',\n",
       "  'Null': 'YES',\n",
       "  'Key': '',\n",
       "  'Default': None,\n",
       "  'Extra': ''},\n",
       " {'Field': '호',\n",
       "  'Type': 'varchar(4)',\n",
       "  'Null': 'YES',\n",
       "  'Key': '',\n",
       "  'Default': None,\n",
       "  'Extra': ''},\n",
       " {'Field': '도로명코드',\n",
       "  'Type': 'varchar(12)',\n",
       "  'Null': 'NO',\n",
       "  'Key': 'PRI',\n",
       "  'Default': None,\n",
       "  'Extra': ''},\n",
       " {'Field': '도로명',\n",
       "  'Type': 'varchar(80)',\n",
       "  'Null': 'YES',\n",
       "  'Key': '',\n",
       "  'Default': None,\n",
       "  'Extra': ''},\n",
       " {'Field': '지하여부',\n",
       "  'Type': 'varchar(1)',\n",
       "  'Null': 'NO',\n",
       "  'Key': 'PRI',\n",
       "  'Default': None,\n",
       "  'Extra': ''},\n",
       " {'Field': '건물본번',\n",
       "  'Type': 'int(5) unsigned zerofill',\n",
       "  'Null': 'NO',\n",
       "  'Key': 'PRI',\n",
       "  'Default': None,\n",
       "  'Extra': ''},\n",
       " {'Field': '건물부번',\n",
       "  'Type': 'int(5) unsigned zerofill',\n",
       "  'Null': 'NO',\n",
       "  'Key': 'PRI',\n",
       "  'Default': None,\n",
       "  'Extra': ''},\n",
       " {'Field': '행정동코드',\n",
       "  'Type': 'varchar(60)',\n",
       "  'Null': 'YES',\n",
       "  'Key': '',\n",
       "  'Default': None,\n",
       "  'Extra': ''},\n",
       " {'Field': '행정동명',\n",
       "  'Type': 'varchar(60)',\n",
       "  'Null': 'YES',\n",
       "  'Key': '',\n",
       "  'Default': None,\n",
       "  'Extra': ''},\n",
       " {'Field': '기초구역번호(우편번호)',\n",
       "  'Type': 'varchar(5)',\n",
       "  'Null': 'YES',\n",
       "  'Key': '',\n",
       "  'Default': None,\n",
       "  'Extra': ''},\n",
       " {'Field': '이전도로명주소',\n",
       "  'Type': 'varchar(400)',\n",
       "  'Null': 'YES',\n",
       "  'Key': '',\n",
       "  'Default': None,\n",
       "  'Extra': ''},\n",
       " {'Field': '효력발생일',\n",
       "  'Type': 'varchar(8)',\n",
       "  'Null': 'YES',\n",
       "  'Key': '',\n",
       "  'Default': None,\n",
       "  'Extra': ''},\n",
       " {'Field': '공동주택구분',\n",
       "  'Type': 'varchar(1)',\n",
       "  'Null': 'YES',\n",
       "  'Key': '',\n",
       "  'Default': None,\n",
       "  'Extra': ''},\n",
       " {'Field': '이동사유코드',\n",
       "  'Type': 'varchar(2)',\n",
       "  'Null': 'YES',\n",
       "  'Key': '',\n",
       "  'Default': None,\n",
       "  'Extra': ''},\n",
       " {'Field': '건축물대장건물명',\n",
       "  'Type': 'varchar(400)',\n",
       "  'Null': 'YES',\n",
       "  'Key': '',\n",
       "  'Default': None,\n",
       "  'Extra': ''},\n",
       " {'Field': '시군구용건물명',\n",
       "  'Type': 'varchar(400)',\n",
       "  'Null': 'YES',\n",
       "  'Key': '',\n",
       "  'Default': None,\n",
       "  'Extra': ''},\n",
       " {'Field': '비고',\n",
       "  'Type': 'varchar(200)',\n",
       "  'Null': 'YES',\n",
       "  'Key': '',\n",
       "  'Default': None,\n",
       "  'Extra': ''}]"
      ]
     },
     "execution_count": 27,
     "metadata": {},
     "output_type": "execute_result"
    }
   ],
   "source": [
    "query_get(\"DESC rnaddrkor;\")"
   ]
  },
  {
   "cell_type": "markdown",
   "metadata": {},
   "source": [
    "## 6.5 데이터 삽입하기"
   ]
  },
  {
   "cell_type": "code",
   "execution_count": null,
   "metadata": {},
   "outputs": [],
   "source": []
  },
  {
   "cell_type": "markdown",
   "metadata": {},
   "source": [
    "## 6.6 SQL로 데이터 분석하기"
   ]
  },
  {
   "cell_type": "markdown",
   "metadata": {},
   "source": []
  }
 ],
 "metadata": {
  "kernelspec": {
   "display_name": "Python 3",
   "language": "python",
   "name": "python3"
  },
  "language_info": {
   "codemirror_mode": {
    "name": "ipython",
    "version": 3
   },
   "file_extension": ".py",
   "mimetype": "text/x-python",
   "name": "python",
   "nbconvert_exporter": "python",
   "pygments_lexer": "ipython3",
   "version": "3.9.16"
  }
 },
 "nbformat": 4,
 "nbformat_minor": 2
}
